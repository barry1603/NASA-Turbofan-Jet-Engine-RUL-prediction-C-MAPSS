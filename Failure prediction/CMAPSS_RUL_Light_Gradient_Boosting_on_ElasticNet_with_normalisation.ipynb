{
 "cells": [
  {
   "cell_type": "code",
   "execution_count": 22,
   "metadata": {
    "colab": {
     "base_uri": "https://localhost:8080/",
     "height": 36
    },
    "id": "FDalluwXbsXk",
    "outputId": "164a726b-5f9b-4308-c1cf-531d41e09b47"
   },
   "outputs": [
    {
     "data": {
      "text/plain": [
       "\"from google.colab import drive\\ndrive.mount('/content/drive')\""
      ]
     },
     "execution_count": 22,
     "metadata": {},
     "output_type": "execute_result"
    }
   ],
   "source": [
    "'''from google.colab import drive\n",
    "drive.mount('/content/drive')'''"
   ]
  },
  {
   "cell_type": "code",
   "execution_count": 23,
   "metadata": {
    "id": "7bwRBIw1808g"
   },
   "outputs": [],
   "source": [
    "#!pip install catboost"
   ]
  },
  {
   "cell_type": "code",
   "execution_count": 24,
   "metadata": {
    "id": "090U59DPJm7F"
   },
   "outputs": [],
   "source": [
    "import numpy as np\n",
    "import pandas as pd\n",
    "import matplotlib.pyplot as plt\n",
    "import seaborn as sns\n",
    "\n",
    "from sklearn.linear_model import LinearRegression, Lasso, Ridge, ElasticNet\n",
    "from sklearn.tree import DecisionTreeRegressor\n",
    "from sklearn.ensemble import RandomForestRegressor, GradientBoostingRegressor, AdaBoostRegressor, ExtraTreesRegressor\n",
    "from sklearn.svm import SVR\n",
    "from sklearn.neighbors import KNeighborsRegressor\n",
    "from xgboost import XGBRegressor\n",
    "from sklearn.model_selection import GridSearchCV\n",
    "\n",
    "from sklearn.metrics import mean_squared_error, mean_absolute_error, r2_score\n",
    "from scipy.stats import pearsonr\n",
    "\n",
    "from sklearn.preprocessing import MinMaxScaler, StandardScaler"
   ]
  },
  {
   "cell_type": "code",
   "execution_count": 25,
   "metadata": {
    "id": "sCVZb8EK9-RF"
   },
   "outputs": [],
   "source": [
    "#myfolder = \"./\"\n",
    "myfolder = \"../data/CMaps/\""
   ]
  },
  {
   "cell_type": "markdown",
   "metadata": {
    "id": "eK6zG_tsRZFx"
   },
   "source": [
    "# **Columns' names**"
   ]
  },
  {
   "cell_type": "code",
   "execution_count": 26,
   "metadata": {
    "id": "03uUZbfWF9Yj"
   },
   "outputs": [],
   "source": [
    "#Columns' names\n",
    "'''\n",
    "1)  unit number\n",
    "2)\ttime, in cycles\n",
    "3)\toperational setting 1\n",
    "4)\toperational setting 2\n",
    "5)\toperational setting 3\n",
    "6)\tsensor measurement  1\n",
    "7)\tsensor measurement  2\n",
    "...\n",
    "26)\tsensor measurement  21\n",
    "'''\n",
    "unitNames = ['UnitNumber']\n",
    "timeCycles = [\"TimeInCycles\"]\n",
    "operSets = [\"OperSet\"+str(i) for i in range(1,4)] # 1,2 et 3\n",
    "sensorMes = [\"SensorMes\"+str(j) for j in range(1, 22)] # de 1 à 21\n",
    "columnsNames = unitNames + timeCycles + operSets +sensorMes"
   ]
  },
  {
   "cell_type": "markdown",
   "metadata": {
    "id": "Pk7OEGaFRpHx"
   },
   "source": [
    "# **Datasets loading**"
   ]
  },
  {
   "cell_type": "code",
   "execution_count": 27,
   "metadata": {
    "id": "2zNavW8eUubj"
   },
   "outputs": [],
   "source": [
    "def data_loading(x):\n",
    "  train_path = myfolder + \"train_\"+ x +\".txt\"\n",
    "  test_path = myfolder + \"test_\"+ x +\".txt\"\n",
    "  rul_path = myfolder + \"RUL_\"+ x +\".txt\"\n",
    "  train = pd.read_csv(train_path, delim_whitespace=True, names=columnsNames)\n",
    "  test = pd.read_csv(test_path, delim_whitespace=True, names=columnsNames)\n",
    "  rul = pd.read_csv(rul_path, delim_whitespace=True, names=[\"RUL_FD\"])\n",
    "  return train, test, rul\n",
    "\n",
    "train_fd001, test_fd001, rul_fd001 = data_loading(\"FD001\")\n",
    "train_fd002, test_fd002, rul_fd002 = data_loading(\"FD002\")\n",
    "train_fd003, test_fd003, rul_fd003 = data_loading(\"FD003\")\n",
    "train_fd004, test_fd004, rul_fd004 = data_loading(\"FD004\")"
   ]
  },
  {
   "cell_type": "code",
   "execution_count": 28,
   "metadata": {
    "colab": {
     "base_uri": "https://localhost:8080/",
     "height": 207
    },
    "id": "2D0p8HcQVpPu",
    "outputId": "8cbb0a99-b076-4e0e-bdcd-66bb68e4c9fd"
   },
   "outputs": [
    {
     "data": {
      "text/html": [
       "<div>\n",
       "<style scoped>\n",
       "    .dataframe tbody tr th:only-of-type {\n",
       "        vertical-align: middle;\n",
       "    }\n",
       "\n",
       "    .dataframe tbody tr th {\n",
       "        vertical-align: top;\n",
       "    }\n",
       "\n",
       "    .dataframe thead th {\n",
       "        text-align: right;\n",
       "    }\n",
       "</style>\n",
       "<table border=\"1\" class=\"dataframe\">\n",
       "  <thead>\n",
       "    <tr style=\"text-align: right;\">\n",
       "      <th></th>\n",
       "      <th>UnitNumber</th>\n",
       "      <th>TimeInCycles</th>\n",
       "      <th>OperSet1</th>\n",
       "      <th>OperSet2</th>\n",
       "      <th>OperSet3</th>\n",
       "      <th>SensorMes1</th>\n",
       "      <th>SensorMes2</th>\n",
       "      <th>SensorMes3</th>\n",
       "      <th>SensorMes4</th>\n",
       "      <th>SensorMes5</th>\n",
       "      <th>SensorMes6</th>\n",
       "      <th>SensorMes7</th>\n",
       "      <th>SensorMes8</th>\n",
       "      <th>SensorMes9</th>\n",
       "      <th>SensorMes10</th>\n",
       "      <th>SensorMes11</th>\n",
       "      <th>SensorMes12</th>\n",
       "      <th>SensorMes13</th>\n",
       "      <th>SensorMes14</th>\n",
       "      <th>SensorMes15</th>\n",
       "      <th>SensorMes16</th>\n",
       "      <th>SensorMes17</th>\n",
       "      <th>SensorMes18</th>\n",
       "      <th>SensorMes19</th>\n",
       "      <th>SensorMes20</th>\n",
       "      <th>SensorMes21</th>\n",
       "    </tr>\n",
       "  </thead>\n",
       "  <tbody>\n",
       "    <tr>\n",
       "      <th>0</th>\n",
       "      <td>1</td>\n",
       "      <td>1</td>\n",
       "      <td>42.0049</td>\n",
       "      <td>0.8400</td>\n",
       "      <td>100.0</td>\n",
       "      <td>445.00</td>\n",
       "      <td>549.68</td>\n",
       "      <td>1343.43</td>\n",
       "      <td>1112.93</td>\n",
       "      <td>3.91</td>\n",
       "      <td>5.70</td>\n",
       "      <td>137.36</td>\n",
       "      <td>2211.86</td>\n",
       "      <td>8311.32</td>\n",
       "      <td>1.01</td>\n",
       "      <td>41.69</td>\n",
       "      <td>129.78</td>\n",
       "      <td>2387.99</td>\n",
       "      <td>8074.83</td>\n",
       "      <td>9.3335</td>\n",
       "      <td>0.02</td>\n",
       "      <td>330</td>\n",
       "      <td>2212</td>\n",
       "      <td>100.0</td>\n",
       "      <td>10.62</td>\n",
       "      <td>6.3670</td>\n",
       "    </tr>\n",
       "    <tr>\n",
       "      <th>1</th>\n",
       "      <td>1</td>\n",
       "      <td>2</td>\n",
       "      <td>20.0020</td>\n",
       "      <td>0.7002</td>\n",
       "      <td>100.0</td>\n",
       "      <td>491.19</td>\n",
       "      <td>606.07</td>\n",
       "      <td>1477.61</td>\n",
       "      <td>1237.50</td>\n",
       "      <td>9.35</td>\n",
       "      <td>13.61</td>\n",
       "      <td>332.10</td>\n",
       "      <td>2323.66</td>\n",
       "      <td>8713.60</td>\n",
       "      <td>1.07</td>\n",
       "      <td>43.94</td>\n",
       "      <td>312.59</td>\n",
       "      <td>2387.73</td>\n",
       "      <td>8046.13</td>\n",
       "      <td>9.1913</td>\n",
       "      <td>0.02</td>\n",
       "      <td>361</td>\n",
       "      <td>2324</td>\n",
       "      <td>100.0</td>\n",
       "      <td>24.37</td>\n",
       "      <td>14.6552</td>\n",
       "    </tr>\n",
       "    <tr>\n",
       "      <th>2</th>\n",
       "      <td>1</td>\n",
       "      <td>3</td>\n",
       "      <td>42.0038</td>\n",
       "      <td>0.8409</td>\n",
       "      <td>100.0</td>\n",
       "      <td>445.00</td>\n",
       "      <td>548.95</td>\n",
       "      <td>1343.12</td>\n",
       "      <td>1117.05</td>\n",
       "      <td>3.91</td>\n",
       "      <td>5.69</td>\n",
       "      <td>138.18</td>\n",
       "      <td>2211.92</td>\n",
       "      <td>8306.69</td>\n",
       "      <td>1.01</td>\n",
       "      <td>41.66</td>\n",
       "      <td>129.62</td>\n",
       "      <td>2387.97</td>\n",
       "      <td>8066.62</td>\n",
       "      <td>9.4007</td>\n",
       "      <td>0.02</td>\n",
       "      <td>329</td>\n",
       "      <td>2212</td>\n",
       "      <td>100.0</td>\n",
       "      <td>10.48</td>\n",
       "      <td>6.4213</td>\n",
       "    </tr>\n",
       "  </tbody>\n",
       "</table>\n",
       "</div>"
      ],
      "text/plain": [
       "   UnitNumber  TimeInCycles  OperSet1  OperSet2  OperSet3  SensorMes1  \\\n",
       "0           1             1   42.0049    0.8400     100.0      445.00   \n",
       "1           1             2   20.0020    0.7002     100.0      491.19   \n",
       "2           1             3   42.0038    0.8409     100.0      445.00   \n",
       "\n",
       "   SensorMes2  SensorMes3  SensorMes4  SensorMes5  SensorMes6  SensorMes7  \\\n",
       "0      549.68     1343.43     1112.93        3.91        5.70      137.36   \n",
       "1      606.07     1477.61     1237.50        9.35       13.61      332.10   \n",
       "2      548.95     1343.12     1117.05        3.91        5.69      138.18   \n",
       "\n",
       "   SensorMes8  SensorMes9  SensorMes10  SensorMes11  SensorMes12  SensorMes13  \\\n",
       "0     2211.86     8311.32         1.01        41.69       129.78      2387.99   \n",
       "1     2323.66     8713.60         1.07        43.94       312.59      2387.73   \n",
       "2     2211.92     8306.69         1.01        41.66       129.62      2387.97   \n",
       "\n",
       "   SensorMes14  SensorMes15  SensorMes16  SensorMes17  SensorMes18  \\\n",
       "0      8074.83       9.3335         0.02          330         2212   \n",
       "1      8046.13       9.1913         0.02          361         2324   \n",
       "2      8066.62       9.4007         0.02          329         2212   \n",
       "\n",
       "   SensorMes19  SensorMes20  SensorMes21  \n",
       "0        100.0        10.62       6.3670  \n",
       "1        100.0        24.37      14.6552  \n",
       "2        100.0        10.48       6.4213  "
      ]
     },
     "execution_count": 28,
     "metadata": {},
     "output_type": "execute_result"
    }
   ],
   "source": [
    "# Forcer l'affichage de toutes les colonnes\n",
    "pd.set_option('display.max_columns', None)\n",
    "\n",
    "train_fd004.head(3)"
   ]
  },
  {
   "cell_type": "markdown",
   "metadata": {
    "id": "-iHEenEWSFa2"
   },
   "source": [
    "# **RUL column generation for train and test set**"
   ]
  },
  {
   "cell_type": "code",
   "execution_count": 29,
   "metadata": {
    "id": "iQLmNp5STg3q"
   },
   "outputs": [],
   "source": [
    "def rul_train_generation(x):\n",
    "  rul = pd.DataFrame(x.groupby('UnitNumber')['TimeInCycles'].max()).reset_index()\n",
    "  rul.columns = ['UnitNumber', 'max']\n",
    "  x = x.merge(rul, on=['UnitNumber'], how='left')\n",
    "  x['RUL'] = x['max'] - x['TimeInCycles']\n",
    "  x.drop('max', axis=1, inplace=True)\n",
    "  return x\n",
    "\n",
    "train_fd001 = rul_train_generation(train_fd001)\n",
    "train_fd002 = rul_train_generation(train_fd002)\n",
    "train_fd003 = rul_train_generation(train_fd003)\n",
    "train_fd004 = rul_train_generation(train_fd004)"
   ]
  },
  {
   "cell_type": "code",
   "execution_count": 30,
   "metadata": {
    "colab": {
     "base_uri": "https://localhost:8080/",
     "height": 207
    },
    "id": "2b0ThgOYbOJq",
    "outputId": "212b1097-64ca-4b2c-ef19-be77921a4fea"
   },
   "outputs": [
    {
     "data": {
      "text/html": [
       "<div>\n",
       "<style scoped>\n",
       "    .dataframe tbody tr th:only-of-type {\n",
       "        vertical-align: middle;\n",
       "    }\n",
       "\n",
       "    .dataframe tbody tr th {\n",
       "        vertical-align: top;\n",
       "    }\n",
       "\n",
       "    .dataframe thead th {\n",
       "        text-align: right;\n",
       "    }\n",
       "</style>\n",
       "<table border=\"1\" class=\"dataframe\">\n",
       "  <thead>\n",
       "    <tr style=\"text-align: right;\">\n",
       "      <th></th>\n",
       "      <th>UnitNumber</th>\n",
       "      <th>TimeInCycles</th>\n",
       "      <th>OperSet1</th>\n",
       "      <th>OperSet2</th>\n",
       "      <th>OperSet3</th>\n",
       "      <th>SensorMes1</th>\n",
       "      <th>SensorMes2</th>\n",
       "      <th>SensorMes3</th>\n",
       "      <th>SensorMes4</th>\n",
       "      <th>SensorMes5</th>\n",
       "      <th>SensorMes6</th>\n",
       "      <th>SensorMes7</th>\n",
       "      <th>SensorMes8</th>\n",
       "      <th>SensorMes9</th>\n",
       "      <th>SensorMes10</th>\n",
       "      <th>SensorMes11</th>\n",
       "      <th>SensorMes12</th>\n",
       "      <th>SensorMes13</th>\n",
       "      <th>SensorMes14</th>\n",
       "      <th>SensorMes15</th>\n",
       "      <th>SensorMes16</th>\n",
       "      <th>SensorMes17</th>\n",
       "      <th>SensorMes18</th>\n",
       "      <th>SensorMes19</th>\n",
       "      <th>SensorMes20</th>\n",
       "      <th>SensorMes21</th>\n",
       "      <th>RUL</th>\n",
       "    </tr>\n",
       "  </thead>\n",
       "  <tbody>\n",
       "    <tr>\n",
       "      <th>0</th>\n",
       "      <td>1</td>\n",
       "      <td>1</td>\n",
       "      <td>42.0049</td>\n",
       "      <td>0.8400</td>\n",
       "      <td>100.0</td>\n",
       "      <td>445.00</td>\n",
       "      <td>549.68</td>\n",
       "      <td>1343.43</td>\n",
       "      <td>1112.93</td>\n",
       "      <td>3.91</td>\n",
       "      <td>5.70</td>\n",
       "      <td>137.36</td>\n",
       "      <td>2211.86</td>\n",
       "      <td>8311.32</td>\n",
       "      <td>1.01</td>\n",
       "      <td>41.69</td>\n",
       "      <td>129.78</td>\n",
       "      <td>2387.99</td>\n",
       "      <td>8074.83</td>\n",
       "      <td>9.3335</td>\n",
       "      <td>0.02</td>\n",
       "      <td>330</td>\n",
       "      <td>2212</td>\n",
       "      <td>100.0</td>\n",
       "      <td>10.62</td>\n",
       "      <td>6.3670</td>\n",
       "      <td>320</td>\n",
       "    </tr>\n",
       "    <tr>\n",
       "      <th>1</th>\n",
       "      <td>1</td>\n",
       "      <td>2</td>\n",
       "      <td>20.0020</td>\n",
       "      <td>0.7002</td>\n",
       "      <td>100.0</td>\n",
       "      <td>491.19</td>\n",
       "      <td>606.07</td>\n",
       "      <td>1477.61</td>\n",
       "      <td>1237.50</td>\n",
       "      <td>9.35</td>\n",
       "      <td>13.61</td>\n",
       "      <td>332.10</td>\n",
       "      <td>2323.66</td>\n",
       "      <td>8713.60</td>\n",
       "      <td>1.07</td>\n",
       "      <td>43.94</td>\n",
       "      <td>312.59</td>\n",
       "      <td>2387.73</td>\n",
       "      <td>8046.13</td>\n",
       "      <td>9.1913</td>\n",
       "      <td>0.02</td>\n",
       "      <td>361</td>\n",
       "      <td>2324</td>\n",
       "      <td>100.0</td>\n",
       "      <td>24.37</td>\n",
       "      <td>14.6552</td>\n",
       "      <td>319</td>\n",
       "    </tr>\n",
       "    <tr>\n",
       "      <th>2</th>\n",
       "      <td>1</td>\n",
       "      <td>3</td>\n",
       "      <td>42.0038</td>\n",
       "      <td>0.8409</td>\n",
       "      <td>100.0</td>\n",
       "      <td>445.00</td>\n",
       "      <td>548.95</td>\n",
       "      <td>1343.12</td>\n",
       "      <td>1117.05</td>\n",
       "      <td>3.91</td>\n",
       "      <td>5.69</td>\n",
       "      <td>138.18</td>\n",
       "      <td>2211.92</td>\n",
       "      <td>8306.69</td>\n",
       "      <td>1.01</td>\n",
       "      <td>41.66</td>\n",
       "      <td>129.62</td>\n",
       "      <td>2387.97</td>\n",
       "      <td>8066.62</td>\n",
       "      <td>9.4007</td>\n",
       "      <td>0.02</td>\n",
       "      <td>329</td>\n",
       "      <td>2212</td>\n",
       "      <td>100.0</td>\n",
       "      <td>10.48</td>\n",
       "      <td>6.4213</td>\n",
       "      <td>318</td>\n",
       "    </tr>\n",
       "  </tbody>\n",
       "</table>\n",
       "</div>"
      ],
      "text/plain": [
       "   UnitNumber  TimeInCycles  OperSet1  OperSet2  OperSet3  SensorMes1  \\\n",
       "0           1             1   42.0049    0.8400     100.0      445.00   \n",
       "1           1             2   20.0020    0.7002     100.0      491.19   \n",
       "2           1             3   42.0038    0.8409     100.0      445.00   \n",
       "\n",
       "   SensorMes2  SensorMes3  SensorMes4  SensorMes5  SensorMes6  SensorMes7  \\\n",
       "0      549.68     1343.43     1112.93        3.91        5.70      137.36   \n",
       "1      606.07     1477.61     1237.50        9.35       13.61      332.10   \n",
       "2      548.95     1343.12     1117.05        3.91        5.69      138.18   \n",
       "\n",
       "   SensorMes8  SensorMes9  SensorMes10  SensorMes11  SensorMes12  SensorMes13  \\\n",
       "0     2211.86     8311.32         1.01        41.69       129.78      2387.99   \n",
       "1     2323.66     8713.60         1.07        43.94       312.59      2387.73   \n",
       "2     2211.92     8306.69         1.01        41.66       129.62      2387.97   \n",
       "\n",
       "   SensorMes14  SensorMes15  SensorMes16  SensorMes17  SensorMes18  \\\n",
       "0      8074.83       9.3335         0.02          330         2212   \n",
       "1      8046.13       9.1913         0.02          361         2324   \n",
       "2      8066.62       9.4007         0.02          329         2212   \n",
       "\n",
       "   SensorMes19  SensorMes20  SensorMes21  RUL  \n",
       "0        100.0        10.62       6.3670  320  \n",
       "1        100.0        24.37      14.6552  319  \n",
       "2        100.0        10.48       6.4213  318  "
      ]
     },
     "execution_count": 30,
     "metadata": {},
     "output_type": "execute_result"
    }
   ],
   "source": [
    "train_fd004.head(3)"
   ]
  },
  {
   "cell_type": "code",
   "execution_count": 31,
   "metadata": {
    "id": "SO9r-mpZXPjO"
   },
   "outputs": [],
   "source": [
    "def rul_test_generation(x, rul):\n",
    "\n",
    "  rul[\"UnitNumber\"] = rul.index + 1 # +1 pour que UnitNumber demarre de 1 au lieu de 0, car il s'agit du numero des moteur\n",
    "\n",
    "  x = x.merge(rul, on=['UnitNumber'], how='left')\n",
    "\n",
    "  max_cycle = pd.DataFrame(x.groupby('UnitNumber')['TimeInCycles'].max()).reset_index()\n",
    "  max_cycle.columns = ['UnitNumber', 'max']\n",
    "  x = x.merge(max_cycle, on=['UnitNumber'], how='left')\n",
    "  x['RUL'] = x['RUL_FD'] + x['max'] - x['TimeInCycles']\n",
    "  x.drop(['max', 'RUL_FD'], axis=1, inplace=True)\n",
    "\n",
    "  return x\n",
    "\n",
    "test_fd001 = rul_test_generation(test_fd001, rul_fd001)\n",
    "test_fd002 = rul_test_generation(test_fd002, rul_fd002)\n",
    "test_fd003 = rul_test_generation(test_fd003, rul_fd003)\n",
    "test_fd004 = rul_test_generation(test_fd004, rul_fd004)"
   ]
  },
  {
   "cell_type": "code",
   "execution_count": 32,
   "metadata": {
    "colab": {
     "base_uri": "https://localhost:8080/",
     "height": 207
    },
    "id": "UsgIhGIrbbGe",
    "outputId": "7d5bbbc4-dea8-46b5-fcf8-882e17f7fce1"
   },
   "outputs": [
    {
     "data": {
      "text/html": [
       "<div>\n",
       "<style scoped>\n",
       "    .dataframe tbody tr th:only-of-type {\n",
       "        vertical-align: middle;\n",
       "    }\n",
       "\n",
       "    .dataframe tbody tr th {\n",
       "        vertical-align: top;\n",
       "    }\n",
       "\n",
       "    .dataframe thead th {\n",
       "        text-align: right;\n",
       "    }\n",
       "</style>\n",
       "<table border=\"1\" class=\"dataframe\">\n",
       "  <thead>\n",
       "    <tr style=\"text-align: right;\">\n",
       "      <th></th>\n",
       "      <th>UnitNumber</th>\n",
       "      <th>TimeInCycles</th>\n",
       "      <th>OperSet1</th>\n",
       "      <th>OperSet2</th>\n",
       "      <th>OperSet3</th>\n",
       "      <th>SensorMes1</th>\n",
       "      <th>SensorMes2</th>\n",
       "      <th>SensorMes3</th>\n",
       "      <th>SensorMes4</th>\n",
       "      <th>SensorMes5</th>\n",
       "      <th>SensorMes6</th>\n",
       "      <th>SensorMes7</th>\n",
       "      <th>SensorMes8</th>\n",
       "      <th>SensorMes9</th>\n",
       "      <th>SensorMes10</th>\n",
       "      <th>SensorMes11</th>\n",
       "      <th>SensorMes12</th>\n",
       "      <th>SensorMes13</th>\n",
       "      <th>SensorMes14</th>\n",
       "      <th>SensorMes15</th>\n",
       "      <th>SensorMes16</th>\n",
       "      <th>SensorMes17</th>\n",
       "      <th>SensorMes18</th>\n",
       "      <th>SensorMes19</th>\n",
       "      <th>SensorMes20</th>\n",
       "      <th>SensorMes21</th>\n",
       "      <th>RUL</th>\n",
       "    </tr>\n",
       "  </thead>\n",
       "  <tbody>\n",
       "    <tr>\n",
       "      <th>0</th>\n",
       "      <td>1</td>\n",
       "      <td>1</td>\n",
       "      <td>20.0072</td>\n",
       "      <td>0.700</td>\n",
       "      <td>100.0</td>\n",
       "      <td>491.19</td>\n",
       "      <td>606.67</td>\n",
       "      <td>1481.04</td>\n",
       "      <td>1227.81</td>\n",
       "      <td>9.35</td>\n",
       "      <td>13.60</td>\n",
       "      <td>332.52</td>\n",
       "      <td>2323.67</td>\n",
       "      <td>8704.98</td>\n",
       "      <td>1.07</td>\n",
       "      <td>43.83</td>\n",
       "      <td>313.03</td>\n",
       "      <td>2387.78</td>\n",
       "      <td>8048.98</td>\n",
       "      <td>9.2229</td>\n",
       "      <td>0.02</td>\n",
       "      <td>362</td>\n",
       "      <td>2324</td>\n",
       "      <td>100.00</td>\n",
       "      <td>24.31</td>\n",
       "      <td>14.7007</td>\n",
       "      <td>251</td>\n",
       "    </tr>\n",
       "    <tr>\n",
       "      <th>1</th>\n",
       "      <td>1</td>\n",
       "      <td>2</td>\n",
       "      <td>24.9984</td>\n",
       "      <td>0.620</td>\n",
       "      <td>60.0</td>\n",
       "      <td>462.54</td>\n",
       "      <td>536.22</td>\n",
       "      <td>1256.17</td>\n",
       "      <td>1031.48</td>\n",
       "      <td>7.05</td>\n",
       "      <td>9.00</td>\n",
       "      <td>174.46</td>\n",
       "      <td>1915.21</td>\n",
       "      <td>7999.94</td>\n",
       "      <td>0.93</td>\n",
       "      <td>36.11</td>\n",
       "      <td>163.61</td>\n",
       "      <td>2028.09</td>\n",
       "      <td>7863.46</td>\n",
       "      <td>10.8632</td>\n",
       "      <td>0.02</td>\n",
       "      <td>306</td>\n",
       "      <td>1915</td>\n",
       "      <td>84.93</td>\n",
       "      <td>14.36</td>\n",
       "      <td>8.5748</td>\n",
       "      <td>250</td>\n",
       "    </tr>\n",
       "    <tr>\n",
       "      <th>2</th>\n",
       "      <td>1</td>\n",
       "      <td>3</td>\n",
       "      <td>42.0000</td>\n",
       "      <td>0.842</td>\n",
       "      <td>100.0</td>\n",
       "      <td>445.00</td>\n",
       "      <td>549.23</td>\n",
       "      <td>1340.13</td>\n",
       "      <td>1105.88</td>\n",
       "      <td>3.91</td>\n",
       "      <td>5.69</td>\n",
       "      <td>137.34</td>\n",
       "      <td>2211.93</td>\n",
       "      <td>8305.38</td>\n",
       "      <td>1.01</td>\n",
       "      <td>41.52</td>\n",
       "      <td>129.98</td>\n",
       "      <td>2387.95</td>\n",
       "      <td>8071.13</td>\n",
       "      <td>9.3960</td>\n",
       "      <td>0.02</td>\n",
       "      <td>328</td>\n",
       "      <td>2212</td>\n",
       "      <td>100.00</td>\n",
       "      <td>10.39</td>\n",
       "      <td>6.4365</td>\n",
       "      <td>249</td>\n",
       "    </tr>\n",
       "  </tbody>\n",
       "</table>\n",
       "</div>"
      ],
      "text/plain": [
       "   UnitNumber  TimeInCycles  OperSet1  OperSet2  OperSet3  SensorMes1  \\\n",
       "0           1             1   20.0072     0.700     100.0      491.19   \n",
       "1           1             2   24.9984     0.620      60.0      462.54   \n",
       "2           1             3   42.0000     0.842     100.0      445.00   \n",
       "\n",
       "   SensorMes2  SensorMes3  SensorMes4  SensorMes5  SensorMes6  SensorMes7  \\\n",
       "0      606.67     1481.04     1227.81        9.35       13.60      332.52   \n",
       "1      536.22     1256.17     1031.48        7.05        9.00      174.46   \n",
       "2      549.23     1340.13     1105.88        3.91        5.69      137.34   \n",
       "\n",
       "   SensorMes8  SensorMes9  SensorMes10  SensorMes11  SensorMes12  SensorMes13  \\\n",
       "0     2323.67     8704.98         1.07        43.83       313.03      2387.78   \n",
       "1     1915.21     7999.94         0.93        36.11       163.61      2028.09   \n",
       "2     2211.93     8305.38         1.01        41.52       129.98      2387.95   \n",
       "\n",
       "   SensorMes14  SensorMes15  SensorMes16  SensorMes17  SensorMes18  \\\n",
       "0      8048.98       9.2229         0.02          362         2324   \n",
       "1      7863.46      10.8632         0.02          306         1915   \n",
       "2      8071.13       9.3960         0.02          328         2212   \n",
       "\n",
       "   SensorMes19  SensorMes20  SensorMes21  RUL  \n",
       "0       100.00        24.31      14.7007  251  \n",
       "1        84.93        14.36       8.5748  250  \n",
       "2       100.00        10.39       6.4365  249  "
      ]
     },
     "execution_count": 32,
     "metadata": {},
     "output_type": "execute_result"
    }
   ],
   "source": [
    "test_fd004.head(3)"
   ]
  },
  {
   "cell_type": "code",
   "execution_count": 33,
   "metadata": {
    "colab": {
     "base_uri": "https://localhost:8080/"
    },
    "id": "eVXDOlymzQhg",
    "outputId": "6b2e7900-9767-4153-a828-328e5a7095e6"
   },
   "outputs": [
    {
     "name": "stdout",
     "output_type": "stream",
     "text": [
      "train_FD001:  (20631, 27) . test_FD001:  (13096, 27) . RUL:  (100, 2)\n",
      "train_FD002:  (53759, 27) . test_FD002:  (33991, 27) . RUL:  (259, 2)\n",
      "train_FD003:  (24720, 27) . test_FD003:  (16596, 27) . RUL:  (100, 2)\n",
      "train_FD004:  (61249, 27) . test_FD004:  (41214, 27) . RUL:  (248, 2)\n"
     ]
    }
   ],
   "source": [
    "print(\"train_FD001: \",train_fd001.shape, \". test_FD001: \", test_fd001.shape,\". RUL: \", rul_fd001.shape)\n",
    "print(\"train_FD002: \",train_fd002.shape, \". test_FD002: \", test_fd002.shape,\". RUL: \", rul_fd002.shape)\n",
    "print(\"train_FD003: \",train_fd003.shape, \". test_FD003: \", test_fd003.shape,\". RUL: \", rul_fd003.shape)\n",
    "print(\"train_FD004: \",train_fd004.shape, \". test_FD004: \", test_fd004.shape,\". RUL: \", rul_fd004.shape)"
   ]
  },
  {
   "cell_type": "code",
   "execution_count": 34,
   "metadata": {
    "colab": {
     "base_uri": "https://localhost:8080/"
    },
    "id": "DIKaiZK9zQhh",
    "outputId": "d9ce2168-4728-4570-ce89-757616c87721"
   },
   "outputs": [
    {
     "name": "stdout",
     "output_type": "stream",
     "text": [
      "train_FD001:  (20631, 27) . test_FD001:  (13096, 27) . nbr moteurs 100\n",
      "train_FD002:  (53759, 27) . test_FD002:  (33991, 27) . nbr moteurs 260\n",
      "train_FD003:  (24720, 27) . test_FD003:  (16596, 27) . nbr moteurs 100\n",
      "train_FD004:  (61249, 27) . test_FD004:  (41214, 27) . nbr moteurs 249\n"
     ]
    }
   ],
   "source": [
    "print(\"train_FD001: \",train_fd001.shape, \". test_FD001: \", test_fd001.shape,\". nbr moteurs\", len(train_fd001['UnitNumber'].unique()))\n",
    "print(\"train_FD002: \",train_fd002.shape, \". test_FD002: \", test_fd002.shape,\". nbr moteurs\", len(train_fd002['UnitNumber'].unique()))\n",
    "print(\"train_FD003: \",train_fd003.shape, \". test_FD003: \", test_fd003.shape,\". nbr moteurs\", len(train_fd003['UnitNumber'].unique()))\n",
    "print(\"train_FD004: \",train_fd004.shape, \". test_FD004: \", test_fd004.shape,\". nbr moteurs\", len(train_fd004['UnitNumber'].unique()))"
   ]
  },
  {
   "cell_type": "code",
   "execution_count": 35,
   "metadata": {
    "colab": {
     "base_uri": "https://localhost:8080/"
    },
    "id": "RpvtN9GRzQhi",
    "outputId": "b41dd7b8-4b22-4850-d6b9-c93d4564551b"
   },
   "outputs": [
    {
     "data": {
      "text/plain": [
       "260"
      ]
     },
     "execution_count": 35,
     "metadata": {},
     "output_type": "execute_result"
    }
   ],
   "source": [
    "len(train_fd002['UnitNumber'].unique())"
   ]
  },
  {
   "cell_type": "markdown",
   "metadata": {
    "id": "yNh2scjNzQhj"
   },
   "source": [
    "# **Data normalization**"
   ]
  },
  {
   "cell_type": "code",
   "execution_count": 36,
   "metadata": {
    "id": "_NZIBGyfZAdU"
   },
   "outputs": [],
   "source": [
    "def normalised_df(train, test):\n",
    "\n",
    "  from sklearn.preprocessing import MinMaxScaler\n",
    "\n",
    "  # Instancier l'objet MinMaxScaler pour normaliser les données\n",
    "  scaler = MinMaxScaler()\n",
    "\n",
    "  # Normaliser train\n",
    "  train_scaled = scaler.fit_transform(train)\n",
    "  train_df = pd.DataFrame(train_scaled)\n",
    "\n",
    "  # Normaliser test\n",
    "  test_scaled = scaler.fit_transform(test)\n",
    "  test_df = pd.DataFrame(test_scaled)\n",
    "\n",
    "\n",
    "  train_df.columns = train.columns\n",
    "  test_df.columns = test.columns\n",
    "    \n",
    "  return train_df, test_df"
   ]
  },
  {
   "cell_type": "code",
   "execution_count": 37,
   "metadata": {
    "id": "M04DCWOdzQhk"
   },
   "outputs": [],
   "source": [
    "train_fd001, test_fd001 = normalised_df(train_fd001, test_fd001)\n",
    "train_fd002, test_fd002 = normalised_df(train_fd002, test_fd002)\n",
    "train_fd003, test_fd003 = normalised_df(train_fd003, test_fd003)\n",
    "train_fd004, test_fd004 = normalised_df(train_fd004, test_fd004)"
   ]
  },
  {
   "cell_type": "code",
   "execution_count": 38,
   "metadata": {
    "colab": {
     "base_uri": "https://localhost:8080/",
     "height": 207
    },
    "id": "9Qd0LZtyzQhk",
    "outputId": "6a04b597-b4cc-48c1-ce5a-db443f64051e"
   },
   "outputs": [
    {
     "data": {
      "text/html": [
       "<div>\n",
       "<style scoped>\n",
       "    .dataframe tbody tr th:only-of-type {\n",
       "        vertical-align: middle;\n",
       "    }\n",
       "\n",
       "    .dataframe tbody tr th {\n",
       "        vertical-align: top;\n",
       "    }\n",
       "\n",
       "    .dataframe thead th {\n",
       "        text-align: right;\n",
       "    }\n",
       "</style>\n",
       "<table border=\"1\" class=\"dataframe\">\n",
       "  <thead>\n",
       "    <tr style=\"text-align: right;\">\n",
       "      <th></th>\n",
       "      <th>UnitNumber</th>\n",
       "      <th>TimeInCycles</th>\n",
       "      <th>OperSet1</th>\n",
       "      <th>OperSet2</th>\n",
       "      <th>OperSet3</th>\n",
       "      <th>SensorMes1</th>\n",
       "      <th>SensorMes2</th>\n",
       "      <th>SensorMes3</th>\n",
       "      <th>SensorMes4</th>\n",
       "      <th>SensorMes5</th>\n",
       "      <th>SensorMes6</th>\n",
       "      <th>SensorMes7</th>\n",
       "      <th>SensorMes8</th>\n",
       "      <th>SensorMes9</th>\n",
       "      <th>SensorMes10</th>\n",
       "      <th>SensorMes11</th>\n",
       "      <th>SensorMes12</th>\n",
       "      <th>SensorMes13</th>\n",
       "      <th>SensorMes14</th>\n",
       "      <th>SensorMes15</th>\n",
       "      <th>SensorMes16</th>\n",
       "      <th>SensorMes17</th>\n",
       "      <th>SensorMes18</th>\n",
       "      <th>SensorMes19</th>\n",
       "      <th>SensorMes20</th>\n",
       "      <th>SensorMes21</th>\n",
       "      <th>RUL</th>\n",
       "    </tr>\n",
       "  </thead>\n",
       "  <tbody>\n",
       "    <tr>\n",
       "      <th>0</th>\n",
       "      <td>0.0</td>\n",
       "      <td>0.000000</td>\n",
       "      <td>0.999926</td>\n",
       "      <td>0.997625</td>\n",
       "      <td>1.0</td>\n",
       "      <td>0.000000</td>\n",
       "      <td>0.130347</td>\n",
       "      <td>0.272082</td>\n",
       "      <td>0.212586</td>\n",
       "      <td>0.000000</td>\n",
       "      <td>0.001882</td>\n",
       "      <td>0.002738</td>\n",
       "      <td>0.626983</td>\n",
       "      <td>0.269578</td>\n",
       "      <td>0.205128</td>\n",
       "      <td>0.458604</td>\n",
       "      <td>0.003593</td>\n",
       "      <td>0.993111</td>\n",
       "      <td>0.550773</td>\n",
       "      <td>0.400540</td>\n",
       "      <td>0.0</td>\n",
       "      <td>0.288660</td>\n",
       "      <td>0.627907</td>\n",
       "      <td>1.0</td>\n",
       "      <td>0.015473</td>\n",
       "      <td>0.015881</td>\n",
       "      <td>0.590406</td>\n",
       "    </tr>\n",
       "    <tr>\n",
       "      <th>1</th>\n",
       "      <td>0.0</td>\n",
       "      <td>0.001845</td>\n",
       "      <td>0.476147</td>\n",
       "      <td>0.831591</td>\n",
       "      <td>1.0</td>\n",
       "      <td>0.626985</td>\n",
       "      <td>0.647971</td>\n",
       "      <td>0.634407</td>\n",
       "      <td>0.511781</td>\n",
       "      <td>0.507937</td>\n",
       "      <td>0.498118</td>\n",
       "      <td>0.450787</td>\n",
       "      <td>0.862888</td>\n",
       "      <td>0.601411</td>\n",
       "      <td>0.358974</td>\n",
       "      <td>0.641234</td>\n",
       "      <td>0.450364</td>\n",
       "      <td>0.992395</td>\n",
       "      <td>0.481761</td>\n",
       "      <td>0.351346</td>\n",
       "      <td>0.0</td>\n",
       "      <td>0.608247</td>\n",
       "      <td>0.864693</td>\n",
       "      <td>1.0</td>\n",
       "      <td>0.477968</td>\n",
       "      <td>0.481487</td>\n",
       "      <td>0.588561</td>\n",
       "    </tr>\n",
       "    <tr>\n",
       "      <th>2</th>\n",
       "      <td>0.0</td>\n",
       "      <td>0.003690</td>\n",
       "      <td>0.999900</td>\n",
       "      <td>0.998694</td>\n",
       "      <td>1.0</td>\n",
       "      <td>0.000000</td>\n",
       "      <td>0.123646</td>\n",
       "      <td>0.271245</td>\n",
       "      <td>0.222481</td>\n",
       "      <td>0.000000</td>\n",
       "      <td>0.001255</td>\n",
       "      <td>0.004625</td>\n",
       "      <td>0.627110</td>\n",
       "      <td>0.265759</td>\n",
       "      <td>0.205128</td>\n",
       "      <td>0.456169</td>\n",
       "      <td>0.003202</td>\n",
       "      <td>0.993056</td>\n",
       "      <td>0.531031</td>\n",
       "      <td>0.423787</td>\n",
       "      <td>0.0</td>\n",
       "      <td>0.278351</td>\n",
       "      <td>0.627907</td>\n",
       "      <td>1.0</td>\n",
       "      <td>0.010764</td>\n",
       "      <td>0.018932</td>\n",
       "      <td>0.586716</td>\n",
       "    </tr>\n",
       "  </tbody>\n",
       "</table>\n",
       "</div>"
      ],
      "text/plain": [
       "   UnitNumber  TimeInCycles  OperSet1  OperSet2  OperSet3  SensorMes1  \\\n",
       "0         0.0      0.000000  0.999926  0.997625       1.0    0.000000   \n",
       "1         0.0      0.001845  0.476147  0.831591       1.0    0.626985   \n",
       "2         0.0      0.003690  0.999900  0.998694       1.0    0.000000   \n",
       "\n",
       "   SensorMes2  SensorMes3  SensorMes4  SensorMes5  SensorMes6  SensorMes7  \\\n",
       "0    0.130347    0.272082    0.212586    0.000000    0.001882    0.002738   \n",
       "1    0.647971    0.634407    0.511781    0.507937    0.498118    0.450787   \n",
       "2    0.123646    0.271245    0.222481    0.000000    0.001255    0.004625   \n",
       "\n",
       "   SensorMes8  SensorMes9  SensorMes10  SensorMes11  SensorMes12  SensorMes13  \\\n",
       "0    0.626983    0.269578     0.205128     0.458604     0.003593     0.993111   \n",
       "1    0.862888    0.601411     0.358974     0.641234     0.450364     0.992395   \n",
       "2    0.627110    0.265759     0.205128     0.456169     0.003202     0.993056   \n",
       "\n",
       "   SensorMes14  SensorMes15  SensorMes16  SensorMes17  SensorMes18  \\\n",
       "0     0.550773     0.400540          0.0     0.288660     0.627907   \n",
       "1     0.481761     0.351346          0.0     0.608247     0.864693   \n",
       "2     0.531031     0.423787          0.0     0.278351     0.627907   \n",
       "\n",
       "   SensorMes19  SensorMes20  SensorMes21       RUL  \n",
       "0          1.0     0.015473     0.015881  0.590406  \n",
       "1          1.0     0.477968     0.481487  0.588561  \n",
       "2          1.0     0.010764     0.018932  0.586716  "
      ]
     },
     "execution_count": 38,
     "metadata": {},
     "output_type": "execute_result"
    }
   ],
   "source": [
    "train_fd004.head(3)"
   ]
  },
  {
   "cell_type": "markdown",
   "metadata": {
    "id": "saXzvQieSZi7"
   },
   "source": [
    "# **Data splitting**"
   ]
  },
  {
   "cell_type": "code",
   "execution_count": 39,
   "metadata": {
    "id": "lZWWDPa-QZ6A"
   },
   "outputs": [],
   "source": [
    "def data_split(train, test):\n",
    "\n",
    "  # data split\n",
    "  X_train = train.drop('RUL', axis=1)\n",
    "  Y_train = train['RUL']\n",
    "  X_test = test.drop('RUL', axis=1)\n",
    "  Y_test = test['RUL']\n",
    "    \n",
    "  return X_train, Y_train, X_test, Y_test\n"
   ]
  },
  {
   "cell_type": "markdown",
   "metadata": {
    "id": "6ME9D2ueVxeT"
   },
   "source": [
    "# **Light Gradient Boosting on ElasticNet**"
   ]
  },
  {
   "cell_type": "code",
   "execution_count": 45,
   "metadata": {
    "id": "Pu2dg5Y2RhX_"
   },
   "outputs": [],
   "source": [
    "from sklearn.linear_model import ElasticNetCV\n",
    "from lightgbm import LGBMRegressor\n",
    "\n",
    "def my_lgb_elasticnet(train, test):\n",
    "\n",
    "    X_train, Y_train, X_test, Y_test = data_split(train, test)\n",
    "\n",
    "\n",
    "    # Définition du modèle ElasticNet\n",
    "    enet = ElasticNetCV(cv=5, max_iter=10000, l1_ratio=0.7)\n",
    "\n",
    "    # Ajustement du modèle aux données d'entraînement\n",
    "    enet.fit(X_train, Y_train)\n",
    "\n",
    "    # Meilleurs hyperparamètres trouvés\n",
    "    print(enet.alpha_, enet.l1_ratio_)\n",
    "\n",
    "    # Définition du modèle LightGBM\n",
    "    lgbm = LGBMRegressor()\n",
    "\n",
    "    # Définition des hyperparamètres à optimiser\n",
    "    \n",
    "    param_grid = {\n",
    "        'learning_rate': [0.01],\n",
    "        'n_estimators': [50],\n",
    "        'num_leaves': [10],\n",
    "        'min_child_samples': [5]\n",
    "    }\n",
    "\n",
    "    # Recherche des hyperparamètres optimaux\n",
    "    grid_search = GridSearchCV(lgbm, param_grid=param_grid, cv=5)\n",
    "    grid_search.fit(X_train, Y_train)\n",
    "\n",
    "    # Meilleurs hyperparamètres trouvés\n",
    "    print(\"Meilleurs paramètres trouvés :\")\n",
    "    print(grid_search.best_params_)\n",
    "    \n",
    "    \n",
    "    \n",
    "    '''#-------------Train---------------------\n",
    "    # Prédire les valeurs en utilisant le modèle KNN Regressor pour les données Train\n",
    "    y_pred_train = grid_search.predict(X_train)\n",
    "    # Afficher l'erreur quadratique moyenne et le coefficient de détermination R2\n",
    "    mse_train = mean_squared_error(Y_train, y_pred_train)\n",
    "    rmse_train = np.sqrt(mse_train)\n",
    "    mae_train = mean_absolute_error(Y_train, y_pred_train)\n",
    "    mape_train = np.mean(np.abs((Y_train - y_pred_train) / Y_train)) * 100\n",
    "    r2_train = r2_score(Y_train, y_pred_train)\n",
    "    adjusted_r2_train = 1 - (1-r2_train)*(len(Y_train)-1)/(len(Y_train)-X_train.shape[1]-1)\n",
    "\n",
    "    print('\\n=============================Train=============================')\n",
    "    print('MSE : ',mse_train * 100,'%')\n",
    "    print('RMSE : ',rmse_train * 100,'%')\n",
    "    print('MAE : ',mae_train * 100,'%')\n",
    "    print('MAPE : ',mape_train,'%')\n",
    "    print('R2 : ',r2_train * 100,'%')\n",
    "    print('Adjusted R2 : ', adjusted_r2_train * 100,'%')'''\n",
    "\n",
    "    #-------------------Test---------------------\n",
    "    # Prédire les valeurs en utilisant le modèle KNN Regressor pour les données Test\n",
    "    y_pred_test = grid_search.predict(X_test)\n",
    "    # Afficher l'erreur quadratique moyenne et le coefficient de détermination R2\n",
    "    mse_test = mean_squared_error(Y_test, y_pred_test)\n",
    "    rmse_test = np.sqrt(mse_test)\n",
    "    mae_test = mean_absolute_error(Y_test, y_pred_test)\n",
    "    mape_test = np.mean(np.abs((Y_test - y_pred_test) / Y_test)) * 100\n",
    "    r2_test = r2_score(Y_test, y_pred_test)\n",
    "    adjusted_r2_test = 1 - (1-r2_test)*(len(Y_test)-1)/(len(Y_test)-X_test.shape[1]-1)\n",
    "\n",
    "    print('\\n=============================Test=============================')\n",
    "    print('MSE : ',mse_test * 100,'%')\n",
    "    print('RMSE : ',rmse_test * 100,'%')\n",
    "    print('MAE : ',mae_test * 100,'%')\n",
    "    print('MAPE : ',mape_test,'%')\n",
    "    print('R2 : ',r2_test * 100,'%')\n",
    "    print('Adjusted R2 : ', adjusted_r2_test * 100,'%')"
   ]
  },
  {
   "cell_type": "code",
   "execution_count": 46,
   "metadata": {
    "colab": {
     "base_uri": "https://localhost:8080/"
    },
    "id": "PFk7dFkjRrnq",
    "outputId": "a9216c56-7b37-4b3f-913b-157e051f6978",
    "scrolled": false
   },
   "outputs": [
    {
     "name": "stdout",
     "output_type": "stream",
     "text": [
      "0.0002043420556522745 0.7\n",
      "Meilleurs paramètres trouvés :\n",
      "{'learning_rate': 0.01, 'min_child_samples': 5, 'n_estimators': 50, 'num_leaves': 10}\n",
      "\n",
      "=============================Test=============================\n",
      "MSE :  2.966765449329934 %\n",
      "RMSE :  17.224300999837215 %\n",
      "MAE :  13.2013560658484 %\n",
      "MAPE :  inf %\n",
      "R2 :  5.421237606066997 %\n",
      "Adjusted R2 :  5.23307877048339 %\n"
     ]
    }
   ],
   "source": [
    "my_lgb_elasticnet(train_fd001, test_fd001)"
   ]
  },
  {
   "cell_type": "code",
   "execution_count": 47,
   "metadata": {
    "colab": {
     "base_uri": "https://localhost:8080/"
    },
    "id": "lkPQyl57Sq5i",
    "outputId": "b1da5bad-0524-436e-fdc9-216d4c5caa0d"
   },
   "outputs": [
    {
     "name": "stderr",
     "output_type": "stream",
     "text": [
      "C:\\Users\\ibarry\\AppData\\Local\\anaconda3\\lib\\site-packages\\sklearn\\linear_model\\_coordinate_descent.py:631: ConvergenceWarning: Objective did not converge. You might want to increase the number of iterations, check the scale of the features or consider increasing regularisation. Duality gap: 6.018e+00, tolerance: 1.810e-01\n",
      "  model = cd_fast.enet_coordinate_descent(\n"
     ]
    },
    {
     "name": "stdout",
     "output_type": "stream",
     "text": [
      "3.527852375096043e-05 0.7\n",
      "Meilleurs paramètres trouvés :\n",
      "{'learning_rate': 0.01, 'min_child_samples': 5, 'n_estimators': 50, 'num_leaves': 10}\n",
      "\n",
      "=============================Test=============================\n",
      "MSE :  2.4458591095453346 %\n",
      "RMSE :  15.63924265923812 %\n",
      "MAE :  12.187967938997039 %\n",
      "MAPE :  inf %\n",
      "R2 :  17.4838174946931 %\n",
      "Adjusted R2 :  17.420650001313696 %\n"
     ]
    }
   ],
   "source": [
    "my_lgb_elasticnet(train_fd002, test_fd002)"
   ]
  },
  {
   "cell_type": "code",
   "execution_count": 48,
   "metadata": {
    "id": "kKgw1xZ1SrxP"
   },
   "outputs": [
    {
     "name": "stdout",
     "output_type": "stream",
     "text": [
      "0.0007885165743112681 0.7\n",
      "Meilleurs paramètres trouvés :\n",
      "{'learning_rate': 0.01, 'min_child_samples': 5, 'n_estimators': 50, 'num_leaves': 10}\n",
      "\n",
      "=============================Test=============================\n",
      "MSE :  2.9310367943524684 %\n",
      "RMSE :  17.120271009398387 %\n",
      "MAE :  12.010012027198224 %\n",
      "MAPE :  inf %\n",
      "R2 :  5.988367626698299 %\n",
      "Adjusted R2 :  5.840844997589379 %\n"
     ]
    }
   ],
   "source": [
    "my_lgb_elasticnet(train_fd003, test_fd003)"
   ]
  },
  {
   "cell_type": "code",
   "execution_count": 49,
   "metadata": {
    "id": "tV1XfOYdSseW",
    "scrolled": false
   },
   "outputs": [
    {
     "name": "stderr",
     "output_type": "stream",
     "text": [
      "C:\\Users\\ibarry\\AppData\\Local\\anaconda3\\lib\\site-packages\\sklearn\\linear_model\\_coordinate_descent.py:617: ConvergenceWarning: Objective did not converge. You might want to increase the number of iterations. Duality gap: 0.1402343831842927, tolerance: 0.12985614330311254\n",
      "  model = cd_fast.enet_coordinate_descent_gram(\n",
      "C:\\Users\\ibarry\\AppData\\Local\\anaconda3\\lib\\site-packages\\sklearn\\linear_model\\_coordinate_descent.py:617: ConvergenceWarning: Objective did not converge. You might want to increase the number of iterations. Duality gap: 0.15012298412989367, tolerance: 0.12985614330311254\n",
      "  model = cd_fast.enet_coordinate_descent_gram(\n",
      "C:\\Users\\ibarry\\AppData\\Local\\anaconda3\\lib\\site-packages\\sklearn\\linear_model\\_coordinate_descent.py:617: ConvergenceWarning: Objective did not converge. You might want to increase the number of iterations. Duality gap: 0.1757779214584616, tolerance: 0.12985614330311254\n",
      "  model = cd_fast.enet_coordinate_descent_gram(\n",
      "C:\\Users\\ibarry\\AppData\\Local\\anaconda3\\lib\\site-packages\\sklearn\\linear_model\\_coordinate_descent.py:631: ConvergenceWarning: Objective did not converge. You might want to increase the number of iterations, check the scale of the features or consider increasing regularisation. Duality gap: 1.183e+01, tolerance: 1.681e-01\n",
      "  model = cd_fast.enet_coordinate_descent(\n"
     ]
    },
    {
     "name": "stdout",
     "output_type": "stream",
     "text": [
      "2.393641544227942e-05 0.7\n",
      "Meilleurs paramètres trouvés :\n",
      "{'learning_rate': 0.01, 'min_child_samples': 5, 'n_estimators': 50, 'num_leaves': 10}\n",
      "\n",
      "=============================Test=============================\n",
      "MSE :  3.043351846289313 %\n",
      "RMSE :  17.44520520455209 %\n",
      "MAE :  12.89063084328928 %\n",
      "MAPE :  inf %\n",
      "R2 :  -7.193484918768522 %\n",
      "Adjusted R2 :  -7.261152644213142 %\n"
     ]
    }
   ],
   "source": [
    "my_lgb_elasticnet(train_fd004, test_fd004)"
   ]
  },
  {
   "cell_type": "code",
   "execution_count": null,
   "metadata": {},
   "outputs": [],
   "source": []
  }
 ],
 "metadata": {
  "colab": {
   "provenance": []
  },
  "gpuClass": "standard",
  "kernelspec": {
   "display_name": "Python 3 (ipykernel)",
   "language": "python",
   "name": "python3"
  },
  "language_info": {
   "codemirror_mode": {
    "name": "ipython",
    "version": 3
   },
   "file_extension": ".py",
   "mimetype": "text/x-python",
   "name": "python",
   "nbconvert_exporter": "python",
   "pygments_lexer": "ipython3",
   "version": "3.10.9"
  }
 },
 "nbformat": 4,
 "nbformat_minor": 1
}
