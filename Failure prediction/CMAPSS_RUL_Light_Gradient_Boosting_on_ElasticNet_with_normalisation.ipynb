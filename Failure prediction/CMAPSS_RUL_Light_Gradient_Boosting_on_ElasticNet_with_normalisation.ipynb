{
 "cells": [
  {
   "cell_type": "code",
   "execution_count": 2,
   "metadata": {
    "colab": {
     "base_uri": "https://localhost:8080/",
     "height": 36
    },
    "id": "FDalluwXbsXk",
    "outputId": "164a726b-5f9b-4308-c1cf-531d41e09b47"
   },
   "outputs": [
    {
     "data": {
      "application/vnd.google.colaboratory.intrinsic+json": {
       "type": "string"
      },
      "text/plain": [
       "\"from google.colab import drive\\ndrive.mount('/content/drive')\""
      ]
     },
     "execution_count": 2,
     "metadata": {},
     "output_type": "execute_result"
    }
   ],
   "source": [
    "'''from google.colab import drive\n",
    "drive.mount('/content/drive')'''"
   ]
  },
  {
   "cell_type": "code",
   "execution_count": 3,
   "metadata": {
    "id": "7bwRBIw1808g"
   },
   "outputs": [],
   "source": [
    "#!pip install catboost"
   ]
  },
  {
   "cell_type": "code",
   "execution_count": 1,
   "metadata": {
    "id": "090U59DPJm7F"
   },
   "outputs": [],
   "source": [
    "import numpy as np\n",
    "import pandas as pd\n",
    "import matplotlib.pyplot as plt\n",
    "import seaborn as sns\n",
    "\n",
    "from sklearn.linear_model import LinearRegression, Lasso, Ridge, ElasticNet\n",
    "from sklearn.tree import DecisionTreeRegressor\n",
    "from sklearn.ensemble import RandomForestRegressor, GradientBoostingRegressor, AdaBoostRegressor, ExtraTreesRegressor\n",
    "from sklearn.svm import SVR\n",
    "from sklearn.neighbors import KNeighborsRegressor\n",
    "from xgboost import XGBRegressor\n",
    "from sklearn.model_selection import GridSearchCV\n",
    "\n",
    "from sklearn.metrics import mean_squared_error, mean_absolute_error, r2_score\n",
    "from scipy.stats import pearsonr\n",
    "\n",
    "from sklearn.preprocessing import MinMaxScaler, StandardScaler"
   ]
  },
  {
   "cell_type": "code",
   "execution_count": 2,
   "metadata": {
    "id": "sCVZb8EK9-RF"
   },
   "outputs": [],
   "source": [
    "myfolder = \"../data/CMaps/\""
   ]
  },
  {
   "cell_type": "markdown",
   "metadata": {
    "id": "eK6zG_tsRZFx"
   },
   "source": [
    "# **Columns' names**"
   ]
  },
  {
   "cell_type": "code",
   "execution_count": 3,
   "metadata": {
    "id": "03uUZbfWF9Yj"
   },
   "outputs": [],
   "source": [
    "#Columns' names\n",
    "'''\n",
    "1)  unit number\n",
    "2)\ttime, in cycles\n",
    "3)\toperational setting 1\n",
    "4)\toperational setting 2\n",
    "5)\toperational setting 3\n",
    "6)\tsensor measurement  1\n",
    "7)\tsensor measurement  2\n",
    "...\n",
    "26)\tsensor measurement  21\n",
    "'''\n",
    "unitNames = ['UnitNumber']\n",
    "timeCycles = [\"TimeInCycles\"]\n",
    "operSets = [\"OperSet\"+str(i) for i in range(1,4)] # 1,2 et 3\n",
    "sensorMes = [\"SensorMes\"+str(j) for j in range(1, 22)] # de 1 à 21\n",
    "columnsNames = unitNames + timeCycles + operSets +sensorMes"
   ]
  },
  {
   "cell_type": "markdown",
   "metadata": {
    "id": "Pk7OEGaFRpHx"
   },
   "source": [
    "# **Datasets loading**"
   ]
  },
  {
   "cell_type": "code",
   "execution_count": 4,
   "metadata": {
    "id": "2zNavW8eUubj"
   },
   "outputs": [],
   "source": [
    "def data_loading(x):\n",
    "  train_path = myfolder + \"train_\"+ x +\".txt\"\n",
    "  test_path = myfolder + \"test_\"+ x +\".txt\"\n",
    "  rul_path = myfolder + \"RUL_\"+ x +\".txt\"\n",
    "  train = pd.read_csv(train_path, delim_whitespace=True, names=columnsNames)\n",
    "  test = pd.read_csv(test_path, delim_whitespace=True, names=columnsNames)\n",
    "  rul = pd.read_csv(rul_path, delim_whitespace=True, names=[\"RUL_FD\"])\n",
    "  return train, test, rul\n",
    "\n",
    "train_fd001, test_fd001, rul_fd001 = data_loading(\"FD001\")\n",
    "train_fd002, test_fd002, rul_fd002 = data_loading(\"FD002\")\n",
    "train_fd003, test_fd003, rul_fd003 = data_loading(\"FD003\")\n",
    "train_fd004, test_fd004, rul_fd004 = data_loading(\"FD004\")"
   ]
  },
  {
   "cell_type": "code",
   "execution_count": 5,
   "metadata": {
    "colab": {
     "base_uri": "https://localhost:8080/",
     "height": 207
    },
    "id": "2D0p8HcQVpPu",
    "outputId": "8cbb0a99-b076-4e0e-bdcd-66bb68e4c9fd"
   },
   "outputs": [
    {
     "data": {
      "text/html": [
       "<div>\n",
       "<style scoped>\n",
       "    .dataframe tbody tr th:only-of-type {\n",
       "        vertical-align: middle;\n",
       "    }\n",
       "\n",
       "    .dataframe tbody tr th {\n",
       "        vertical-align: top;\n",
       "    }\n",
       "\n",
       "    .dataframe thead th {\n",
       "        text-align: right;\n",
       "    }\n",
       "</style>\n",
       "<table border=\"1\" class=\"dataframe\">\n",
       "  <thead>\n",
       "    <tr style=\"text-align: right;\">\n",
       "      <th></th>\n",
       "      <th>UnitNumber</th>\n",
       "      <th>TimeInCycles</th>\n",
       "      <th>OperSet1</th>\n",
       "      <th>OperSet2</th>\n",
       "      <th>OperSet3</th>\n",
       "      <th>SensorMes1</th>\n",
       "      <th>SensorMes2</th>\n",
       "      <th>SensorMes3</th>\n",
       "      <th>SensorMes4</th>\n",
       "      <th>SensorMes5</th>\n",
       "      <th>SensorMes6</th>\n",
       "      <th>SensorMes7</th>\n",
       "      <th>SensorMes8</th>\n",
       "      <th>SensorMes9</th>\n",
       "      <th>SensorMes10</th>\n",
       "      <th>SensorMes11</th>\n",
       "      <th>SensorMes12</th>\n",
       "      <th>SensorMes13</th>\n",
       "      <th>SensorMes14</th>\n",
       "      <th>SensorMes15</th>\n",
       "      <th>SensorMes16</th>\n",
       "      <th>SensorMes17</th>\n",
       "      <th>SensorMes18</th>\n",
       "      <th>SensorMes19</th>\n",
       "      <th>SensorMes20</th>\n",
       "      <th>SensorMes21</th>\n",
       "    </tr>\n",
       "  </thead>\n",
       "  <tbody>\n",
       "    <tr>\n",
       "      <th>0</th>\n",
       "      <td>1</td>\n",
       "      <td>1</td>\n",
       "      <td>42.0049</td>\n",
       "      <td>0.8400</td>\n",
       "      <td>100.0</td>\n",
       "      <td>445.00</td>\n",
       "      <td>549.68</td>\n",
       "      <td>1343.43</td>\n",
       "      <td>1112.93</td>\n",
       "      <td>3.91</td>\n",
       "      <td>5.70</td>\n",
       "      <td>137.36</td>\n",
       "      <td>2211.86</td>\n",
       "      <td>8311.32</td>\n",
       "      <td>1.01</td>\n",
       "      <td>41.69</td>\n",
       "      <td>129.78</td>\n",
       "      <td>2387.99</td>\n",
       "      <td>8074.83</td>\n",
       "      <td>9.3335</td>\n",
       "      <td>0.02</td>\n",
       "      <td>330</td>\n",
       "      <td>2212</td>\n",
       "      <td>100.0</td>\n",
       "      <td>10.62</td>\n",
       "      <td>6.3670</td>\n",
       "    </tr>\n",
       "    <tr>\n",
       "      <th>1</th>\n",
       "      <td>1</td>\n",
       "      <td>2</td>\n",
       "      <td>20.0020</td>\n",
       "      <td>0.7002</td>\n",
       "      <td>100.0</td>\n",
       "      <td>491.19</td>\n",
       "      <td>606.07</td>\n",
       "      <td>1477.61</td>\n",
       "      <td>1237.50</td>\n",
       "      <td>9.35</td>\n",
       "      <td>13.61</td>\n",
       "      <td>332.10</td>\n",
       "      <td>2323.66</td>\n",
       "      <td>8713.60</td>\n",
       "      <td>1.07</td>\n",
       "      <td>43.94</td>\n",
       "      <td>312.59</td>\n",
       "      <td>2387.73</td>\n",
       "      <td>8046.13</td>\n",
       "      <td>9.1913</td>\n",
       "      <td>0.02</td>\n",
       "      <td>361</td>\n",
       "      <td>2324</td>\n",
       "      <td>100.0</td>\n",
       "      <td>24.37</td>\n",
       "      <td>14.6552</td>\n",
       "    </tr>\n",
       "    <tr>\n",
       "      <th>2</th>\n",
       "      <td>1</td>\n",
       "      <td>3</td>\n",
       "      <td>42.0038</td>\n",
       "      <td>0.8409</td>\n",
       "      <td>100.0</td>\n",
       "      <td>445.00</td>\n",
       "      <td>548.95</td>\n",
       "      <td>1343.12</td>\n",
       "      <td>1117.05</td>\n",
       "      <td>3.91</td>\n",
       "      <td>5.69</td>\n",
       "      <td>138.18</td>\n",
       "      <td>2211.92</td>\n",
       "      <td>8306.69</td>\n",
       "      <td>1.01</td>\n",
       "      <td>41.66</td>\n",
       "      <td>129.62</td>\n",
       "      <td>2387.97</td>\n",
       "      <td>8066.62</td>\n",
       "      <td>9.4007</td>\n",
       "      <td>0.02</td>\n",
       "      <td>329</td>\n",
       "      <td>2212</td>\n",
       "      <td>100.0</td>\n",
       "      <td>10.48</td>\n",
       "      <td>6.4213</td>\n",
       "    </tr>\n",
       "  </tbody>\n",
       "</table>\n",
       "</div>"
      ],
      "text/plain": [
       "   UnitNumber  TimeInCycles  OperSet1  OperSet2  OperSet3  SensorMes1  \\\n",
       "0           1             1   42.0049    0.8400     100.0      445.00   \n",
       "1           1             2   20.0020    0.7002     100.0      491.19   \n",
       "2           1             3   42.0038    0.8409     100.0      445.00   \n",
       "\n",
       "   SensorMes2  SensorMes3  SensorMes4  SensorMes5  SensorMes6  SensorMes7  \\\n",
       "0      549.68     1343.43     1112.93        3.91        5.70      137.36   \n",
       "1      606.07     1477.61     1237.50        9.35       13.61      332.10   \n",
       "2      548.95     1343.12     1117.05        3.91        5.69      138.18   \n",
       "\n",
       "   SensorMes8  SensorMes9  SensorMes10  SensorMes11  SensorMes12  SensorMes13  \\\n",
       "0     2211.86     8311.32         1.01        41.69       129.78      2387.99   \n",
       "1     2323.66     8713.60         1.07        43.94       312.59      2387.73   \n",
       "2     2211.92     8306.69         1.01        41.66       129.62      2387.97   \n",
       "\n",
       "   SensorMes14  SensorMes15  SensorMes16  SensorMes17  SensorMes18  \\\n",
       "0      8074.83       9.3335         0.02          330         2212   \n",
       "1      8046.13       9.1913         0.02          361         2324   \n",
       "2      8066.62       9.4007         0.02          329         2212   \n",
       "\n",
       "   SensorMes19  SensorMes20  SensorMes21  \n",
       "0        100.0        10.62       6.3670  \n",
       "1        100.0        24.37      14.6552  \n",
       "2        100.0        10.48       6.4213  "
      ]
     },
     "execution_count": 5,
     "metadata": {},
     "output_type": "execute_result"
    }
   ],
   "source": [
    "# Forcer l'affichage de toutes les colonnes\n",
    "pd.set_option('display.max_columns', None)\n",
    "\n",
    "train_fd004.head(3)"
   ]
  },
  {
   "cell_type": "markdown",
   "metadata": {
    "id": "-iHEenEWSFa2"
   },
   "source": [
    "# **RUL column generation for train and test set**"
   ]
  },
  {
   "cell_type": "code",
   "execution_count": 6,
   "metadata": {
    "id": "iQLmNp5STg3q"
   },
   "outputs": [],
   "source": [
    "def rul_train_generation(x):\n",
    "  rul = pd.DataFrame(x.groupby('UnitNumber')['TimeInCycles'].max()).reset_index()\n",
    "  rul.columns = ['UnitNumber', 'max']\n",
    "  x = x.merge(rul, on=['UnitNumber'], how='left')\n",
    "  x['RUL'] = x['max'] - x['TimeInCycles']\n",
    "  x.drop('max', axis=1, inplace=True)\n",
    "  return x\n",
    "\n",
    "train_fd001 = rul_train_generation(train_fd001)\n",
    "train_fd002 = rul_train_generation(train_fd002)\n",
    "train_fd003 = rul_train_generation(train_fd003)\n",
    "train_fd004 = rul_train_generation(train_fd004)"
   ]
  },
  {
   "cell_type": "code",
   "execution_count": 7,
   "metadata": {
    "colab": {
     "base_uri": "https://localhost:8080/",
     "height": 207
    },
    "id": "2b0ThgOYbOJq",
    "outputId": "212b1097-64ca-4b2c-ef19-be77921a4fea"
   },
   "outputs": [
    {
     "data": {
      "text/html": [
       "<div>\n",
       "<style scoped>\n",
       "    .dataframe tbody tr th:only-of-type {\n",
       "        vertical-align: middle;\n",
       "    }\n",
       "\n",
       "    .dataframe tbody tr th {\n",
       "        vertical-align: top;\n",
       "    }\n",
       "\n",
       "    .dataframe thead th {\n",
       "        text-align: right;\n",
       "    }\n",
       "</style>\n",
       "<table border=\"1\" class=\"dataframe\">\n",
       "  <thead>\n",
       "    <tr style=\"text-align: right;\">\n",
       "      <th></th>\n",
       "      <th>UnitNumber</th>\n",
       "      <th>TimeInCycles</th>\n",
       "      <th>OperSet1</th>\n",
       "      <th>OperSet2</th>\n",
       "      <th>OperSet3</th>\n",
       "      <th>SensorMes1</th>\n",
       "      <th>SensorMes2</th>\n",
       "      <th>SensorMes3</th>\n",
       "      <th>SensorMes4</th>\n",
       "      <th>SensorMes5</th>\n",
       "      <th>SensorMes6</th>\n",
       "      <th>SensorMes7</th>\n",
       "      <th>SensorMes8</th>\n",
       "      <th>SensorMes9</th>\n",
       "      <th>SensorMes10</th>\n",
       "      <th>SensorMes11</th>\n",
       "      <th>SensorMes12</th>\n",
       "      <th>SensorMes13</th>\n",
       "      <th>SensorMes14</th>\n",
       "      <th>SensorMes15</th>\n",
       "      <th>SensorMes16</th>\n",
       "      <th>SensorMes17</th>\n",
       "      <th>SensorMes18</th>\n",
       "      <th>SensorMes19</th>\n",
       "      <th>SensorMes20</th>\n",
       "      <th>SensorMes21</th>\n",
       "      <th>RUL</th>\n",
       "    </tr>\n",
       "  </thead>\n",
       "  <tbody>\n",
       "    <tr>\n",
       "      <th>0</th>\n",
       "      <td>1</td>\n",
       "      <td>1</td>\n",
       "      <td>42.0049</td>\n",
       "      <td>0.8400</td>\n",
       "      <td>100.0</td>\n",
       "      <td>445.00</td>\n",
       "      <td>549.68</td>\n",
       "      <td>1343.43</td>\n",
       "      <td>1112.93</td>\n",
       "      <td>3.91</td>\n",
       "      <td>5.70</td>\n",
       "      <td>137.36</td>\n",
       "      <td>2211.86</td>\n",
       "      <td>8311.32</td>\n",
       "      <td>1.01</td>\n",
       "      <td>41.69</td>\n",
       "      <td>129.78</td>\n",
       "      <td>2387.99</td>\n",
       "      <td>8074.83</td>\n",
       "      <td>9.3335</td>\n",
       "      <td>0.02</td>\n",
       "      <td>330</td>\n",
       "      <td>2212</td>\n",
       "      <td>100.0</td>\n",
       "      <td>10.62</td>\n",
       "      <td>6.3670</td>\n",
       "      <td>320</td>\n",
       "    </tr>\n",
       "    <tr>\n",
       "      <th>1</th>\n",
       "      <td>1</td>\n",
       "      <td>2</td>\n",
       "      <td>20.0020</td>\n",
       "      <td>0.7002</td>\n",
       "      <td>100.0</td>\n",
       "      <td>491.19</td>\n",
       "      <td>606.07</td>\n",
       "      <td>1477.61</td>\n",
       "      <td>1237.50</td>\n",
       "      <td>9.35</td>\n",
       "      <td>13.61</td>\n",
       "      <td>332.10</td>\n",
       "      <td>2323.66</td>\n",
       "      <td>8713.60</td>\n",
       "      <td>1.07</td>\n",
       "      <td>43.94</td>\n",
       "      <td>312.59</td>\n",
       "      <td>2387.73</td>\n",
       "      <td>8046.13</td>\n",
       "      <td>9.1913</td>\n",
       "      <td>0.02</td>\n",
       "      <td>361</td>\n",
       "      <td>2324</td>\n",
       "      <td>100.0</td>\n",
       "      <td>24.37</td>\n",
       "      <td>14.6552</td>\n",
       "      <td>319</td>\n",
       "    </tr>\n",
       "    <tr>\n",
       "      <th>2</th>\n",
       "      <td>1</td>\n",
       "      <td>3</td>\n",
       "      <td>42.0038</td>\n",
       "      <td>0.8409</td>\n",
       "      <td>100.0</td>\n",
       "      <td>445.00</td>\n",
       "      <td>548.95</td>\n",
       "      <td>1343.12</td>\n",
       "      <td>1117.05</td>\n",
       "      <td>3.91</td>\n",
       "      <td>5.69</td>\n",
       "      <td>138.18</td>\n",
       "      <td>2211.92</td>\n",
       "      <td>8306.69</td>\n",
       "      <td>1.01</td>\n",
       "      <td>41.66</td>\n",
       "      <td>129.62</td>\n",
       "      <td>2387.97</td>\n",
       "      <td>8066.62</td>\n",
       "      <td>9.4007</td>\n",
       "      <td>0.02</td>\n",
       "      <td>329</td>\n",
       "      <td>2212</td>\n",
       "      <td>100.0</td>\n",
       "      <td>10.48</td>\n",
       "      <td>6.4213</td>\n",
       "      <td>318</td>\n",
       "    </tr>\n",
       "  </tbody>\n",
       "</table>\n",
       "</div>"
      ],
      "text/plain": [
       "   UnitNumber  TimeInCycles  OperSet1  OperSet2  OperSet3  SensorMes1  \\\n",
       "0           1             1   42.0049    0.8400     100.0      445.00   \n",
       "1           1             2   20.0020    0.7002     100.0      491.19   \n",
       "2           1             3   42.0038    0.8409     100.0      445.00   \n",
       "\n",
       "   SensorMes2  SensorMes3  SensorMes4  SensorMes5  SensorMes6  SensorMes7  \\\n",
       "0      549.68     1343.43     1112.93        3.91        5.70      137.36   \n",
       "1      606.07     1477.61     1237.50        9.35       13.61      332.10   \n",
       "2      548.95     1343.12     1117.05        3.91        5.69      138.18   \n",
       "\n",
       "   SensorMes8  SensorMes9  SensorMes10  SensorMes11  SensorMes12  SensorMes13  \\\n",
       "0     2211.86     8311.32         1.01        41.69       129.78      2387.99   \n",
       "1     2323.66     8713.60         1.07        43.94       312.59      2387.73   \n",
       "2     2211.92     8306.69         1.01        41.66       129.62      2387.97   \n",
       "\n",
       "   SensorMes14  SensorMes15  SensorMes16  SensorMes17  SensorMes18  \\\n",
       "0      8074.83       9.3335         0.02          330         2212   \n",
       "1      8046.13       9.1913         0.02          361         2324   \n",
       "2      8066.62       9.4007         0.02          329         2212   \n",
       "\n",
       "   SensorMes19  SensorMes20  SensorMes21  RUL  \n",
       "0        100.0        10.62       6.3670  320  \n",
       "1        100.0        24.37      14.6552  319  \n",
       "2        100.0        10.48       6.4213  318  "
      ]
     },
     "execution_count": 7,
     "metadata": {},
     "output_type": "execute_result"
    }
   ],
   "source": [
    "train_fd004.head(3)"
   ]
  },
  {
   "cell_type": "code",
   "execution_count": 8,
   "metadata": {
    "id": "SO9r-mpZXPjO"
   },
   "outputs": [],
   "source": [
    "def rul_test_generation(x, rul):\n",
    "\n",
    "  rul[\"UnitNumber\"] = rul.index + 1 # +1 pour que UnitNumber demarre de 1 au lieu de 0, car il s'agit du numero des moteur\n",
    "\n",
    "  x = x.merge(rul, on=['UnitNumber'], how='left')\n",
    "\n",
    "  max_cycle = pd.DataFrame(x.groupby('UnitNumber')['TimeInCycles'].max()).reset_index()\n",
    "  max_cycle.columns = ['UnitNumber', 'max']\n",
    "  x = x.merge(max_cycle, on=['UnitNumber'], how='left')\n",
    "  x['RUL'] = x['RUL_FD'] + x['max'] - x['TimeInCycles']\n",
    "  x.drop(['max', 'RUL_FD'], axis=1, inplace=True)\n",
    "\n",
    "  return x\n",
    "\n",
    "test_fd001 = rul_test_generation(test_fd001, rul_fd001)\n",
    "test_fd002 = rul_test_generation(test_fd002, rul_fd002)\n",
    "test_fd003 = rul_test_generation(test_fd003, rul_fd003)\n",
    "test_fd004 = rul_test_generation(test_fd004, rul_fd004)"
   ]
  },
  {
   "cell_type": "code",
   "execution_count": 9,
   "metadata": {
    "colab": {
     "base_uri": "https://localhost:8080/",
     "height": 207
    },
    "id": "UsgIhGIrbbGe",
    "outputId": "7d5bbbc4-dea8-46b5-fcf8-882e17f7fce1"
   },
   "outputs": [
    {
     "data": {
      "text/html": [
       "<div>\n",
       "<style scoped>\n",
       "    .dataframe tbody tr th:only-of-type {\n",
       "        vertical-align: middle;\n",
       "    }\n",
       "\n",
       "    .dataframe tbody tr th {\n",
       "        vertical-align: top;\n",
       "    }\n",
       "\n",
       "    .dataframe thead th {\n",
       "        text-align: right;\n",
       "    }\n",
       "</style>\n",
       "<table border=\"1\" class=\"dataframe\">\n",
       "  <thead>\n",
       "    <tr style=\"text-align: right;\">\n",
       "      <th></th>\n",
       "      <th>UnitNumber</th>\n",
       "      <th>TimeInCycles</th>\n",
       "      <th>OperSet1</th>\n",
       "      <th>OperSet2</th>\n",
       "      <th>OperSet3</th>\n",
       "      <th>SensorMes1</th>\n",
       "      <th>SensorMes2</th>\n",
       "      <th>SensorMes3</th>\n",
       "      <th>SensorMes4</th>\n",
       "      <th>SensorMes5</th>\n",
       "      <th>SensorMes6</th>\n",
       "      <th>SensorMes7</th>\n",
       "      <th>SensorMes8</th>\n",
       "      <th>SensorMes9</th>\n",
       "      <th>SensorMes10</th>\n",
       "      <th>SensorMes11</th>\n",
       "      <th>SensorMes12</th>\n",
       "      <th>SensorMes13</th>\n",
       "      <th>SensorMes14</th>\n",
       "      <th>SensorMes15</th>\n",
       "      <th>SensorMes16</th>\n",
       "      <th>SensorMes17</th>\n",
       "      <th>SensorMes18</th>\n",
       "      <th>SensorMes19</th>\n",
       "      <th>SensorMes20</th>\n",
       "      <th>SensorMes21</th>\n",
       "      <th>RUL</th>\n",
       "    </tr>\n",
       "  </thead>\n",
       "  <tbody>\n",
       "    <tr>\n",
       "      <th>0</th>\n",
       "      <td>1</td>\n",
       "      <td>1</td>\n",
       "      <td>20.0072</td>\n",
       "      <td>0.700</td>\n",
       "      <td>100.0</td>\n",
       "      <td>491.19</td>\n",
       "      <td>606.67</td>\n",
       "      <td>1481.04</td>\n",
       "      <td>1227.81</td>\n",
       "      <td>9.35</td>\n",
       "      <td>13.60</td>\n",
       "      <td>332.52</td>\n",
       "      <td>2323.67</td>\n",
       "      <td>8704.98</td>\n",
       "      <td>1.07</td>\n",
       "      <td>43.83</td>\n",
       "      <td>313.03</td>\n",
       "      <td>2387.78</td>\n",
       "      <td>8048.98</td>\n",
       "      <td>9.2229</td>\n",
       "      <td>0.02</td>\n",
       "      <td>362</td>\n",
       "      <td>2324</td>\n",
       "      <td>100.00</td>\n",
       "      <td>24.31</td>\n",
       "      <td>14.7007</td>\n",
       "      <td>251</td>\n",
       "    </tr>\n",
       "    <tr>\n",
       "      <th>1</th>\n",
       "      <td>1</td>\n",
       "      <td>2</td>\n",
       "      <td>24.9984</td>\n",
       "      <td>0.620</td>\n",
       "      <td>60.0</td>\n",
       "      <td>462.54</td>\n",
       "      <td>536.22</td>\n",
       "      <td>1256.17</td>\n",
       "      <td>1031.48</td>\n",
       "      <td>7.05</td>\n",
       "      <td>9.00</td>\n",
       "      <td>174.46</td>\n",
       "      <td>1915.21</td>\n",
       "      <td>7999.94</td>\n",
       "      <td>0.93</td>\n",
       "      <td>36.11</td>\n",
       "      <td>163.61</td>\n",
       "      <td>2028.09</td>\n",
       "      <td>7863.46</td>\n",
       "      <td>10.8632</td>\n",
       "      <td>0.02</td>\n",
       "      <td>306</td>\n",
       "      <td>1915</td>\n",
       "      <td>84.93</td>\n",
       "      <td>14.36</td>\n",
       "      <td>8.5748</td>\n",
       "      <td>250</td>\n",
       "    </tr>\n",
       "    <tr>\n",
       "      <th>2</th>\n",
       "      <td>1</td>\n",
       "      <td>3</td>\n",
       "      <td>42.0000</td>\n",
       "      <td>0.842</td>\n",
       "      <td>100.0</td>\n",
       "      <td>445.00</td>\n",
       "      <td>549.23</td>\n",
       "      <td>1340.13</td>\n",
       "      <td>1105.88</td>\n",
       "      <td>3.91</td>\n",
       "      <td>5.69</td>\n",
       "      <td>137.34</td>\n",
       "      <td>2211.93</td>\n",
       "      <td>8305.38</td>\n",
       "      <td>1.01</td>\n",
       "      <td>41.52</td>\n",
       "      <td>129.98</td>\n",
       "      <td>2387.95</td>\n",
       "      <td>8071.13</td>\n",
       "      <td>9.3960</td>\n",
       "      <td>0.02</td>\n",
       "      <td>328</td>\n",
       "      <td>2212</td>\n",
       "      <td>100.00</td>\n",
       "      <td>10.39</td>\n",
       "      <td>6.4365</td>\n",
       "      <td>249</td>\n",
       "    </tr>\n",
       "  </tbody>\n",
       "</table>\n",
       "</div>"
      ],
      "text/plain": [
       "   UnitNumber  TimeInCycles  OperSet1  OperSet2  OperSet3  SensorMes1  \\\n",
       "0           1             1   20.0072     0.700     100.0      491.19   \n",
       "1           1             2   24.9984     0.620      60.0      462.54   \n",
       "2           1             3   42.0000     0.842     100.0      445.00   \n",
       "\n",
       "   SensorMes2  SensorMes3  SensorMes4  SensorMes5  SensorMes6  SensorMes7  \\\n",
       "0      606.67     1481.04     1227.81        9.35       13.60      332.52   \n",
       "1      536.22     1256.17     1031.48        7.05        9.00      174.46   \n",
       "2      549.23     1340.13     1105.88        3.91        5.69      137.34   \n",
       "\n",
       "   SensorMes8  SensorMes9  SensorMes10  SensorMes11  SensorMes12  SensorMes13  \\\n",
       "0     2323.67     8704.98         1.07        43.83       313.03      2387.78   \n",
       "1     1915.21     7999.94         0.93        36.11       163.61      2028.09   \n",
       "2     2211.93     8305.38         1.01        41.52       129.98      2387.95   \n",
       "\n",
       "   SensorMes14  SensorMes15  SensorMes16  SensorMes17  SensorMes18  \\\n",
       "0      8048.98       9.2229         0.02          362         2324   \n",
       "1      7863.46      10.8632         0.02          306         1915   \n",
       "2      8071.13       9.3960         0.02          328         2212   \n",
       "\n",
       "   SensorMes19  SensorMes20  SensorMes21  RUL  \n",
       "0       100.00        24.31      14.7007  251  \n",
       "1        84.93        14.36       8.5748  250  \n",
       "2       100.00        10.39       6.4365  249  "
      ]
     },
     "execution_count": 9,
     "metadata": {},
     "output_type": "execute_result"
    }
   ],
   "source": [
    "test_fd004.head(3)"
   ]
  },
  {
   "cell_type": "code",
   "execution_count": 10,
   "metadata": {
    "colab": {
     "base_uri": "https://localhost:8080/"
    },
    "id": "eVXDOlymzQhg",
    "outputId": "6b2e7900-9767-4153-a828-328e5a7095e6"
   },
   "outputs": [
    {
     "name": "stdout",
     "output_type": "stream",
     "text": [
      "train_FD001:  (20631, 27) . test_FD001:  (13096, 27) . RUL:  (100, 2)\n",
      "train_FD002:  (53759, 27) . test_FD002:  (33991, 27) . RUL:  (259, 2)\n",
      "train_FD003:  (24720, 27) . test_FD003:  (16596, 27) . RUL:  (100, 2)\n",
      "train_FD004:  (61249, 27) . test_FD004:  (41214, 27) . RUL:  (248, 2)\n"
     ]
    }
   ],
   "source": [
    "print(\"train_FD001: \",train_fd001.shape, \". test_FD001: \", test_fd001.shape,\". RUL: \", rul_fd001.shape)\n",
    "print(\"train_FD002: \",train_fd002.shape, \". test_FD002: \", test_fd002.shape,\". RUL: \", rul_fd002.shape)\n",
    "print(\"train_FD003: \",train_fd003.shape, \". test_FD003: \", test_fd003.shape,\". RUL: \", rul_fd003.shape)\n",
    "print(\"train_FD004: \",train_fd004.shape, \". test_FD004: \", test_fd004.shape,\". RUL: \", rul_fd004.shape)"
   ]
  },
  {
   "cell_type": "code",
   "execution_count": 11,
   "metadata": {
    "colab": {
     "base_uri": "https://localhost:8080/"
    },
    "id": "DIKaiZK9zQhh",
    "outputId": "d9ce2168-4728-4570-ce89-757616c87721"
   },
   "outputs": [
    {
     "name": "stdout",
     "output_type": "stream",
     "text": [
      "train_FD001:  (20631, 27) . test_FD001:  (13096, 27) . nbr moteurs 100\n",
      "train_FD002:  (53759, 27) . test_FD002:  (33991, 27) . nbr moteurs 260\n",
      "train_FD003:  (24720, 27) . test_FD003:  (16596, 27) . nbr moteurs 100\n",
      "train_FD004:  (61249, 27) . test_FD004:  (41214, 27) . nbr moteurs 249\n"
     ]
    }
   ],
   "source": [
    "print(\"train_FD001: \",train_fd001.shape, \". test_FD001: \", test_fd001.shape,\". nbr moteurs\", len(train_fd001['UnitNumber'].unique()))\n",
    "print(\"train_FD002: \",train_fd002.shape, \". test_FD002: \", test_fd002.shape,\". nbr moteurs\", len(train_fd002['UnitNumber'].unique()))\n",
    "print(\"train_FD003: \",train_fd003.shape, \". test_FD003: \", test_fd003.shape,\". nbr moteurs\", len(train_fd003['UnitNumber'].unique()))\n",
    "print(\"train_FD004: \",train_fd004.shape, \". test_FD004: \", test_fd004.shape,\". nbr moteurs\", len(train_fd004['UnitNumber'].unique()))"
   ]
  },
  {
   "cell_type": "code",
   "execution_count": 12,
   "metadata": {
    "colab": {
     "base_uri": "https://localhost:8080/"
    },
    "id": "RpvtN9GRzQhi",
    "outputId": "b41dd7b8-4b22-4850-d6b9-c93d4564551b"
   },
   "outputs": [
    {
     "data": {
      "text/plain": [
       "260"
      ]
     },
     "execution_count": 12,
     "metadata": {},
     "output_type": "execute_result"
    }
   ],
   "source": [
    "len(train_fd002['UnitNumber'].unique())"
   ]
  },
  {
   "cell_type": "markdown",
   "metadata": {
    "id": "yNh2scjNzQhj"
   },
   "source": [
    "# **Data normalization**"
   ]
  },
  {
   "cell_type": "code",
   "execution_count": 13,
   "metadata": {
    "id": "_NZIBGyfZAdU"
   },
   "outputs": [],
   "source": [
    "def normalised_df(train, test):\n",
    "\n",
    "  from sklearn.preprocessing import MinMaxScaler\n",
    "\n",
    "  # Instancier l'objet MinMaxScaler pour normaliser les données\n",
    "  scaler = MinMaxScaler()\n",
    "\n",
    "  # Normaliser train\n",
    "  train_scaled = scaler.fit_transform(train)\n",
    "  train_df = pd.DataFrame(train_scaled)\n",
    "\n",
    "  # Normaliser test\n",
    "  test_scaled = scaler.fit_transform(test)\n",
    "  test_df = pd.DataFrame(test_scaled)\n",
    "\n",
    "\n",
    "  train_df.columns = train.columns\n",
    "  test_df.columns = test.columns\n",
    "    \n",
    "  return train_df, test_df"
   ]
  },
  {
   "cell_type": "code",
   "execution_count": 14,
   "metadata": {
    "id": "M04DCWOdzQhk"
   },
   "outputs": [],
   "source": [
    "train_fd001, test_fd001 = normalised_df(train_fd001, test_fd001)\n",
    "train_fd002, test_fd002 = normalised_df(train_fd002, test_fd002)\n",
    "train_fd003, test_fd003 = normalised_df(train_fd003, test_fd003)\n",
    "train_fd004, test_fd004 = normalised_df(train_fd004, test_fd004)"
   ]
  },
  {
   "cell_type": "code",
   "execution_count": 15,
   "metadata": {
    "colab": {
     "base_uri": "https://localhost:8080/",
     "height": 207
    },
    "id": "9Qd0LZtyzQhk",
    "outputId": "6a04b597-b4cc-48c1-ce5a-db443f64051e"
   },
   "outputs": [
    {
     "data": {
      "text/html": [
       "<div>\n",
       "<style scoped>\n",
       "    .dataframe tbody tr th:only-of-type {\n",
       "        vertical-align: middle;\n",
       "    }\n",
       "\n",
       "    .dataframe tbody tr th {\n",
       "        vertical-align: top;\n",
       "    }\n",
       "\n",
       "    .dataframe thead th {\n",
       "        text-align: right;\n",
       "    }\n",
       "</style>\n",
       "<table border=\"1\" class=\"dataframe\">\n",
       "  <thead>\n",
       "    <tr style=\"text-align: right;\">\n",
       "      <th></th>\n",
       "      <th>UnitNumber</th>\n",
       "      <th>TimeInCycles</th>\n",
       "      <th>OperSet1</th>\n",
       "      <th>OperSet2</th>\n",
       "      <th>OperSet3</th>\n",
       "      <th>SensorMes1</th>\n",
       "      <th>SensorMes2</th>\n",
       "      <th>SensorMes3</th>\n",
       "      <th>SensorMes4</th>\n",
       "      <th>SensorMes5</th>\n",
       "      <th>SensorMes6</th>\n",
       "      <th>SensorMes7</th>\n",
       "      <th>SensorMes8</th>\n",
       "      <th>SensorMes9</th>\n",
       "      <th>SensorMes10</th>\n",
       "      <th>SensorMes11</th>\n",
       "      <th>SensorMes12</th>\n",
       "      <th>SensorMes13</th>\n",
       "      <th>SensorMes14</th>\n",
       "      <th>SensorMes15</th>\n",
       "      <th>SensorMes16</th>\n",
       "      <th>SensorMes17</th>\n",
       "      <th>SensorMes18</th>\n",
       "      <th>SensorMes19</th>\n",
       "      <th>SensorMes20</th>\n",
       "      <th>SensorMes21</th>\n",
       "      <th>RUL</th>\n",
       "    </tr>\n",
       "  </thead>\n",
       "  <tbody>\n",
       "    <tr>\n",
       "      <th>0</th>\n",
       "      <td>0.0</td>\n",
       "      <td>0.000000</td>\n",
       "      <td>0.999926</td>\n",
       "      <td>0.997625</td>\n",
       "      <td>1.0</td>\n",
       "      <td>0.000000</td>\n",
       "      <td>0.130347</td>\n",
       "      <td>0.272082</td>\n",
       "      <td>0.212586</td>\n",
       "      <td>0.000000</td>\n",
       "      <td>0.001882</td>\n",
       "      <td>0.002738</td>\n",
       "      <td>0.626983</td>\n",
       "      <td>0.269578</td>\n",
       "      <td>0.205128</td>\n",
       "      <td>0.458604</td>\n",
       "      <td>0.003593</td>\n",
       "      <td>0.993111</td>\n",
       "      <td>0.550773</td>\n",
       "      <td>0.400540</td>\n",
       "      <td>0.0</td>\n",
       "      <td>0.288660</td>\n",
       "      <td>0.627907</td>\n",
       "      <td>1.0</td>\n",
       "      <td>0.015473</td>\n",
       "      <td>0.015881</td>\n",
       "      <td>0.590406</td>\n",
       "    </tr>\n",
       "    <tr>\n",
       "      <th>1</th>\n",
       "      <td>0.0</td>\n",
       "      <td>0.001845</td>\n",
       "      <td>0.476147</td>\n",
       "      <td>0.831591</td>\n",
       "      <td>1.0</td>\n",
       "      <td>0.626985</td>\n",
       "      <td>0.647971</td>\n",
       "      <td>0.634407</td>\n",
       "      <td>0.511781</td>\n",
       "      <td>0.507937</td>\n",
       "      <td>0.498118</td>\n",
       "      <td>0.450787</td>\n",
       "      <td>0.862888</td>\n",
       "      <td>0.601411</td>\n",
       "      <td>0.358974</td>\n",
       "      <td>0.641234</td>\n",
       "      <td>0.450364</td>\n",
       "      <td>0.992395</td>\n",
       "      <td>0.481761</td>\n",
       "      <td>0.351346</td>\n",
       "      <td>0.0</td>\n",
       "      <td>0.608247</td>\n",
       "      <td>0.864693</td>\n",
       "      <td>1.0</td>\n",
       "      <td>0.477968</td>\n",
       "      <td>0.481487</td>\n",
       "      <td>0.588561</td>\n",
       "    </tr>\n",
       "    <tr>\n",
       "      <th>2</th>\n",
       "      <td>0.0</td>\n",
       "      <td>0.003690</td>\n",
       "      <td>0.999900</td>\n",
       "      <td>0.998694</td>\n",
       "      <td>1.0</td>\n",
       "      <td>0.000000</td>\n",
       "      <td>0.123646</td>\n",
       "      <td>0.271245</td>\n",
       "      <td>0.222481</td>\n",
       "      <td>0.000000</td>\n",
       "      <td>0.001255</td>\n",
       "      <td>0.004625</td>\n",
       "      <td>0.627110</td>\n",
       "      <td>0.265759</td>\n",
       "      <td>0.205128</td>\n",
       "      <td>0.456169</td>\n",
       "      <td>0.003202</td>\n",
       "      <td>0.993056</td>\n",
       "      <td>0.531031</td>\n",
       "      <td>0.423787</td>\n",
       "      <td>0.0</td>\n",
       "      <td>0.278351</td>\n",
       "      <td>0.627907</td>\n",
       "      <td>1.0</td>\n",
       "      <td>0.010764</td>\n",
       "      <td>0.018932</td>\n",
       "      <td>0.586716</td>\n",
       "    </tr>\n",
       "  </tbody>\n",
       "</table>\n",
       "</div>"
      ],
      "text/plain": [
       "   UnitNumber  TimeInCycles  OperSet1  OperSet2  OperSet3  SensorMes1  \\\n",
       "0         0.0      0.000000  0.999926  0.997625       1.0    0.000000   \n",
       "1         0.0      0.001845  0.476147  0.831591       1.0    0.626985   \n",
       "2         0.0      0.003690  0.999900  0.998694       1.0    0.000000   \n",
       "\n",
       "   SensorMes2  SensorMes3  SensorMes4  SensorMes5  SensorMes6  SensorMes7  \\\n",
       "0    0.130347    0.272082    0.212586    0.000000    0.001882    0.002738   \n",
       "1    0.647971    0.634407    0.511781    0.507937    0.498118    0.450787   \n",
       "2    0.123646    0.271245    0.222481    0.000000    0.001255    0.004625   \n",
       "\n",
       "   SensorMes8  SensorMes9  SensorMes10  SensorMes11  SensorMes12  SensorMes13  \\\n",
       "0    0.626983    0.269578     0.205128     0.458604     0.003593     0.993111   \n",
       "1    0.862888    0.601411     0.358974     0.641234     0.450364     0.992395   \n",
       "2    0.627110    0.265759     0.205128     0.456169     0.003202     0.993056   \n",
       "\n",
       "   SensorMes14  SensorMes15  SensorMes16  SensorMes17  SensorMes18  \\\n",
       "0     0.550773     0.400540          0.0     0.288660     0.627907   \n",
       "1     0.481761     0.351346          0.0     0.608247     0.864693   \n",
       "2     0.531031     0.423787          0.0     0.278351     0.627907   \n",
       "\n",
       "   SensorMes19  SensorMes20  SensorMes21       RUL  \n",
       "0          1.0     0.015473     0.015881  0.590406  \n",
       "1          1.0     0.477968     0.481487  0.588561  \n",
       "2          1.0     0.010764     0.018932  0.586716  "
      ]
     },
     "execution_count": 15,
     "metadata": {},
     "output_type": "execute_result"
    }
   ],
   "source": [
    "train_fd004.head(3)"
   ]
  },
  {
   "cell_type": "markdown",
   "metadata": {
    "id": "saXzvQieSZi7"
   },
   "source": [
    "# **Data splitting**"
   ]
  },
  {
   "cell_type": "code",
   "execution_count": 16,
   "metadata": {
    "id": "lZWWDPa-QZ6A"
   },
   "outputs": [],
   "source": [
    "def data_split(train, test):\n",
    "\n",
    "  # data split\n",
    "  X_train = train.drop('RUL', axis=1)\n",
    "  Y_train = train['RUL']\n",
    "  X_test = test.drop('RUL', axis=1)\n",
    "  Y_test = test['RUL']\n",
    "    \n",
    "  return X_train, Y_train, X_test, Y_test\n"
   ]
  },
  {
   "cell_type": "markdown",
   "metadata": {
    "id": "6ME9D2ueVxeT"
   },
   "source": [
    "# **Light Gradient Boosting on ElasticNet**"
   ]
  },
  {
   "cell_type": "code",
   "execution_count": 17,
   "metadata": {
    "id": "ulZGXcj_Oold"
   },
   "outputs": [],
   "source": [
    "from sklearn.linear_model import ElasticNetCV\n",
    "from lightgbm import LGBMRegressor\n",
    "\n",
    "def my_lgb_elast(train, test):\n",
    "\n",
    "    X_train, Y_train, X_test, Y_test = data_split(train, test)\n",
    "\n",
    "\n",
    "    # Définition du modèle ElasticNet\n",
    "    enet = ElasticNetCV(cv=5)\n",
    "\n",
    "    # Ajustement du modèle aux données d'entraînement\n",
    "    enet.fit(X_train, Y_train)\n",
    "\n",
    "    # Meilleurs hyperparamètres trouvés\n",
    "    print(enet.alpha_, enet.l1_ratio_)\n",
    "\n",
    "    # Définition du modèle LightGBM\n",
    "    lgbm = LGBMRegressor()\n",
    "\n",
    "    # Définition des hyperparamètres à optimiser\n",
    "    param_grid = {\n",
    "        'learning_rate': [0.01, 0.05, 0.1],\n",
    "        'n_estimators': [50, 100, 200],\n",
    "        'num_leaves': [20, 30, 40],\n",
    "        'min_child_samples': [10, 20, 30]\n",
    "    }\n",
    "\n",
    "\n",
    "    # Recherche des hyperparamètres optimaux\n",
    "    grid_search = GridSearchCV(lgbm, param_grid=param_grid, cv=5)\n",
    "    grid_search.fit(X_train, Y_train)\n",
    "\n",
    "    # Meilleurs hyperparamètres trouvés\n",
    "    print(\"Meilleurs paramètres trouvés :\")\n",
    "    print(grid_search.best_params_)\n",
    "    \n",
    "    \n",
    "    \n",
    "    '''#-------------Train---------------------\n",
    "    # Prédire les valeurs en utilisant le modèle KNN Regressor pour les données Train\n",
    "    y_pred_train = grid_search.predict(X_train)\n",
    "    # Afficher l'erreur quadratique moyenne et le coefficient de détermination R2\n",
    "    mse_train = mean_squared_error(Y_train, y_pred_train)\n",
    "    rmse_train = np.sqrt(mse_train)\n",
    "    mae_train = mean_absolute_error(Y_train, y_pred_train)\n",
    "    mape_train = np.mean(np.abs((Y_train - y_pred_train) / Y_train)) * 100\n",
    "    r2_train = r2_score(Y_train, y_pred_train)\n",
    "    adjusted_r2_train = 1 - (1-r2_train)*(len(Y_train)-1)/(len(Y_train)-X_train.shape[1]-1)\n",
    "\n",
    "    print('\\n=============================Train=============================')\n",
    "    print('MSE : ',mse_train * 100,'%')\n",
    "    print('RMSE : ',rmse_train * 100,'%')\n",
    "    print('MAE : ',mae_train * 100,'%')\n",
    "    print('MAPE : ',mape_train,'%')\n",
    "    print('R2 : ',r2_train * 100,'%')\n",
    "    print('Adjusted R2 : ', adjusted_r2_train * 100,'%')'''\n",
    "\n",
    "    #-------------Test---------------------\n",
    "    # Prédire les valeurs en utilisant le modèle KNN Regressor pour les données Test\n",
    "    y_pred_test = grid_search.predict(X_test)\n",
    "    # Afficher l'erreur quadratique moyenne et le coefficient de détermination R2\n",
    "    mse_test = mean_squared_error(Y_test, y_pred_test)\n",
    "    rmse_test = np.sqrt(mse_test)\n",
    "    mae_test = mean_absolute_error(Y_test, y_pred_test)\n",
    "    mape_test = np.mean(np.abs((Y_test - y_pred_test) / Y_test)) * 100\n",
    "    r2_test = r2_score(Y_test, y_pred_test)\n",
    "    adjusted_r2_test = 1 - (1-r2_test)*(len(Y_test)-1)/(len(Y_test)-X_test.shape[1]-1)\n",
    "\n",
    "    print('\\n=============================Test=============================')\n",
    "    print('MSE : ',mse_test * 100,'%')\n",
    "    print('RMSE : ',rmse_test * 100,'%')\n",
    "    print('MAE : ',mae_test * 100,'%')\n",
    "    print('MAPE : ',mape_test,'%')\n",
    "    print('R2 : ',r2_test * 100,'%')\n",
    "    print('Adjusted R2 : ', adjusted_r2_test * 100,'%')"
   ]
  },
  {
   "cell_type": "code",
   "execution_count": 18,
   "metadata": {
    "colab": {
     "base_uri": "https://localhost:8080/"
    },
    "id": "TvUvhxftT-qq",
    "outputId": "8e5310fc-d6a7-4ea5-ebdd-9b084dcb0685",
    "scrolled": true
   },
   "outputs": [
    {
     "name": "stdout",
     "output_type": "stream",
     "text": [
      "0.0007598506125843051 0.5\n"
     ]
    },
    {
     "ename": "KeyboardInterrupt",
     "evalue": "",
     "output_type": "error",
     "traceback": [
      "\u001b[1;31m---------------------------------------------------------------------------\u001b[0m",
      "\u001b[1;31mKeyboardInterrupt\u001b[0m                         Traceback (most recent call last)",
      "Cell \u001b[1;32mIn[18], line 1\u001b[0m\n\u001b[1;32m----> 1\u001b[0m \u001b[43mmy_lgb_elast\u001b[49m\u001b[43m(\u001b[49m\u001b[43mtrain_fd001\u001b[49m\u001b[43m,\u001b[49m\u001b[43m \u001b[49m\u001b[43mtest_fd001\u001b[49m\u001b[43m)\u001b[49m\n",
      "Cell \u001b[1;32mIn[17], line 32\u001b[0m, in \u001b[0;36mmy_lgb_elast\u001b[1;34m(train, test)\u001b[0m\n\u001b[0;32m     30\u001b[0m \u001b[38;5;66;03m# Recherche des hyperparamètres optimaux\u001b[39;00m\n\u001b[0;32m     31\u001b[0m grid_search \u001b[38;5;241m=\u001b[39m GridSearchCV(lgbm, param_grid\u001b[38;5;241m=\u001b[39mparam_grid, cv\u001b[38;5;241m=\u001b[39m\u001b[38;5;241m5\u001b[39m)\n\u001b[1;32m---> 32\u001b[0m \u001b[43mgrid_search\u001b[49m\u001b[38;5;241;43m.\u001b[39;49m\u001b[43mfit\u001b[49m\u001b[43m(\u001b[49m\u001b[43mX_train\u001b[49m\u001b[43m,\u001b[49m\u001b[43m \u001b[49m\u001b[43mY_train\u001b[49m\u001b[43m)\u001b[49m\n\u001b[0;32m     34\u001b[0m \u001b[38;5;66;03m# Meilleurs hyperparamètres trouvés\u001b[39;00m\n\u001b[0;32m     35\u001b[0m \u001b[38;5;28mprint\u001b[39m(\u001b[38;5;124m\"\u001b[39m\u001b[38;5;124mMeilleurs paramètres trouvés :\u001b[39m\u001b[38;5;124m\"\u001b[39m)\n",
      "File \u001b[1;32m~\\AppData\\Local\\anaconda3\\lib\\site-packages\\sklearn\\model_selection\\_search.py:874\u001b[0m, in \u001b[0;36mBaseSearchCV.fit\u001b[1;34m(self, X, y, groups, **fit_params)\u001b[0m\n\u001b[0;32m    868\u001b[0m     results \u001b[38;5;241m=\u001b[39m \u001b[38;5;28mself\u001b[39m\u001b[38;5;241m.\u001b[39m_format_results(\n\u001b[0;32m    869\u001b[0m         all_candidate_params, n_splits, all_out, all_more_results\n\u001b[0;32m    870\u001b[0m     )\n\u001b[0;32m    872\u001b[0m     \u001b[38;5;28;01mreturn\u001b[39;00m results\n\u001b[1;32m--> 874\u001b[0m \u001b[38;5;28;43mself\u001b[39;49m\u001b[38;5;241;43m.\u001b[39;49m\u001b[43m_run_search\u001b[49m\u001b[43m(\u001b[49m\u001b[43mevaluate_candidates\u001b[49m\u001b[43m)\u001b[49m\n\u001b[0;32m    876\u001b[0m \u001b[38;5;66;03m# multimetric is determined here because in the case of a callable\u001b[39;00m\n\u001b[0;32m    877\u001b[0m \u001b[38;5;66;03m# self.scoring the return type is only known after calling\u001b[39;00m\n\u001b[0;32m    878\u001b[0m first_test_score \u001b[38;5;241m=\u001b[39m all_out[\u001b[38;5;241m0\u001b[39m][\u001b[38;5;124m\"\u001b[39m\u001b[38;5;124mtest_scores\u001b[39m\u001b[38;5;124m\"\u001b[39m]\n",
      "File \u001b[1;32m~\\AppData\\Local\\anaconda3\\lib\\site-packages\\sklearn\\model_selection\\_search.py:1388\u001b[0m, in \u001b[0;36mGridSearchCV._run_search\u001b[1;34m(self, evaluate_candidates)\u001b[0m\n\u001b[0;32m   1386\u001b[0m \u001b[38;5;28;01mdef\u001b[39;00m \u001b[38;5;21m_run_search\u001b[39m(\u001b[38;5;28mself\u001b[39m, evaluate_candidates):\n\u001b[0;32m   1387\u001b[0m \u001b[38;5;250m    \u001b[39m\u001b[38;5;124;03m\"\"\"Search all candidates in param_grid\"\"\"\u001b[39;00m\n\u001b[1;32m-> 1388\u001b[0m     \u001b[43mevaluate_candidates\u001b[49m\u001b[43m(\u001b[49m\u001b[43mParameterGrid\u001b[49m\u001b[43m(\u001b[49m\u001b[38;5;28;43mself\u001b[39;49m\u001b[38;5;241;43m.\u001b[39;49m\u001b[43mparam_grid\u001b[49m\u001b[43m)\u001b[49m\u001b[43m)\u001b[49m\n",
      "File \u001b[1;32m~\\AppData\\Local\\anaconda3\\lib\\site-packages\\sklearn\\model_selection\\_search.py:821\u001b[0m, in \u001b[0;36mBaseSearchCV.fit.<locals>.evaluate_candidates\u001b[1;34m(candidate_params, cv, more_results)\u001b[0m\n\u001b[0;32m    813\u001b[0m \u001b[38;5;28;01mif\u001b[39;00m \u001b[38;5;28mself\u001b[39m\u001b[38;5;241m.\u001b[39mverbose \u001b[38;5;241m>\u001b[39m \u001b[38;5;241m0\u001b[39m:\n\u001b[0;32m    814\u001b[0m     \u001b[38;5;28mprint\u001b[39m(\n\u001b[0;32m    815\u001b[0m         \u001b[38;5;124m\"\u001b[39m\u001b[38;5;124mFitting \u001b[39m\u001b[38;5;132;01m{0}\u001b[39;00m\u001b[38;5;124m folds for each of \u001b[39m\u001b[38;5;132;01m{1}\u001b[39;00m\u001b[38;5;124m candidates,\u001b[39m\u001b[38;5;124m\"\u001b[39m\n\u001b[0;32m    816\u001b[0m         \u001b[38;5;124m\"\u001b[39m\u001b[38;5;124m totalling \u001b[39m\u001b[38;5;132;01m{2}\u001b[39;00m\u001b[38;5;124m fits\u001b[39m\u001b[38;5;124m\"\u001b[39m\u001b[38;5;241m.\u001b[39mformat(\n\u001b[0;32m    817\u001b[0m             n_splits, n_candidates, n_candidates \u001b[38;5;241m*\u001b[39m n_splits\n\u001b[0;32m    818\u001b[0m         )\n\u001b[0;32m    819\u001b[0m     )\n\u001b[1;32m--> 821\u001b[0m out \u001b[38;5;241m=\u001b[39m \u001b[43mparallel\u001b[49m\u001b[43m(\u001b[49m\n\u001b[0;32m    822\u001b[0m \u001b[43m    \u001b[49m\u001b[43mdelayed\u001b[49m\u001b[43m(\u001b[49m\u001b[43m_fit_and_score\u001b[49m\u001b[43m)\u001b[49m\u001b[43m(\u001b[49m\n\u001b[0;32m    823\u001b[0m \u001b[43m        \u001b[49m\u001b[43mclone\u001b[49m\u001b[43m(\u001b[49m\u001b[43mbase_estimator\u001b[49m\u001b[43m)\u001b[49m\u001b[43m,\u001b[49m\n\u001b[0;32m    824\u001b[0m \u001b[43m        \u001b[49m\u001b[43mX\u001b[49m\u001b[43m,\u001b[49m\n\u001b[0;32m    825\u001b[0m \u001b[43m        \u001b[49m\u001b[43my\u001b[49m\u001b[43m,\u001b[49m\n\u001b[0;32m    826\u001b[0m \u001b[43m        \u001b[49m\u001b[43mtrain\u001b[49m\u001b[38;5;241;43m=\u001b[39;49m\u001b[43mtrain\u001b[49m\u001b[43m,\u001b[49m\n\u001b[0;32m    827\u001b[0m \u001b[43m        \u001b[49m\u001b[43mtest\u001b[49m\u001b[38;5;241;43m=\u001b[39;49m\u001b[43mtest\u001b[49m\u001b[43m,\u001b[49m\n\u001b[0;32m    828\u001b[0m \u001b[43m        \u001b[49m\u001b[43mparameters\u001b[49m\u001b[38;5;241;43m=\u001b[39;49m\u001b[43mparameters\u001b[49m\u001b[43m,\u001b[49m\n\u001b[0;32m    829\u001b[0m \u001b[43m        \u001b[49m\u001b[43msplit_progress\u001b[49m\u001b[38;5;241;43m=\u001b[39;49m\u001b[43m(\u001b[49m\u001b[43msplit_idx\u001b[49m\u001b[43m,\u001b[49m\u001b[43m \u001b[49m\u001b[43mn_splits\u001b[49m\u001b[43m)\u001b[49m\u001b[43m,\u001b[49m\n\u001b[0;32m    830\u001b[0m \u001b[43m        \u001b[49m\u001b[43mcandidate_progress\u001b[49m\u001b[38;5;241;43m=\u001b[39;49m\u001b[43m(\u001b[49m\u001b[43mcand_idx\u001b[49m\u001b[43m,\u001b[49m\u001b[43m \u001b[49m\u001b[43mn_candidates\u001b[49m\u001b[43m)\u001b[49m\u001b[43m,\u001b[49m\n\u001b[0;32m    831\u001b[0m \u001b[43m        \u001b[49m\u001b[38;5;241;43m*\u001b[39;49m\u001b[38;5;241;43m*\u001b[39;49m\u001b[43mfit_and_score_kwargs\u001b[49m\u001b[43m,\u001b[49m\n\u001b[0;32m    832\u001b[0m \u001b[43m    \u001b[49m\u001b[43m)\u001b[49m\n\u001b[0;32m    833\u001b[0m \u001b[43m    \u001b[49m\u001b[38;5;28;43;01mfor\u001b[39;49;00m\u001b[43m \u001b[49m\u001b[43m(\u001b[49m\u001b[43mcand_idx\u001b[49m\u001b[43m,\u001b[49m\u001b[43m \u001b[49m\u001b[43mparameters\u001b[49m\u001b[43m)\u001b[49m\u001b[43m,\u001b[49m\u001b[43m \u001b[49m\u001b[43m(\u001b[49m\u001b[43msplit_idx\u001b[49m\u001b[43m,\u001b[49m\u001b[43m \u001b[49m\u001b[43m(\u001b[49m\u001b[43mtrain\u001b[49m\u001b[43m,\u001b[49m\u001b[43m \u001b[49m\u001b[43mtest\u001b[49m\u001b[43m)\u001b[49m\u001b[43m)\u001b[49m\u001b[43m \u001b[49m\u001b[38;5;129;43;01min\u001b[39;49;00m\u001b[43m \u001b[49m\u001b[43mproduct\u001b[49m\u001b[43m(\u001b[49m\n\u001b[0;32m    834\u001b[0m \u001b[43m        \u001b[49m\u001b[38;5;28;43menumerate\u001b[39;49m\u001b[43m(\u001b[49m\u001b[43mcandidate_params\u001b[49m\u001b[43m)\u001b[49m\u001b[43m,\u001b[49m\u001b[43m \u001b[49m\u001b[38;5;28;43menumerate\u001b[39;49m\u001b[43m(\u001b[49m\u001b[43mcv\u001b[49m\u001b[38;5;241;43m.\u001b[39;49m\u001b[43msplit\u001b[49m\u001b[43m(\u001b[49m\u001b[43mX\u001b[49m\u001b[43m,\u001b[49m\u001b[43m \u001b[49m\u001b[43my\u001b[49m\u001b[43m,\u001b[49m\u001b[43m \u001b[49m\u001b[43mgroups\u001b[49m\u001b[43m)\u001b[49m\u001b[43m)\u001b[49m\n\u001b[0;32m    835\u001b[0m \u001b[43m    \u001b[49m\u001b[43m)\u001b[49m\n\u001b[0;32m    836\u001b[0m \u001b[43m\u001b[49m\u001b[43m)\u001b[49m\n\u001b[0;32m    838\u001b[0m \u001b[38;5;28;01mif\u001b[39;00m \u001b[38;5;28mlen\u001b[39m(out) \u001b[38;5;241m<\u001b[39m \u001b[38;5;241m1\u001b[39m:\n\u001b[0;32m    839\u001b[0m     \u001b[38;5;28;01mraise\u001b[39;00m \u001b[38;5;167;01mValueError\u001b[39;00m(\n\u001b[0;32m    840\u001b[0m         \u001b[38;5;124m\"\u001b[39m\u001b[38;5;124mNo fits were performed. \u001b[39m\u001b[38;5;124m\"\u001b[39m\n\u001b[0;32m    841\u001b[0m         \u001b[38;5;124m\"\u001b[39m\u001b[38;5;124mWas the CV iterator empty? \u001b[39m\u001b[38;5;124m\"\u001b[39m\n\u001b[0;32m    842\u001b[0m         \u001b[38;5;124m\"\u001b[39m\u001b[38;5;124mWere there no candidates?\u001b[39m\u001b[38;5;124m\"\u001b[39m\n\u001b[0;32m    843\u001b[0m     )\n",
      "File \u001b[1;32m~\\AppData\\Local\\anaconda3\\lib\\site-packages\\sklearn\\utils\\parallel.py:63\u001b[0m, in \u001b[0;36mParallel.__call__\u001b[1;34m(self, iterable)\u001b[0m\n\u001b[0;32m     58\u001b[0m config \u001b[38;5;241m=\u001b[39m get_config()\n\u001b[0;32m     59\u001b[0m iterable_with_config \u001b[38;5;241m=\u001b[39m (\n\u001b[0;32m     60\u001b[0m     (_with_config(delayed_func, config), args, kwargs)\n\u001b[0;32m     61\u001b[0m     \u001b[38;5;28;01mfor\u001b[39;00m delayed_func, args, kwargs \u001b[38;5;129;01min\u001b[39;00m iterable\n\u001b[0;32m     62\u001b[0m )\n\u001b[1;32m---> 63\u001b[0m \u001b[38;5;28;01mreturn\u001b[39;00m \u001b[38;5;28;43msuper\u001b[39;49m\u001b[43m(\u001b[49m\u001b[43m)\u001b[49m\u001b[38;5;241;43m.\u001b[39;49m\u001b[38;5;21;43m__call__\u001b[39;49m\u001b[43m(\u001b[49m\u001b[43miterable_with_config\u001b[49m\u001b[43m)\u001b[49m\n",
      "File \u001b[1;32m~\\AppData\\Local\\anaconda3\\lib\\site-packages\\joblib\\parallel.py:1051\u001b[0m, in \u001b[0;36mParallel.__call__\u001b[1;34m(self, iterable)\u001b[0m\n\u001b[0;32m   1048\u001b[0m \u001b[38;5;28;01mif\u001b[39;00m \u001b[38;5;28mself\u001b[39m\u001b[38;5;241m.\u001b[39mdispatch_one_batch(iterator):\n\u001b[0;32m   1049\u001b[0m     \u001b[38;5;28mself\u001b[39m\u001b[38;5;241m.\u001b[39m_iterating \u001b[38;5;241m=\u001b[39m \u001b[38;5;28mself\u001b[39m\u001b[38;5;241m.\u001b[39m_original_iterator \u001b[38;5;129;01mis\u001b[39;00m \u001b[38;5;129;01mnot\u001b[39;00m \u001b[38;5;28;01mNone\u001b[39;00m\n\u001b[1;32m-> 1051\u001b[0m \u001b[38;5;28;01mwhile\u001b[39;00m \u001b[38;5;28;43mself\u001b[39;49m\u001b[38;5;241;43m.\u001b[39;49m\u001b[43mdispatch_one_batch\u001b[49m\u001b[43m(\u001b[49m\u001b[43miterator\u001b[49m\u001b[43m)\u001b[49m:\n\u001b[0;32m   1052\u001b[0m     \u001b[38;5;28;01mpass\u001b[39;00m\n\u001b[0;32m   1054\u001b[0m \u001b[38;5;28;01mif\u001b[39;00m pre_dispatch \u001b[38;5;241m==\u001b[39m \u001b[38;5;124m\"\u001b[39m\u001b[38;5;124mall\u001b[39m\u001b[38;5;124m\"\u001b[39m \u001b[38;5;129;01mor\u001b[39;00m n_jobs \u001b[38;5;241m==\u001b[39m \u001b[38;5;241m1\u001b[39m:\n\u001b[0;32m   1055\u001b[0m     \u001b[38;5;66;03m# The iterable was consumed all at once by the above for loop.\u001b[39;00m\n\u001b[0;32m   1056\u001b[0m     \u001b[38;5;66;03m# No need to wait for async callbacks to trigger to\u001b[39;00m\n\u001b[0;32m   1057\u001b[0m     \u001b[38;5;66;03m# consumption.\u001b[39;00m\n",
      "File \u001b[1;32m~\\AppData\\Local\\anaconda3\\lib\\site-packages\\joblib\\parallel.py:864\u001b[0m, in \u001b[0;36mParallel.dispatch_one_batch\u001b[1;34m(self, iterator)\u001b[0m\n\u001b[0;32m    862\u001b[0m     \u001b[38;5;28;01mreturn\u001b[39;00m \u001b[38;5;28;01mFalse\u001b[39;00m\n\u001b[0;32m    863\u001b[0m \u001b[38;5;28;01melse\u001b[39;00m:\n\u001b[1;32m--> 864\u001b[0m     \u001b[38;5;28;43mself\u001b[39;49m\u001b[38;5;241;43m.\u001b[39;49m\u001b[43m_dispatch\u001b[49m\u001b[43m(\u001b[49m\u001b[43mtasks\u001b[49m\u001b[43m)\u001b[49m\n\u001b[0;32m    865\u001b[0m     \u001b[38;5;28;01mreturn\u001b[39;00m \u001b[38;5;28;01mTrue\u001b[39;00m\n",
      "File \u001b[1;32m~\\AppData\\Local\\anaconda3\\lib\\site-packages\\joblib\\parallel.py:782\u001b[0m, in \u001b[0;36mParallel._dispatch\u001b[1;34m(self, batch)\u001b[0m\n\u001b[0;32m    780\u001b[0m \u001b[38;5;28;01mwith\u001b[39;00m \u001b[38;5;28mself\u001b[39m\u001b[38;5;241m.\u001b[39m_lock:\n\u001b[0;32m    781\u001b[0m     job_idx \u001b[38;5;241m=\u001b[39m \u001b[38;5;28mlen\u001b[39m(\u001b[38;5;28mself\u001b[39m\u001b[38;5;241m.\u001b[39m_jobs)\n\u001b[1;32m--> 782\u001b[0m     job \u001b[38;5;241m=\u001b[39m \u001b[38;5;28;43mself\u001b[39;49m\u001b[38;5;241;43m.\u001b[39;49m\u001b[43m_backend\u001b[49m\u001b[38;5;241;43m.\u001b[39;49m\u001b[43mapply_async\u001b[49m\u001b[43m(\u001b[49m\u001b[43mbatch\u001b[49m\u001b[43m,\u001b[49m\u001b[43m \u001b[49m\u001b[43mcallback\u001b[49m\u001b[38;5;241;43m=\u001b[39;49m\u001b[43mcb\u001b[49m\u001b[43m)\u001b[49m\n\u001b[0;32m    783\u001b[0m     \u001b[38;5;66;03m# A job can complete so quickly than its callback is\u001b[39;00m\n\u001b[0;32m    784\u001b[0m     \u001b[38;5;66;03m# called before we get here, causing self._jobs to\u001b[39;00m\n\u001b[0;32m    785\u001b[0m     \u001b[38;5;66;03m# grow. To ensure correct results ordering, .insert is\u001b[39;00m\n\u001b[0;32m    786\u001b[0m     \u001b[38;5;66;03m# used (rather than .append) in the following line\u001b[39;00m\n\u001b[0;32m    787\u001b[0m     \u001b[38;5;28mself\u001b[39m\u001b[38;5;241m.\u001b[39m_jobs\u001b[38;5;241m.\u001b[39minsert(job_idx, job)\n",
      "File \u001b[1;32m~\\AppData\\Local\\anaconda3\\lib\\site-packages\\joblib\\_parallel_backends.py:208\u001b[0m, in \u001b[0;36mSequentialBackend.apply_async\u001b[1;34m(self, func, callback)\u001b[0m\n\u001b[0;32m    206\u001b[0m \u001b[38;5;28;01mdef\u001b[39;00m \u001b[38;5;21mapply_async\u001b[39m(\u001b[38;5;28mself\u001b[39m, func, callback\u001b[38;5;241m=\u001b[39m\u001b[38;5;28;01mNone\u001b[39;00m):\n\u001b[0;32m    207\u001b[0m \u001b[38;5;250m    \u001b[39m\u001b[38;5;124;03m\"\"\"Schedule a func to be run\"\"\"\u001b[39;00m\n\u001b[1;32m--> 208\u001b[0m     result \u001b[38;5;241m=\u001b[39m \u001b[43mImmediateResult\u001b[49m\u001b[43m(\u001b[49m\u001b[43mfunc\u001b[49m\u001b[43m)\u001b[49m\n\u001b[0;32m    209\u001b[0m     \u001b[38;5;28;01mif\u001b[39;00m callback:\n\u001b[0;32m    210\u001b[0m         callback(result)\n",
      "File \u001b[1;32m~\\AppData\\Local\\anaconda3\\lib\\site-packages\\joblib\\_parallel_backends.py:572\u001b[0m, in \u001b[0;36mImmediateResult.__init__\u001b[1;34m(self, batch)\u001b[0m\n\u001b[0;32m    569\u001b[0m \u001b[38;5;28;01mdef\u001b[39;00m \u001b[38;5;21m__init__\u001b[39m(\u001b[38;5;28mself\u001b[39m, batch):\n\u001b[0;32m    570\u001b[0m     \u001b[38;5;66;03m# Don't delay the application, to avoid keeping the input\u001b[39;00m\n\u001b[0;32m    571\u001b[0m     \u001b[38;5;66;03m# arguments in memory\u001b[39;00m\n\u001b[1;32m--> 572\u001b[0m     \u001b[38;5;28mself\u001b[39m\u001b[38;5;241m.\u001b[39mresults \u001b[38;5;241m=\u001b[39m \u001b[43mbatch\u001b[49m\u001b[43m(\u001b[49m\u001b[43m)\u001b[49m\n",
      "File \u001b[1;32m~\\AppData\\Local\\anaconda3\\lib\\site-packages\\joblib\\parallel.py:263\u001b[0m, in \u001b[0;36mBatchedCalls.__call__\u001b[1;34m(self)\u001b[0m\n\u001b[0;32m    259\u001b[0m \u001b[38;5;28;01mdef\u001b[39;00m \u001b[38;5;21m__call__\u001b[39m(\u001b[38;5;28mself\u001b[39m):\n\u001b[0;32m    260\u001b[0m     \u001b[38;5;66;03m# Set the default nested backend to self._backend but do not set the\u001b[39;00m\n\u001b[0;32m    261\u001b[0m     \u001b[38;5;66;03m# change the default number of processes to -1\u001b[39;00m\n\u001b[0;32m    262\u001b[0m     \u001b[38;5;28;01mwith\u001b[39;00m parallel_backend(\u001b[38;5;28mself\u001b[39m\u001b[38;5;241m.\u001b[39m_backend, n_jobs\u001b[38;5;241m=\u001b[39m\u001b[38;5;28mself\u001b[39m\u001b[38;5;241m.\u001b[39m_n_jobs):\n\u001b[1;32m--> 263\u001b[0m         \u001b[38;5;28;01mreturn\u001b[39;00m [func(\u001b[38;5;241m*\u001b[39margs, \u001b[38;5;241m*\u001b[39m\u001b[38;5;241m*\u001b[39mkwargs)\n\u001b[0;32m    264\u001b[0m                 \u001b[38;5;28;01mfor\u001b[39;00m func, args, kwargs \u001b[38;5;129;01min\u001b[39;00m \u001b[38;5;28mself\u001b[39m\u001b[38;5;241m.\u001b[39mitems]\n",
      "File \u001b[1;32m~\\AppData\\Local\\anaconda3\\lib\\site-packages\\joblib\\parallel.py:263\u001b[0m, in \u001b[0;36m<listcomp>\u001b[1;34m(.0)\u001b[0m\n\u001b[0;32m    259\u001b[0m \u001b[38;5;28;01mdef\u001b[39;00m \u001b[38;5;21m__call__\u001b[39m(\u001b[38;5;28mself\u001b[39m):\n\u001b[0;32m    260\u001b[0m     \u001b[38;5;66;03m# Set the default nested backend to self._backend but do not set the\u001b[39;00m\n\u001b[0;32m    261\u001b[0m     \u001b[38;5;66;03m# change the default number of processes to -1\u001b[39;00m\n\u001b[0;32m    262\u001b[0m     \u001b[38;5;28;01mwith\u001b[39;00m parallel_backend(\u001b[38;5;28mself\u001b[39m\u001b[38;5;241m.\u001b[39m_backend, n_jobs\u001b[38;5;241m=\u001b[39m\u001b[38;5;28mself\u001b[39m\u001b[38;5;241m.\u001b[39m_n_jobs):\n\u001b[1;32m--> 263\u001b[0m         \u001b[38;5;28;01mreturn\u001b[39;00m [func(\u001b[38;5;241m*\u001b[39margs, \u001b[38;5;241m*\u001b[39m\u001b[38;5;241m*\u001b[39mkwargs)\n\u001b[0;32m    264\u001b[0m                 \u001b[38;5;28;01mfor\u001b[39;00m func, args, kwargs \u001b[38;5;129;01min\u001b[39;00m \u001b[38;5;28mself\u001b[39m\u001b[38;5;241m.\u001b[39mitems]\n",
      "File \u001b[1;32m~\\AppData\\Local\\anaconda3\\lib\\site-packages\\sklearn\\utils\\parallel.py:123\u001b[0m, in \u001b[0;36m_FuncWrapper.__call__\u001b[1;34m(self, *args, **kwargs)\u001b[0m\n\u001b[0;32m    121\u001b[0m     config \u001b[38;5;241m=\u001b[39m {}\n\u001b[0;32m    122\u001b[0m \u001b[38;5;28;01mwith\u001b[39;00m config_context(\u001b[38;5;241m*\u001b[39m\u001b[38;5;241m*\u001b[39mconfig):\n\u001b[1;32m--> 123\u001b[0m     \u001b[38;5;28;01mreturn\u001b[39;00m \u001b[38;5;28mself\u001b[39m\u001b[38;5;241m.\u001b[39mfunction(\u001b[38;5;241m*\u001b[39margs, \u001b[38;5;241m*\u001b[39m\u001b[38;5;241m*\u001b[39mkwargs)\n",
      "File \u001b[1;32m~\\AppData\\Local\\anaconda3\\lib\\site-packages\\sklearn\\model_selection\\_validation.py:686\u001b[0m, in \u001b[0;36m_fit_and_score\u001b[1;34m(estimator, X, y, scorer, train, test, verbose, parameters, fit_params, return_train_score, return_parameters, return_n_test_samples, return_times, return_estimator, split_progress, candidate_progress, error_score)\u001b[0m\n\u001b[0;32m    684\u001b[0m         estimator\u001b[38;5;241m.\u001b[39mfit(X_train, \u001b[38;5;241m*\u001b[39m\u001b[38;5;241m*\u001b[39mfit_params)\n\u001b[0;32m    685\u001b[0m     \u001b[38;5;28;01melse\u001b[39;00m:\n\u001b[1;32m--> 686\u001b[0m         estimator\u001b[38;5;241m.\u001b[39mfit(X_train, y_train, \u001b[38;5;241m*\u001b[39m\u001b[38;5;241m*\u001b[39mfit_params)\n\u001b[0;32m    688\u001b[0m \u001b[38;5;28;01mexcept\u001b[39;00m \u001b[38;5;167;01mException\u001b[39;00m:\n\u001b[0;32m    689\u001b[0m     \u001b[38;5;66;03m# Note fit time as time until error\u001b[39;00m\n\u001b[0;32m    690\u001b[0m     fit_time \u001b[38;5;241m=\u001b[39m time\u001b[38;5;241m.\u001b[39mtime() \u001b[38;5;241m-\u001b[39m start_time\n",
      "File \u001b[1;32m~\\AppData\\Local\\anaconda3\\lib\\site-packages\\lightgbm\\sklearn.py:895\u001b[0m, in \u001b[0;36mLGBMRegressor.fit\u001b[1;34m(self, X, y, sample_weight, init_score, eval_set, eval_names, eval_sample_weight, eval_init_score, eval_metric, early_stopping_rounds, verbose, feature_name, categorical_feature, callbacks, init_model)\u001b[0m\n\u001b[0;32m    888\u001b[0m \u001b[38;5;28;01mdef\u001b[39;00m \u001b[38;5;21mfit\u001b[39m(\u001b[38;5;28mself\u001b[39m, X, y,\n\u001b[0;32m    889\u001b[0m         sample_weight\u001b[38;5;241m=\u001b[39m\u001b[38;5;28;01mNone\u001b[39;00m, init_score\u001b[38;5;241m=\u001b[39m\u001b[38;5;28;01mNone\u001b[39;00m,\n\u001b[0;32m    890\u001b[0m         eval_set\u001b[38;5;241m=\u001b[39m\u001b[38;5;28;01mNone\u001b[39;00m, eval_names\u001b[38;5;241m=\u001b[39m\u001b[38;5;28;01mNone\u001b[39;00m, eval_sample_weight\u001b[38;5;241m=\u001b[39m\u001b[38;5;28;01mNone\u001b[39;00m,\n\u001b[0;32m    891\u001b[0m         eval_init_score\u001b[38;5;241m=\u001b[39m\u001b[38;5;28;01mNone\u001b[39;00m, eval_metric\u001b[38;5;241m=\u001b[39m\u001b[38;5;28;01mNone\u001b[39;00m, early_stopping_rounds\u001b[38;5;241m=\u001b[39m\u001b[38;5;28;01mNone\u001b[39;00m,\n\u001b[0;32m    892\u001b[0m         verbose\u001b[38;5;241m=\u001b[39m\u001b[38;5;124m'\u001b[39m\u001b[38;5;124mwarn\u001b[39m\u001b[38;5;124m'\u001b[39m, feature_name\u001b[38;5;241m=\u001b[39m\u001b[38;5;124m'\u001b[39m\u001b[38;5;124mauto\u001b[39m\u001b[38;5;124m'\u001b[39m, categorical_feature\u001b[38;5;241m=\u001b[39m\u001b[38;5;124m'\u001b[39m\u001b[38;5;124mauto\u001b[39m\u001b[38;5;124m'\u001b[39m,\n\u001b[0;32m    893\u001b[0m         callbacks\u001b[38;5;241m=\u001b[39m\u001b[38;5;28;01mNone\u001b[39;00m, init_model\u001b[38;5;241m=\u001b[39m\u001b[38;5;28;01mNone\u001b[39;00m):\n\u001b[0;32m    894\u001b[0m \u001b[38;5;250m    \u001b[39m\u001b[38;5;124;03m\"\"\"Docstring is inherited from the LGBMModel.\"\"\"\u001b[39;00m\n\u001b[1;32m--> 895\u001b[0m     \u001b[38;5;28;43msuper\u001b[39;49m\u001b[43m(\u001b[49m\u001b[43m)\u001b[49m\u001b[38;5;241;43m.\u001b[39;49m\u001b[43mfit\u001b[49m\u001b[43m(\u001b[49m\u001b[43mX\u001b[49m\u001b[43m,\u001b[49m\u001b[43m \u001b[49m\u001b[43my\u001b[49m\u001b[43m,\u001b[49m\u001b[43m \u001b[49m\u001b[43msample_weight\u001b[49m\u001b[38;5;241;43m=\u001b[39;49m\u001b[43msample_weight\u001b[49m\u001b[43m,\u001b[49m\u001b[43m \u001b[49m\u001b[43minit_score\u001b[49m\u001b[38;5;241;43m=\u001b[39;49m\u001b[43minit_score\u001b[49m\u001b[43m,\u001b[49m\n\u001b[0;32m    896\u001b[0m \u001b[43m                \u001b[49m\u001b[43meval_set\u001b[49m\u001b[38;5;241;43m=\u001b[39;49m\u001b[43meval_set\u001b[49m\u001b[43m,\u001b[49m\u001b[43m \u001b[49m\u001b[43meval_names\u001b[49m\u001b[38;5;241;43m=\u001b[39;49m\u001b[43meval_names\u001b[49m\u001b[43m,\u001b[49m\u001b[43m \u001b[49m\u001b[43meval_sample_weight\u001b[49m\u001b[38;5;241;43m=\u001b[39;49m\u001b[43meval_sample_weight\u001b[49m\u001b[43m,\u001b[49m\n\u001b[0;32m    897\u001b[0m \u001b[43m                \u001b[49m\u001b[43meval_init_score\u001b[49m\u001b[38;5;241;43m=\u001b[39;49m\u001b[43meval_init_score\u001b[49m\u001b[43m,\u001b[49m\u001b[43m \u001b[49m\u001b[43meval_metric\u001b[49m\u001b[38;5;241;43m=\u001b[39;49m\u001b[43meval_metric\u001b[49m\u001b[43m,\u001b[49m\n\u001b[0;32m    898\u001b[0m \u001b[43m                \u001b[49m\u001b[43mearly_stopping_rounds\u001b[49m\u001b[38;5;241;43m=\u001b[39;49m\u001b[43mearly_stopping_rounds\u001b[49m\u001b[43m,\u001b[49m\u001b[43m \u001b[49m\u001b[43mverbose\u001b[49m\u001b[38;5;241;43m=\u001b[39;49m\u001b[43mverbose\u001b[49m\u001b[43m,\u001b[49m\u001b[43m \u001b[49m\u001b[43mfeature_name\u001b[49m\u001b[38;5;241;43m=\u001b[39;49m\u001b[43mfeature_name\u001b[49m\u001b[43m,\u001b[49m\n\u001b[0;32m    899\u001b[0m \u001b[43m                \u001b[49m\u001b[43mcategorical_feature\u001b[49m\u001b[38;5;241;43m=\u001b[39;49m\u001b[43mcategorical_feature\u001b[49m\u001b[43m,\u001b[49m\u001b[43m \u001b[49m\u001b[43mcallbacks\u001b[49m\u001b[38;5;241;43m=\u001b[39;49m\u001b[43mcallbacks\u001b[49m\u001b[43m,\u001b[49m\u001b[43m \u001b[49m\u001b[43minit_model\u001b[49m\u001b[38;5;241;43m=\u001b[39;49m\u001b[43minit_model\u001b[49m\u001b[43m)\u001b[49m\n\u001b[0;32m    900\u001b[0m     \u001b[38;5;28;01mreturn\u001b[39;00m \u001b[38;5;28mself\u001b[39m\n",
      "File \u001b[1;32m~\\AppData\\Local\\anaconda3\\lib\\site-packages\\lightgbm\\sklearn.py:748\u001b[0m, in \u001b[0;36mLGBMModel.fit\u001b[1;34m(self, X, y, sample_weight, init_score, group, eval_set, eval_names, eval_sample_weight, eval_class_weight, eval_init_score, eval_group, eval_metric, early_stopping_rounds, verbose, feature_name, categorical_feature, callbacks, init_model)\u001b[0m\n\u001b[0;32m    745\u001b[0m evals_result \u001b[38;5;241m=\u001b[39m {}\n\u001b[0;32m    746\u001b[0m callbacks\u001b[38;5;241m.\u001b[39mappend(record_evaluation(evals_result))\n\u001b[1;32m--> 748\u001b[0m \u001b[38;5;28mself\u001b[39m\u001b[38;5;241m.\u001b[39m_Booster \u001b[38;5;241m=\u001b[39m \u001b[43mtrain\u001b[49m\u001b[43m(\u001b[49m\n\u001b[0;32m    749\u001b[0m \u001b[43m    \u001b[49m\u001b[43mparams\u001b[49m\u001b[38;5;241;43m=\u001b[39;49m\u001b[43mparams\u001b[49m\u001b[43m,\u001b[49m\n\u001b[0;32m    750\u001b[0m \u001b[43m    \u001b[49m\u001b[43mtrain_set\u001b[49m\u001b[38;5;241;43m=\u001b[39;49m\u001b[43mtrain_set\u001b[49m\u001b[43m,\u001b[49m\n\u001b[0;32m    751\u001b[0m \u001b[43m    \u001b[49m\u001b[43mnum_boost_round\u001b[49m\u001b[38;5;241;43m=\u001b[39;49m\u001b[38;5;28;43mself\u001b[39;49m\u001b[38;5;241;43m.\u001b[39;49m\u001b[43mn_estimators\u001b[49m\u001b[43m,\u001b[49m\n\u001b[0;32m    752\u001b[0m \u001b[43m    \u001b[49m\u001b[43mvalid_sets\u001b[49m\u001b[38;5;241;43m=\u001b[39;49m\u001b[43mvalid_sets\u001b[49m\u001b[43m,\u001b[49m\n\u001b[0;32m    753\u001b[0m \u001b[43m    \u001b[49m\u001b[43mvalid_names\u001b[49m\u001b[38;5;241;43m=\u001b[39;49m\u001b[43meval_names\u001b[49m\u001b[43m,\u001b[49m\n\u001b[0;32m    754\u001b[0m \u001b[43m    \u001b[49m\u001b[43mfobj\u001b[49m\u001b[38;5;241;43m=\u001b[39;49m\u001b[38;5;28;43mself\u001b[39;49m\u001b[38;5;241;43m.\u001b[39;49m\u001b[43m_fobj\u001b[49m\u001b[43m,\u001b[49m\n\u001b[0;32m    755\u001b[0m \u001b[43m    \u001b[49m\u001b[43mfeval\u001b[49m\u001b[38;5;241;43m=\u001b[39;49m\u001b[43meval_metrics_callable\u001b[49m\u001b[43m,\u001b[49m\n\u001b[0;32m    756\u001b[0m \u001b[43m    \u001b[49m\u001b[43minit_model\u001b[49m\u001b[38;5;241;43m=\u001b[39;49m\u001b[43minit_model\u001b[49m\u001b[43m,\u001b[49m\n\u001b[0;32m    757\u001b[0m \u001b[43m    \u001b[49m\u001b[43mfeature_name\u001b[49m\u001b[38;5;241;43m=\u001b[39;49m\u001b[43mfeature_name\u001b[49m\u001b[43m,\u001b[49m\n\u001b[0;32m    758\u001b[0m \u001b[43m    \u001b[49m\u001b[43mcallbacks\u001b[49m\u001b[38;5;241;43m=\u001b[39;49m\u001b[43mcallbacks\u001b[49m\n\u001b[0;32m    759\u001b[0m \u001b[43m\u001b[49m\u001b[43m)\u001b[49m\n\u001b[0;32m    761\u001b[0m \u001b[38;5;28;01mif\u001b[39;00m evals_result:\n\u001b[0;32m    762\u001b[0m     \u001b[38;5;28mself\u001b[39m\u001b[38;5;241m.\u001b[39m_evals_result \u001b[38;5;241m=\u001b[39m evals_result\n",
      "File \u001b[1;32m~\\AppData\\Local\\anaconda3\\lib\\site-packages\\lightgbm\\engine.py:292\u001b[0m, in \u001b[0;36mtrain\u001b[1;34m(params, train_set, num_boost_round, valid_sets, valid_names, fobj, feval, init_model, feature_name, categorical_feature, early_stopping_rounds, evals_result, verbose_eval, learning_rates, keep_training_booster, callbacks)\u001b[0m\n\u001b[0;32m    284\u001b[0m \u001b[38;5;28;01mfor\u001b[39;00m cb \u001b[38;5;129;01min\u001b[39;00m callbacks_before_iter:\n\u001b[0;32m    285\u001b[0m     cb(callback\u001b[38;5;241m.\u001b[39mCallbackEnv(model\u001b[38;5;241m=\u001b[39mbooster,\n\u001b[0;32m    286\u001b[0m                             params\u001b[38;5;241m=\u001b[39mparams,\n\u001b[0;32m    287\u001b[0m                             iteration\u001b[38;5;241m=\u001b[39mi,\n\u001b[0;32m    288\u001b[0m                             begin_iteration\u001b[38;5;241m=\u001b[39minit_iteration,\n\u001b[0;32m    289\u001b[0m                             end_iteration\u001b[38;5;241m=\u001b[39minit_iteration \u001b[38;5;241m+\u001b[39m num_boost_round,\n\u001b[0;32m    290\u001b[0m                             evaluation_result_list\u001b[38;5;241m=\u001b[39m\u001b[38;5;28;01mNone\u001b[39;00m))\n\u001b[1;32m--> 292\u001b[0m \u001b[43mbooster\u001b[49m\u001b[38;5;241;43m.\u001b[39;49m\u001b[43mupdate\u001b[49m\u001b[43m(\u001b[49m\u001b[43mfobj\u001b[49m\u001b[38;5;241;43m=\u001b[39;49m\u001b[43mfobj\u001b[49m\u001b[43m)\u001b[49m\n\u001b[0;32m    294\u001b[0m evaluation_result_list \u001b[38;5;241m=\u001b[39m []\n\u001b[0;32m    295\u001b[0m \u001b[38;5;66;03m# check evaluation result.\u001b[39;00m\n",
      "File \u001b[1;32m~\\AppData\\Local\\anaconda3\\lib\\site-packages\\lightgbm\\basic.py:3021\u001b[0m, in \u001b[0;36mBooster.update\u001b[1;34m(self, train_set, fobj)\u001b[0m\n\u001b[0;32m   3019\u001b[0m \u001b[38;5;28;01mif\u001b[39;00m \u001b[38;5;28mself\u001b[39m\u001b[38;5;241m.\u001b[39m__set_objective_to_none:\n\u001b[0;32m   3020\u001b[0m     \u001b[38;5;28;01mraise\u001b[39;00m LightGBMError(\u001b[38;5;124m'\u001b[39m\u001b[38;5;124mCannot update due to null objective function.\u001b[39m\u001b[38;5;124m'\u001b[39m)\n\u001b[1;32m-> 3021\u001b[0m _safe_call(\u001b[43m_LIB\u001b[49m\u001b[38;5;241;43m.\u001b[39;49m\u001b[43mLGBM_BoosterUpdateOneIter\u001b[49m\u001b[43m(\u001b[49m\n\u001b[0;32m   3022\u001b[0m \u001b[43m    \u001b[49m\u001b[38;5;28;43mself\u001b[39;49m\u001b[38;5;241;43m.\u001b[39;49m\u001b[43mhandle\u001b[49m\u001b[43m,\u001b[49m\n\u001b[0;32m   3023\u001b[0m \u001b[43m    \u001b[49m\u001b[43mctypes\u001b[49m\u001b[38;5;241;43m.\u001b[39;49m\u001b[43mbyref\u001b[49m\u001b[43m(\u001b[49m\u001b[43mis_finished\u001b[49m\u001b[43m)\u001b[49m\u001b[43m)\u001b[49m)\n\u001b[0;32m   3024\u001b[0m \u001b[38;5;28mself\u001b[39m\u001b[38;5;241m.\u001b[39m__is_predicted_cur_iter \u001b[38;5;241m=\u001b[39m [\u001b[38;5;28;01mFalse\u001b[39;00m \u001b[38;5;28;01mfor\u001b[39;00m _ \u001b[38;5;129;01min\u001b[39;00m \u001b[38;5;28mrange\u001b[39m(\u001b[38;5;28mself\u001b[39m\u001b[38;5;241m.\u001b[39m__num_dataset)]\n\u001b[0;32m   3025\u001b[0m \u001b[38;5;28;01mreturn\u001b[39;00m is_finished\u001b[38;5;241m.\u001b[39mvalue \u001b[38;5;241m==\u001b[39m \u001b[38;5;241m1\u001b[39m\n",
      "\u001b[1;31mKeyboardInterrupt\u001b[0m: "
     ]
    }
   ],
   "source": [
    "my_lgb_elast(train_fd001, test_fd001)"
   ]
  },
  {
   "cell_type": "code",
   "execution_count": null,
   "metadata": {
    "colab": {
     "base_uri": "https://localhost:8080/"
    },
    "id": "zOR36ak5T-vz",
    "outputId": "6dde6377-1375-4d25-b1bc-f7cf54345bb5"
   },
   "outputs": [],
   "source": [
    "my_lgb_elast(train_fd002, test_fd002)"
   ]
  },
  {
   "cell_type": "code",
   "execution_count": null,
   "metadata": {
    "colab": {
     "base_uri": "https://localhost:8080/"
    },
    "id": "vNv5JIXlYCZU",
    "outputId": "f49958dd-b3ab-45ac-fb17-80850a084ab0"
   },
   "outputs": [],
   "source": [
    "my_lgb_elast(train_fd003, test_fd003)"
   ]
  },
  {
   "cell_type": "code",
   "execution_count": null,
   "metadata": {
    "colab": {
     "base_uri": "https://localhost:8080/"
    },
    "id": "0FI97PekYCbq",
    "outputId": "42e51846-e756-4c78-f1af-07a53cb26e7a"
   },
   "outputs": [],
   "source": [
    "my_lgb_elast(train_fd004, test_fd004)"
   ]
  },
  {
   "cell_type": "code",
   "execution_count": null,
   "metadata": {
    "id": "_g6O1nMMzIbC"
   },
   "outputs": [],
   "source": []
  },
  {
   "cell_type": "code",
   "execution_count": null,
   "metadata": {
    "id": "8XESXsJqRhNm"
   },
   "outputs": [],
   "source": []
  },
  {
   "cell_type": "code",
   "execution_count": null,
   "metadata": {
    "id": "yCvuVPYeRhQs"
   },
   "outputs": [],
   "source": []
  },
  {
   "cell_type": "code",
   "execution_count": null,
   "metadata": {
    "id": "B3BwpyWYRhUO"
   },
   "outputs": [],
   "source": []
  },
  {
   "cell_type": "code",
   "execution_count": null,
   "metadata": {
    "id": "Pu2dg5Y2RhX_"
   },
   "outputs": [],
   "source": [
    "from sklearn.linear_model import ElasticNetCV\n",
    "from lightgbm import LGBMRegressor\n",
    "\n",
    "def my_lgb_elasticnet(train, test):\n",
    "\n",
    "    X_train, Y_train, X_test, Y_test = data_split(train, test)\n",
    "\n",
    "\n",
    "    # Définition du modèle ElasticNet\n",
    "    enet = ElasticNetCV(cv=5)\n",
    "\n",
    "    # Ajustement du modèle aux données d'entraînement\n",
    "    enet.fit(X_train, Y_train)\n",
    "\n",
    "    # Meilleurs hyperparamètres trouvés\n",
    "    print(enet.alpha_, enet.l1_ratio_)\n",
    "\n",
    "    # Définition du modèle LightGBM\n",
    "    lgbm = LGBMRegressor()\n",
    "\n",
    "    # Définition des hyperparamètres à optimiser\n",
    "    param_grid = {\n",
    "        'learning_rate': [0.01, 0.02, 0.03, 0.04, 0.05, 0.06, 0.07, 0.08, 0.09, 0.1],\n",
    "        'n_estimators': [50, 60, 70, 80, 90, 100, 110, 120, 130, 200],\n",
    "        'num_leaves': [10, 15, 20, 25, 30, 35, 40, 45, 50, 60],\n",
    "        'min_child_samples': [5, 10, 15, 20, 25, 30, 35, 40, 45, 50]\n",
    "    }\n",
    "\n",
    "\n",
    "    # Recherche des hyperparamètres optimaux\n",
    "    grid_search = GridSearchCV(lgbm, param_grid=param_grid, cv=5)\n",
    "    grid_search.fit(X_train, Y_train)\n",
    "\n",
    "    # Meilleurs hyperparamètres trouvés\n",
    "    print(\"Meilleurs paramètres trouvés :\")\n",
    "    print(grid_search.best_params_)\n",
    "    \n",
    "    \n",
    "    \n",
    "    '''#-------------Train---------------------\n",
    "    # Prédire les valeurs en utilisant le modèle KNN Regressor pour les données Train\n",
    "    y_pred_train = grid_search.predict(X_train)\n",
    "    # Afficher l'erreur quadratique moyenne et le coefficient de détermination R2\n",
    "    mse_train = mean_squared_error(Y_train, y_pred_train)\n",
    "    rmse_train = np.sqrt(mse_train)\n",
    "    mae_train = mean_absolute_error(Y_train, y_pred_train)\n",
    "    mape_train = np.mean(np.abs((Y_train - y_pred_train) / Y_train)) * 100\n",
    "    r2_train = r2_score(Y_train, y_pred_train)\n",
    "    adjusted_r2_train = 1 - (1-r2_train)*(len(Y_train)-1)/(len(Y_train)-X_train.shape[1]-1)\n",
    "\n",
    "    print('\\n=============================Train=============================')\n",
    "    print('MSE : ',mse_train * 100,'%')\n",
    "    print('RMSE : ',rmse_train * 100,'%')\n",
    "    print('MAE : ',mae_train * 100,'%')\n",
    "    print('MAPE : ',mape_train,'%')\n",
    "    print('R2 : ',r2_train * 100,'%')\n",
    "    print('Adjusted R2 : ', adjusted_r2_train * 100,'%')'''\n",
    "\n",
    "    #-------------Test---------------------\n",
    "    # Prédire les valeurs en utilisant le modèle KNN Regressor pour les données Test\n",
    "    y_pred_test = grid_search.predict(X_test)\n",
    "    # Afficher l'erreur quadratique moyenne et le coefficient de détermination R2\n",
    "    mse_test = mean_squared_error(Y_test, y_pred_test)\n",
    "    rmse_test = np.sqrt(mse_test)\n",
    "    mae_test = mean_absolute_error(Y_test, y_pred_test)\n",
    "    mape_test = np.mean(np.abs((Y_test - y_pred_test) / Y_test)) * 100\n",
    "    r2_test = r2_score(Y_test, y_pred_test)\n",
    "    adjusted_r2_test = 1 - (1-r2_test)*(len(Y_test)-1)/(len(Y_test)-X_test.shape[1]-1)\n",
    "\n",
    "    print('\\n=============================Test=============================')\n",
    "    print('MSE : ',mse_test * 100,'%')\n",
    "    print('RMSE : ',rmse_test * 100,'%')\n",
    "    print('MAE : ',mae_test * 100,'%')\n",
    "    print('MAPE : ',mape_test,'%')\n",
    "    print('R2 : ',r2_test * 100,'%')\n",
    "    print('Adjusted R2 : ', adjusted_r2_test * 100,'%')"
   ]
  },
  {
   "cell_type": "code",
   "execution_count": null,
   "metadata": {
    "colab": {
     "base_uri": "https://localhost:8080/"
    },
    "id": "PFk7dFkjRrnq",
    "outputId": "a9216c56-7b37-4b3f-913b-157e051f6978"
   },
   "outputs": [],
   "source": [
    "my_lgb_elasticnet(train_fd001, test_fd001)"
   ]
  },
  {
   "cell_type": "code",
   "execution_count": null,
   "metadata": {
    "colab": {
     "base_uri": "https://localhost:8080/"
    },
    "id": "lkPQyl57Sq5i",
    "outputId": "b1da5bad-0524-436e-fdc9-216d4c5caa0d"
   },
   "outputs": [],
   "source": [
    "my_lgb_elasticnet(train_fd002, test_fd002)"
   ]
  },
  {
   "cell_type": "code",
   "execution_count": null,
   "metadata": {
    "id": "kKgw1xZ1SrxP"
   },
   "outputs": [],
   "source": [
    "my_lgb_elasticnet(train_fd003, test_fd003)"
   ]
  },
  {
   "cell_type": "code",
   "execution_count": null,
   "metadata": {
    "id": "tV1XfOYdSseW"
   },
   "outputs": [],
   "source": [
    "my_lgb_elasticnet(train_fd004, test_fd004)"
   ]
  },
  {
   "cell_type": "code",
   "execution_count": null,
   "metadata": {},
   "outputs": [],
   "source": []
  }
 ],
 "metadata": {
  "colab": {
   "provenance": []
  },
  "gpuClass": "standard",
  "kernelspec": {
   "display_name": "Python 3 (ipykernel)",
   "language": "python",
   "name": "python3"
  },
  "language_info": {
   "codemirror_mode": {
    "name": "ipython",
    "version": 3
   },
   "file_extension": ".py",
   "mimetype": "text/x-python",
   "name": "python",
   "nbconvert_exporter": "python",
   "pygments_lexer": "ipython3",
   "version": "3.10.9"
  }
 },
 "nbformat": 4,
 "nbformat_minor": 1
}
