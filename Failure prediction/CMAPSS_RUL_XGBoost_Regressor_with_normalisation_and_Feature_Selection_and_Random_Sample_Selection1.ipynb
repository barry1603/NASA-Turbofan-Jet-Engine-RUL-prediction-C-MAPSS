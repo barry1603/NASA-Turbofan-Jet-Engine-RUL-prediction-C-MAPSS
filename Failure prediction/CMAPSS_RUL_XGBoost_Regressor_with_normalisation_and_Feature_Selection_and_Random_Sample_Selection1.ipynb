{
 "cells": [
  {
   "cell_type": "code",
   "execution_count": 55,
   "metadata": {
    "colab": {
     "base_uri": "https://localhost:8080/",
     "height": 36
    },
    "executionInfo": {
     "elapsed": 413,
     "status": "ok",
     "timestamp": 1686310882159,
     "user": {
      "displayName": "Ibrahima Barry",
      "userId": "00132945360445644191"
     },
     "user_tz": -120
    },
    "id": "FDalluwXbsXk",
    "outputId": "4322efbb-ab48-444a-bbac-3bdb991c8be3"
   },
   "outputs": [
    {
     "data": {
      "text/plain": [
       "\"from google.colab import drive\\ndrive.mount('/content/drive')\""
      ]
     },
     "execution_count": 55,
     "metadata": {},
     "output_type": "execute_result"
    }
   ],
   "source": [
    "'''from google.colab import drive\n",
    "drive.mount('/content/drive')'''"
   ]
  },
  {
   "cell_type": "code",
   "execution_count": 56,
   "metadata": {
    "executionInfo": {
     "elapsed": 29,
     "status": "ok",
     "timestamp": 1686310882161,
     "user": {
      "displayName": "Ibrahima Barry",
      "userId": "00132945360445644191"
     },
     "user_tz": -120
    },
    "id": "7bwRBIw1808g"
   },
   "outputs": [],
   "source": [
    "#!pip install catboost"
   ]
  },
  {
   "cell_type": "code",
   "execution_count": 57,
   "metadata": {
    "executionInfo": {
     "elapsed": 1876,
     "status": "ok",
     "timestamp": 1686310884010,
     "user": {
      "displayName": "Ibrahima Barry",
      "userId": "00132945360445644191"
     },
     "user_tz": -120
    },
    "id": "090U59DPJm7F"
   },
   "outputs": [],
   "source": [
    "import numpy as np\n",
    "import pandas as pd\n",
    "import matplotlib.pyplot as plt\n",
    "import seaborn as sns\n",
    "\n",
    "from sklearn.linear_model import LinearRegression, Lasso, Ridge, ElasticNet\n",
    "from sklearn.tree import DecisionTreeRegressor\n",
    "from sklearn.ensemble import RandomForestRegressor, GradientBoostingRegressor, AdaBoostRegressor, ExtraTreesRegressor\n",
    "from sklearn.svm import SVR\n",
    "from sklearn.neighbors import KNeighborsRegressor\n",
    "from xgboost import XGBRegressor\n",
    "from sklearn.model_selection import GridSearchCV\n",
    "\n",
    "from sklearn.metrics import mean_squared_error, mean_absolute_error, r2_score\n",
    "from scipy.stats import pearsonr\n",
    "\n",
    "from sklearn.preprocessing import MinMaxScaler, StandardScaler"
   ]
  },
  {
   "cell_type": "code",
   "execution_count": 58,
   "metadata": {
    "executionInfo": {
     "elapsed": 22,
     "status": "ok",
     "timestamp": 1686310884012,
     "user": {
      "displayName": "Ibrahima Barry",
      "userId": "00132945360445644191"
     },
     "user_tz": -120
    },
    "id": "sCVZb8EK9-RF"
   },
   "outputs": [],
   "source": [
    "myfolder = \"./\""
   ]
  },
  {
   "cell_type": "markdown",
   "metadata": {
    "id": "eK6zG_tsRZFx"
   },
   "source": [
    "# **Columns' names**"
   ]
  },
  {
   "cell_type": "code",
   "execution_count": 59,
   "metadata": {
    "executionInfo": {
     "elapsed": 23,
     "status": "ok",
     "timestamp": 1686310884015,
     "user": {
      "displayName": "Ibrahima Barry",
      "userId": "00132945360445644191"
     },
     "user_tz": -120
    },
    "id": "03uUZbfWF9Yj"
   },
   "outputs": [],
   "source": [
    "#Columns' names\n",
    "'''\n",
    "1)  unit number\n",
    "2)\ttime, in cycles\n",
    "3)\toperational setting 1\n",
    "4)\toperational setting 2\n",
    "5)\toperational setting 3\n",
    "6)\tsensor measurement  1\n",
    "7)\tsensor measurement  2\n",
    "...\n",
    "26)\tsensor measurement  21\n",
    "'''\n",
    "unitNames = ['UnitNumber']\n",
    "timeCycles = [\"TimeInCycles\"]\n",
    "operSets = [\"OperSet\"+str(i) for i in range(1,4)] # 1,2 et 3\n",
    "sensorMes = [\"SensorMes\"+str(j) for j in range(1, 22)] # de 1 à 21\n",
    "columnsNames = unitNames + timeCycles + operSets +sensorMes"
   ]
  },
  {
   "cell_type": "markdown",
   "metadata": {
    "id": "Pk7OEGaFRpHx"
   },
   "source": [
    "# **Datasets loading**"
   ]
  },
  {
   "cell_type": "code",
   "execution_count": 60,
   "metadata": {
    "colab": {
     "base_uri": "https://localhost:8080/",
     "height": 394
    },
    "executionInfo": {
     "elapsed": 22,
     "status": "error",
     "timestamp": 1686310884016,
     "user": {
      "displayName": "Ibrahima Barry",
      "userId": "00132945360445644191"
     },
     "user_tz": -120
    },
    "id": "2zNavW8eUubj",
    "outputId": "034725ba-31d1-41dc-a477-eeb1976aac54"
   },
   "outputs": [],
   "source": [
    "def data_loading(x):\n",
    "  train_path = myfolder + \"train_\"+ x +\".txt\"\n",
    "  test_path = myfolder + \"test_\"+ x +\".txt\"\n",
    "  rul_path = myfolder + \"RUL_\"+ x +\".txt\"\n",
    "  train = pd.read_csv(train_path, delim_whitespace=True, names=columnsNames)\n",
    "  test = pd.read_csv(test_path, delim_whitespace=True, names=columnsNames)\n",
    "  rul = pd.read_csv(rul_path, delim_whitespace=True, names=[\"RUL_FD\"])\n",
    "  return train, test, rul\n",
    "\n",
    "train_fd001, test_fd001, rul_fd001 = data_loading(\"FD001\")\n",
    "train_fd002, test_fd002, rul_fd002 = data_loading(\"FD002\")\n",
    "train_fd003, test_fd003, rul_fd003 = data_loading(\"FD003\")\n",
    "train_fd004, test_fd004, rul_fd004 = data_loading(\"FD004\")"
   ]
  },
  {
   "cell_type": "code",
   "execution_count": 61,
   "metadata": {
    "executionInfo": {
     "elapsed": 9,
     "status": "aborted",
     "timestamp": 1686310884488,
     "user": {
      "displayName": "Ibrahima Barry",
      "userId": "00132945360445644191"
     },
     "user_tz": -120
    },
    "id": "2D0p8HcQVpPu"
   },
   "outputs": [
    {
     "data": {
      "text/html": [
       "<div>\n",
       "<style scoped>\n",
       "    .dataframe tbody tr th:only-of-type {\n",
       "        vertical-align: middle;\n",
       "    }\n",
       "\n",
       "    .dataframe tbody tr th {\n",
       "        vertical-align: top;\n",
       "    }\n",
       "\n",
       "    .dataframe thead th {\n",
       "        text-align: right;\n",
       "    }\n",
       "</style>\n",
       "<table border=\"1\" class=\"dataframe\">\n",
       "  <thead>\n",
       "    <tr style=\"text-align: right;\">\n",
       "      <th></th>\n",
       "      <th>UnitNumber</th>\n",
       "      <th>TimeInCycles</th>\n",
       "      <th>OperSet1</th>\n",
       "      <th>OperSet2</th>\n",
       "      <th>OperSet3</th>\n",
       "      <th>SensorMes1</th>\n",
       "      <th>SensorMes2</th>\n",
       "      <th>SensorMes3</th>\n",
       "      <th>SensorMes4</th>\n",
       "      <th>SensorMes5</th>\n",
       "      <th>SensorMes6</th>\n",
       "      <th>SensorMes7</th>\n",
       "      <th>SensorMes8</th>\n",
       "      <th>SensorMes9</th>\n",
       "      <th>SensorMes10</th>\n",
       "      <th>SensorMes11</th>\n",
       "      <th>SensorMes12</th>\n",
       "      <th>SensorMes13</th>\n",
       "      <th>SensorMes14</th>\n",
       "      <th>SensorMes15</th>\n",
       "      <th>SensorMes16</th>\n",
       "      <th>SensorMes17</th>\n",
       "      <th>SensorMes18</th>\n",
       "      <th>SensorMes19</th>\n",
       "      <th>SensorMes20</th>\n",
       "      <th>SensorMes21</th>\n",
       "    </tr>\n",
       "  </thead>\n",
       "  <tbody>\n",
       "    <tr>\n",
       "      <th>0</th>\n",
       "      <td>1</td>\n",
       "      <td>1</td>\n",
       "      <td>42.0049</td>\n",
       "      <td>0.8400</td>\n",
       "      <td>100.0</td>\n",
       "      <td>445.00</td>\n",
       "      <td>549.68</td>\n",
       "      <td>1343.43</td>\n",
       "      <td>1112.93</td>\n",
       "      <td>3.91</td>\n",
       "      <td>5.70</td>\n",
       "      <td>137.36</td>\n",
       "      <td>2211.86</td>\n",
       "      <td>8311.32</td>\n",
       "      <td>1.01</td>\n",
       "      <td>41.69</td>\n",
       "      <td>129.78</td>\n",
       "      <td>2387.99</td>\n",
       "      <td>8074.83</td>\n",
       "      <td>9.3335</td>\n",
       "      <td>0.02</td>\n",
       "      <td>330</td>\n",
       "      <td>2212</td>\n",
       "      <td>100.0</td>\n",
       "      <td>10.62</td>\n",
       "      <td>6.3670</td>\n",
       "    </tr>\n",
       "    <tr>\n",
       "      <th>1</th>\n",
       "      <td>1</td>\n",
       "      <td>2</td>\n",
       "      <td>20.0020</td>\n",
       "      <td>0.7002</td>\n",
       "      <td>100.0</td>\n",
       "      <td>491.19</td>\n",
       "      <td>606.07</td>\n",
       "      <td>1477.61</td>\n",
       "      <td>1237.50</td>\n",
       "      <td>9.35</td>\n",
       "      <td>13.61</td>\n",
       "      <td>332.10</td>\n",
       "      <td>2323.66</td>\n",
       "      <td>8713.60</td>\n",
       "      <td>1.07</td>\n",
       "      <td>43.94</td>\n",
       "      <td>312.59</td>\n",
       "      <td>2387.73</td>\n",
       "      <td>8046.13</td>\n",
       "      <td>9.1913</td>\n",
       "      <td>0.02</td>\n",
       "      <td>361</td>\n",
       "      <td>2324</td>\n",
       "      <td>100.0</td>\n",
       "      <td>24.37</td>\n",
       "      <td>14.6552</td>\n",
       "    </tr>\n",
       "    <tr>\n",
       "      <th>2</th>\n",
       "      <td>1</td>\n",
       "      <td>3</td>\n",
       "      <td>42.0038</td>\n",
       "      <td>0.8409</td>\n",
       "      <td>100.0</td>\n",
       "      <td>445.00</td>\n",
       "      <td>548.95</td>\n",
       "      <td>1343.12</td>\n",
       "      <td>1117.05</td>\n",
       "      <td>3.91</td>\n",
       "      <td>5.69</td>\n",
       "      <td>138.18</td>\n",
       "      <td>2211.92</td>\n",
       "      <td>8306.69</td>\n",
       "      <td>1.01</td>\n",
       "      <td>41.66</td>\n",
       "      <td>129.62</td>\n",
       "      <td>2387.97</td>\n",
       "      <td>8066.62</td>\n",
       "      <td>9.4007</td>\n",
       "      <td>0.02</td>\n",
       "      <td>329</td>\n",
       "      <td>2212</td>\n",
       "      <td>100.0</td>\n",
       "      <td>10.48</td>\n",
       "      <td>6.4213</td>\n",
       "    </tr>\n",
       "  </tbody>\n",
       "</table>\n",
       "</div>"
      ],
      "text/plain": [
       "   UnitNumber  TimeInCycles  OperSet1  OperSet2  OperSet3  SensorMes1  \\\n",
       "0           1             1   42.0049    0.8400     100.0      445.00   \n",
       "1           1             2   20.0020    0.7002     100.0      491.19   \n",
       "2           1             3   42.0038    0.8409     100.0      445.00   \n",
       "\n",
       "   SensorMes2  SensorMes3  SensorMes4  SensorMes5  SensorMes6  SensorMes7  \\\n",
       "0      549.68     1343.43     1112.93        3.91        5.70      137.36   \n",
       "1      606.07     1477.61     1237.50        9.35       13.61      332.10   \n",
       "2      548.95     1343.12     1117.05        3.91        5.69      138.18   \n",
       "\n",
       "   SensorMes8  SensorMes9  SensorMes10  SensorMes11  SensorMes12  SensorMes13  \\\n",
       "0     2211.86     8311.32         1.01        41.69       129.78      2387.99   \n",
       "1     2323.66     8713.60         1.07        43.94       312.59      2387.73   \n",
       "2     2211.92     8306.69         1.01        41.66       129.62      2387.97   \n",
       "\n",
       "   SensorMes14  SensorMes15  SensorMes16  SensorMes17  SensorMes18  \\\n",
       "0      8074.83       9.3335         0.02          330         2212   \n",
       "1      8046.13       9.1913         0.02          361         2324   \n",
       "2      8066.62       9.4007         0.02          329         2212   \n",
       "\n",
       "   SensorMes19  SensorMes20  SensorMes21  \n",
       "0        100.0        10.62       6.3670  \n",
       "1        100.0        24.37      14.6552  \n",
       "2        100.0        10.48       6.4213  "
      ]
     },
     "execution_count": 61,
     "metadata": {},
     "output_type": "execute_result"
    }
   ],
   "source": [
    "# Forcer l'affichage de toutes les colonnes\n",
    "pd.set_option('display.max_columns', None)\n",
    "\n",
    "train_fd004.head(3)"
   ]
  },
  {
   "cell_type": "markdown",
   "metadata": {
    "id": "-iHEenEWSFa2"
   },
   "source": [
    "# **RUL column generation for train and test set**"
   ]
  },
  {
   "cell_type": "code",
   "execution_count": 62,
   "metadata": {
    "executionInfo": {
     "elapsed": 10,
     "status": "aborted",
     "timestamp": 1686310884490,
     "user": {
      "displayName": "Ibrahima Barry",
      "userId": "00132945360445644191"
     },
     "user_tz": -120
    },
    "id": "iQLmNp5STg3q"
   },
   "outputs": [],
   "source": [
    "def rul_train_generation(x):\n",
    "  rul = pd.DataFrame(x.groupby('UnitNumber')['TimeInCycles'].max()).reset_index()\n",
    "  rul.columns = ['UnitNumber', 'max']\n",
    "  x = x.merge(rul, on=['UnitNumber'], how='left')\n",
    "  x['RUL'] = x['max'] - x['TimeInCycles']\n",
    "  x.drop('max', axis=1, inplace=True)\n",
    "  return x\n",
    "\n",
    "train_fd001 = rul_train_generation(train_fd001)\n",
    "train_fd002 = rul_train_generation(train_fd002)\n",
    "train_fd003 = rul_train_generation(train_fd003)\n",
    "train_fd004 = rul_train_generation(train_fd004)"
   ]
  },
  {
   "cell_type": "code",
   "execution_count": 63,
   "metadata": {
    "executionInfo": {
     "elapsed": 10,
     "status": "aborted",
     "timestamp": 1686310884490,
     "user": {
      "displayName": "Ibrahima Barry",
      "userId": "00132945360445644191"
     },
     "user_tz": -120
    },
    "id": "2b0ThgOYbOJq"
   },
   "outputs": [
    {
     "data": {
      "text/html": [
       "<div>\n",
       "<style scoped>\n",
       "    .dataframe tbody tr th:only-of-type {\n",
       "        vertical-align: middle;\n",
       "    }\n",
       "\n",
       "    .dataframe tbody tr th {\n",
       "        vertical-align: top;\n",
       "    }\n",
       "\n",
       "    .dataframe thead th {\n",
       "        text-align: right;\n",
       "    }\n",
       "</style>\n",
       "<table border=\"1\" class=\"dataframe\">\n",
       "  <thead>\n",
       "    <tr style=\"text-align: right;\">\n",
       "      <th></th>\n",
       "      <th>UnitNumber</th>\n",
       "      <th>TimeInCycles</th>\n",
       "      <th>OperSet1</th>\n",
       "      <th>OperSet2</th>\n",
       "      <th>OperSet3</th>\n",
       "      <th>SensorMes1</th>\n",
       "      <th>SensorMes2</th>\n",
       "      <th>SensorMes3</th>\n",
       "      <th>SensorMes4</th>\n",
       "      <th>SensorMes5</th>\n",
       "      <th>SensorMes6</th>\n",
       "      <th>SensorMes7</th>\n",
       "      <th>SensorMes8</th>\n",
       "      <th>SensorMes9</th>\n",
       "      <th>SensorMes10</th>\n",
       "      <th>SensorMes11</th>\n",
       "      <th>SensorMes12</th>\n",
       "      <th>SensorMes13</th>\n",
       "      <th>SensorMes14</th>\n",
       "      <th>SensorMes15</th>\n",
       "      <th>SensorMes16</th>\n",
       "      <th>SensorMes17</th>\n",
       "      <th>SensorMes18</th>\n",
       "      <th>SensorMes19</th>\n",
       "      <th>SensorMes20</th>\n",
       "      <th>SensorMes21</th>\n",
       "      <th>RUL</th>\n",
       "    </tr>\n",
       "  </thead>\n",
       "  <tbody>\n",
       "    <tr>\n",
       "      <th>0</th>\n",
       "      <td>1</td>\n",
       "      <td>1</td>\n",
       "      <td>42.0049</td>\n",
       "      <td>0.8400</td>\n",
       "      <td>100.0</td>\n",
       "      <td>445.00</td>\n",
       "      <td>549.68</td>\n",
       "      <td>1343.43</td>\n",
       "      <td>1112.93</td>\n",
       "      <td>3.91</td>\n",
       "      <td>5.70</td>\n",
       "      <td>137.36</td>\n",
       "      <td>2211.86</td>\n",
       "      <td>8311.32</td>\n",
       "      <td>1.01</td>\n",
       "      <td>41.69</td>\n",
       "      <td>129.78</td>\n",
       "      <td>2387.99</td>\n",
       "      <td>8074.83</td>\n",
       "      <td>9.3335</td>\n",
       "      <td>0.02</td>\n",
       "      <td>330</td>\n",
       "      <td>2212</td>\n",
       "      <td>100.0</td>\n",
       "      <td>10.62</td>\n",
       "      <td>6.3670</td>\n",
       "      <td>320</td>\n",
       "    </tr>\n",
       "    <tr>\n",
       "      <th>1</th>\n",
       "      <td>1</td>\n",
       "      <td>2</td>\n",
       "      <td>20.0020</td>\n",
       "      <td>0.7002</td>\n",
       "      <td>100.0</td>\n",
       "      <td>491.19</td>\n",
       "      <td>606.07</td>\n",
       "      <td>1477.61</td>\n",
       "      <td>1237.50</td>\n",
       "      <td>9.35</td>\n",
       "      <td>13.61</td>\n",
       "      <td>332.10</td>\n",
       "      <td>2323.66</td>\n",
       "      <td>8713.60</td>\n",
       "      <td>1.07</td>\n",
       "      <td>43.94</td>\n",
       "      <td>312.59</td>\n",
       "      <td>2387.73</td>\n",
       "      <td>8046.13</td>\n",
       "      <td>9.1913</td>\n",
       "      <td>0.02</td>\n",
       "      <td>361</td>\n",
       "      <td>2324</td>\n",
       "      <td>100.0</td>\n",
       "      <td>24.37</td>\n",
       "      <td>14.6552</td>\n",
       "      <td>319</td>\n",
       "    </tr>\n",
       "    <tr>\n",
       "      <th>2</th>\n",
       "      <td>1</td>\n",
       "      <td>3</td>\n",
       "      <td>42.0038</td>\n",
       "      <td>0.8409</td>\n",
       "      <td>100.0</td>\n",
       "      <td>445.00</td>\n",
       "      <td>548.95</td>\n",
       "      <td>1343.12</td>\n",
       "      <td>1117.05</td>\n",
       "      <td>3.91</td>\n",
       "      <td>5.69</td>\n",
       "      <td>138.18</td>\n",
       "      <td>2211.92</td>\n",
       "      <td>8306.69</td>\n",
       "      <td>1.01</td>\n",
       "      <td>41.66</td>\n",
       "      <td>129.62</td>\n",
       "      <td>2387.97</td>\n",
       "      <td>8066.62</td>\n",
       "      <td>9.4007</td>\n",
       "      <td>0.02</td>\n",
       "      <td>329</td>\n",
       "      <td>2212</td>\n",
       "      <td>100.0</td>\n",
       "      <td>10.48</td>\n",
       "      <td>6.4213</td>\n",
       "      <td>318</td>\n",
       "    </tr>\n",
       "  </tbody>\n",
       "</table>\n",
       "</div>"
      ],
      "text/plain": [
       "   UnitNumber  TimeInCycles  OperSet1  OperSet2  OperSet3  SensorMes1  \\\n",
       "0           1             1   42.0049    0.8400     100.0      445.00   \n",
       "1           1             2   20.0020    0.7002     100.0      491.19   \n",
       "2           1             3   42.0038    0.8409     100.0      445.00   \n",
       "\n",
       "   SensorMes2  SensorMes3  SensorMes4  SensorMes5  SensorMes6  SensorMes7  \\\n",
       "0      549.68     1343.43     1112.93        3.91        5.70      137.36   \n",
       "1      606.07     1477.61     1237.50        9.35       13.61      332.10   \n",
       "2      548.95     1343.12     1117.05        3.91        5.69      138.18   \n",
       "\n",
       "   SensorMes8  SensorMes9  SensorMes10  SensorMes11  SensorMes12  SensorMes13  \\\n",
       "0     2211.86     8311.32         1.01        41.69       129.78      2387.99   \n",
       "1     2323.66     8713.60         1.07        43.94       312.59      2387.73   \n",
       "2     2211.92     8306.69         1.01        41.66       129.62      2387.97   \n",
       "\n",
       "   SensorMes14  SensorMes15  SensorMes16  SensorMes17  SensorMes18  \\\n",
       "0      8074.83       9.3335         0.02          330         2212   \n",
       "1      8046.13       9.1913         0.02          361         2324   \n",
       "2      8066.62       9.4007         0.02          329         2212   \n",
       "\n",
       "   SensorMes19  SensorMes20  SensorMes21  RUL  \n",
       "0        100.0        10.62       6.3670  320  \n",
       "1        100.0        24.37      14.6552  319  \n",
       "2        100.0        10.48       6.4213  318  "
      ]
     },
     "execution_count": 63,
     "metadata": {},
     "output_type": "execute_result"
    }
   ],
   "source": [
    "train_fd004.head(3)"
   ]
  },
  {
   "cell_type": "code",
   "execution_count": 64,
   "metadata": {
    "executionInfo": {
     "elapsed": 11,
     "status": "aborted",
     "timestamp": 1686310884491,
     "user": {
      "displayName": "Ibrahima Barry",
      "userId": "00132945360445644191"
     },
     "user_tz": -120
    },
    "id": "SO9r-mpZXPjO"
   },
   "outputs": [],
   "source": [
    "def rul_test_generation(x, rul):\n",
    "\n",
    "  rul[\"UnitNumber\"] = rul.index + 1 # +1 pour que UnitNumber demarre de 1 au lieu de 0, car il s'agit du numero des moteur\n",
    "\n",
    "  x = x.merge(rul, on=['UnitNumber'], how='left')\n",
    "\n",
    "  max_cycle = pd.DataFrame(x.groupby('UnitNumber')['TimeInCycles'].max()).reset_index()\n",
    "  max_cycle.columns = ['UnitNumber', 'max']\n",
    "  x = x.merge(max_cycle, on=['UnitNumber'], how='left')\n",
    "  x['RUL'] = x['RUL_FD'] + x['max'] - x['TimeInCycles']\n",
    "  x.drop(['max', 'RUL_FD'], axis=1, inplace=True)\n",
    "\n",
    "  return x\n",
    "\n",
    "test_fd001 = rul_test_generation(test_fd001, rul_fd001)\n",
    "test_fd002 = rul_test_generation(test_fd002, rul_fd002)\n",
    "test_fd003 = rul_test_generation(test_fd003, rul_fd003)\n",
    "test_fd004 = rul_test_generation(test_fd004, rul_fd004)"
   ]
  },
  {
   "cell_type": "code",
   "execution_count": 65,
   "metadata": {
    "executionInfo": {
     "elapsed": 14,
     "status": "aborted",
     "timestamp": 1686310884494,
     "user": {
      "displayName": "Ibrahima Barry",
      "userId": "00132945360445644191"
     },
     "user_tz": -120
    },
    "id": "UsgIhGIrbbGe"
   },
   "outputs": [
    {
     "data": {
      "text/html": [
       "<div>\n",
       "<style scoped>\n",
       "    .dataframe tbody tr th:only-of-type {\n",
       "        vertical-align: middle;\n",
       "    }\n",
       "\n",
       "    .dataframe tbody tr th {\n",
       "        vertical-align: top;\n",
       "    }\n",
       "\n",
       "    .dataframe thead th {\n",
       "        text-align: right;\n",
       "    }\n",
       "</style>\n",
       "<table border=\"1\" class=\"dataframe\">\n",
       "  <thead>\n",
       "    <tr style=\"text-align: right;\">\n",
       "      <th></th>\n",
       "      <th>UnitNumber</th>\n",
       "      <th>TimeInCycles</th>\n",
       "      <th>OperSet1</th>\n",
       "      <th>OperSet2</th>\n",
       "      <th>OperSet3</th>\n",
       "      <th>SensorMes1</th>\n",
       "      <th>SensorMes2</th>\n",
       "      <th>SensorMes3</th>\n",
       "      <th>SensorMes4</th>\n",
       "      <th>SensorMes5</th>\n",
       "      <th>SensorMes6</th>\n",
       "      <th>SensorMes7</th>\n",
       "      <th>SensorMes8</th>\n",
       "      <th>SensorMes9</th>\n",
       "      <th>SensorMes10</th>\n",
       "      <th>SensorMes11</th>\n",
       "      <th>SensorMes12</th>\n",
       "      <th>SensorMes13</th>\n",
       "      <th>SensorMes14</th>\n",
       "      <th>SensorMes15</th>\n",
       "      <th>SensorMes16</th>\n",
       "      <th>SensorMes17</th>\n",
       "      <th>SensorMes18</th>\n",
       "      <th>SensorMes19</th>\n",
       "      <th>SensorMes20</th>\n",
       "      <th>SensorMes21</th>\n",
       "      <th>RUL</th>\n",
       "    </tr>\n",
       "  </thead>\n",
       "  <tbody>\n",
       "    <tr>\n",
       "      <th>0</th>\n",
       "      <td>1</td>\n",
       "      <td>1</td>\n",
       "      <td>20.0072</td>\n",
       "      <td>0.700</td>\n",
       "      <td>100.0</td>\n",
       "      <td>491.19</td>\n",
       "      <td>606.67</td>\n",
       "      <td>1481.04</td>\n",
       "      <td>1227.81</td>\n",
       "      <td>9.35</td>\n",
       "      <td>13.60</td>\n",
       "      <td>332.52</td>\n",
       "      <td>2323.67</td>\n",
       "      <td>8704.98</td>\n",
       "      <td>1.07</td>\n",
       "      <td>43.83</td>\n",
       "      <td>313.03</td>\n",
       "      <td>2387.78</td>\n",
       "      <td>8048.98</td>\n",
       "      <td>9.2229</td>\n",
       "      <td>0.02</td>\n",
       "      <td>362</td>\n",
       "      <td>2324</td>\n",
       "      <td>100.00</td>\n",
       "      <td>24.31</td>\n",
       "      <td>14.7007</td>\n",
       "      <td>251</td>\n",
       "    </tr>\n",
       "    <tr>\n",
       "      <th>1</th>\n",
       "      <td>1</td>\n",
       "      <td>2</td>\n",
       "      <td>24.9984</td>\n",
       "      <td>0.620</td>\n",
       "      <td>60.0</td>\n",
       "      <td>462.54</td>\n",
       "      <td>536.22</td>\n",
       "      <td>1256.17</td>\n",
       "      <td>1031.48</td>\n",
       "      <td>7.05</td>\n",
       "      <td>9.00</td>\n",
       "      <td>174.46</td>\n",
       "      <td>1915.21</td>\n",
       "      <td>7999.94</td>\n",
       "      <td>0.93</td>\n",
       "      <td>36.11</td>\n",
       "      <td>163.61</td>\n",
       "      <td>2028.09</td>\n",
       "      <td>7863.46</td>\n",
       "      <td>10.8632</td>\n",
       "      <td>0.02</td>\n",
       "      <td>306</td>\n",
       "      <td>1915</td>\n",
       "      <td>84.93</td>\n",
       "      <td>14.36</td>\n",
       "      <td>8.5748</td>\n",
       "      <td>250</td>\n",
       "    </tr>\n",
       "    <tr>\n",
       "      <th>2</th>\n",
       "      <td>1</td>\n",
       "      <td>3</td>\n",
       "      <td>42.0000</td>\n",
       "      <td>0.842</td>\n",
       "      <td>100.0</td>\n",
       "      <td>445.00</td>\n",
       "      <td>549.23</td>\n",
       "      <td>1340.13</td>\n",
       "      <td>1105.88</td>\n",
       "      <td>3.91</td>\n",
       "      <td>5.69</td>\n",
       "      <td>137.34</td>\n",
       "      <td>2211.93</td>\n",
       "      <td>8305.38</td>\n",
       "      <td>1.01</td>\n",
       "      <td>41.52</td>\n",
       "      <td>129.98</td>\n",
       "      <td>2387.95</td>\n",
       "      <td>8071.13</td>\n",
       "      <td>9.3960</td>\n",
       "      <td>0.02</td>\n",
       "      <td>328</td>\n",
       "      <td>2212</td>\n",
       "      <td>100.00</td>\n",
       "      <td>10.39</td>\n",
       "      <td>6.4365</td>\n",
       "      <td>249</td>\n",
       "    </tr>\n",
       "  </tbody>\n",
       "</table>\n",
       "</div>"
      ],
      "text/plain": [
       "   UnitNumber  TimeInCycles  OperSet1  OperSet2  OperSet3  SensorMes1  \\\n",
       "0           1             1   20.0072     0.700     100.0      491.19   \n",
       "1           1             2   24.9984     0.620      60.0      462.54   \n",
       "2           1             3   42.0000     0.842     100.0      445.00   \n",
       "\n",
       "   SensorMes2  SensorMes3  SensorMes4  SensorMes5  SensorMes6  SensorMes7  \\\n",
       "0      606.67     1481.04     1227.81        9.35       13.60      332.52   \n",
       "1      536.22     1256.17     1031.48        7.05        9.00      174.46   \n",
       "2      549.23     1340.13     1105.88        3.91        5.69      137.34   \n",
       "\n",
       "   SensorMes8  SensorMes9  SensorMes10  SensorMes11  SensorMes12  SensorMes13  \\\n",
       "0     2323.67     8704.98         1.07        43.83       313.03      2387.78   \n",
       "1     1915.21     7999.94         0.93        36.11       163.61      2028.09   \n",
       "2     2211.93     8305.38         1.01        41.52       129.98      2387.95   \n",
       "\n",
       "   SensorMes14  SensorMes15  SensorMes16  SensorMes17  SensorMes18  \\\n",
       "0      8048.98       9.2229         0.02          362         2324   \n",
       "1      7863.46      10.8632         0.02          306         1915   \n",
       "2      8071.13       9.3960         0.02          328         2212   \n",
       "\n",
       "   SensorMes19  SensorMes20  SensorMes21  RUL  \n",
       "0       100.00        24.31      14.7007  251  \n",
       "1        84.93        14.36       8.5748  250  \n",
       "2       100.00        10.39       6.4365  249  "
      ]
     },
     "execution_count": 65,
     "metadata": {},
     "output_type": "execute_result"
    }
   ],
   "source": [
    "test_fd004.head(3)"
   ]
  },
  {
   "cell_type": "markdown",
   "metadata": {},
   "source": [
    "# **Bivariate Correlation Analysis**"
   ]
  },
  {
   "cell_type": "code",
   "execution_count": 66,
   "metadata": {},
   "outputs": [],
   "source": [
    "def correl(df):\n",
    "    plt.figure(figsize=(10, 8))\n",
    "    cmap = sns.diverging_palette(500, 10, as_cmap=True)\n",
    "    sns.heatmap(train_fd001.corr(), cmap = cmap, center=0, annot=False, square=True)\n",
    "\n",
    "\n",
    "def correlation_analyz(df, seuil):\n",
    "  # Calculer la corrélation entre les variables avec différentes méthodes\n",
    "  corr_pearson = df.corr(method='pearson')\n",
    "  corr_spearman = df.corr(method='spearman')\n",
    "  corr_kendall = df.corr(method='kendall')\n",
    "\n",
    "  # Colonnes avec corrélation plus faible que le seuil pour chaque méthode\n",
    "  colonnes_faible_corr_pearson = corr_pearson.loc[corr_pearson['RUL'].abs() < seuil].index.tolist()\n",
    "  colonnes_faible_corr_spearman = corr_spearman.loc[corr_spearman['RUL'].abs() < seuil].index.tolist()\n",
    "  colonnes_faible_corr_kendall = corr_kendall.loc[corr_kendall['RUL'].abs() < seuil].index.tolist()\n",
    "\n",
    "  # Afficher les colonnes avec corrélation plus faible que le seuil pour chaque méthode\n",
    "  print(\"Colonnes avec corrélation plus faible que\", seuil, \"pour la corrélation de Pearson:\")\n",
    "  print(colonnes_faible_corr_pearson)\n",
    "  print(\"\\nColonnes avec corrélation plus faible que\", seuil, \"pour la corrélation de Spearman:\")\n",
    "  print(colonnes_faible_corr_spearman)\n",
    "  print(\"\\nColonnes avec corrélation plus faible que\", seuil, \"pour la corrélation de Kendall:\")\n",
    "  print(colonnes_faible_corr_kendall)"
   ]
  },
  {
   "cell_type": "code",
   "execution_count": 67,
   "metadata": {},
   "outputs": [
    {
     "data": {
      "image/png": "[encoded data removed]",
      "text/plain": [
       "<Figure size 1000x800 with 2 Axes>"
      ]
     },
     "metadata": {},
     "output_type": "display_data"
    }
   ],
   "source": [
    "correl(train_fd001)"
   ]
  },
  {
   "cell_type": "code",
   "execution_count": 68,
   "metadata": {},
   "outputs": [
    {
     "name": "stdout",
     "output_type": "stream",
     "text": [
      "Colonnes avec corrélation plus faible que 0.6 pour la corrélation de Pearson:\n",
      "['UnitNumber', 'OperSet1', 'OperSet2', 'SensorMes3', 'SensorMes6', 'SensorMes8', 'SensorMes9', 'SensorMes13', 'SensorMes14']\n",
      "\n",
      "Colonnes avec corrélation plus faible que 0.6 pour la corrélation de Spearman:\n",
      "['UnitNumber', 'OperSet1', 'OperSet2', 'SensorMes6', 'SensorMes8', 'SensorMes9', 'SensorMes13', 'SensorMes14']\n",
      "\n",
      "Colonnes avec corrélation plus faible que 0.6 pour la corrélation de Kendall:\n",
      "['UnitNumber', 'TimeInCycles', 'OperSet1', 'OperSet2', 'SensorMes2', 'SensorMes3', 'SensorMes4', 'SensorMes6', 'SensorMes7', 'SensorMes8', 'SensorMes9', 'SensorMes11', 'SensorMes12', 'SensorMes13', 'SensorMes14', 'SensorMes15', 'SensorMes17', 'SensorMes20', 'SensorMes21']\n"
     ]
    }
   ],
   "source": [
    "correlation_analyz(train_fd001, 0.6)"
   ]
  },
  {
   "cell_type": "code",
   "execution_count": 69,
   "metadata": {},
   "outputs": [],
   "source": [
    "# Les colonnes à supprimer\n",
    "operSets_to_drop = [\"OperSet\"+str(i) for i in [1, 2]] # 1 et 2\n",
    "sensorMes_to_drop = [\"SensorMes\"+str(j) for j in [3, 6, 8, 9, 13, 14]]\n",
    "cols_to_drop = operSets_to_drop + sensorMes_to_drop\n",
    "\n",
    "# Suppression dans train et test\n",
    "drop_cols=True\n",
    "if(drop_cols == True):\n",
    "  train_fd001 = train_fd001.drop(cols_to_drop, axis=1)\n",
    "  test_fd001 = test_fd001.drop(cols_to_drop, axis=1)"
   ]
  },
  {
   "cell_type": "code",
   "execution_count": 70,
   "metadata": {},
   "outputs": [
    {
     "data": {
      "text/plain": [
       "(Index(['UnitNumber', 'TimeInCycles', 'OperSet3', 'SensorMes1', 'SensorMes2',\n",
       "        'SensorMes4', 'SensorMes5', 'SensorMes7', 'SensorMes10', 'SensorMes11',\n",
       "        'SensorMes12', 'SensorMes15', 'SensorMes16', 'SensorMes17',\n",
       "        'SensorMes18', 'SensorMes19', 'SensorMes20', 'SensorMes21', 'RUL'],\n",
       "       dtype='object'),\n",
       " 19)"
      ]
     },
     "execution_count": 70,
     "metadata": {},
     "output_type": "execute_result"
    }
   ],
   "source": [
    "train_fd001.columns, len(train_fd001.columns)"
   ]
  },
  {
   "cell_type": "code",
   "execution_count": 71,
   "metadata": {},
   "outputs": [
    {
     "data": {
      "image/png": "[encoded data removed]",
      "text/plain": [
       "<Figure size 1000x800 with 2 Axes>"
      ]
     },
     "metadata": {},
     "output_type": "display_data"
    }
   ],
   "source": [
    "correl(train_fd002)"
   ]
  },
  {
   "cell_type": "code",
   "execution_count": 72,
   "metadata": {},
   "outputs": [
    {
     "name": "stdout",
     "output_type": "stream",
     "text": [
      "Colonnes avec corrélation plus faible que 0.03 pour la corrélation de Pearson:\n",
      "['UnitNumber', 'OperSet1', 'OperSet2', 'OperSet3', 'SensorMes1', 'SensorMes2', 'SensorMes3', 'SensorMes5', 'SensorMes6', 'SensorMes7', 'SensorMes8', 'SensorMes9', 'SensorMes10', 'SensorMes12', 'SensorMes13', 'SensorMes17', 'SensorMes18', 'SensorMes19', 'SensorMes20', 'SensorMes21']\n",
      "\n",
      "Colonnes avec corrélation plus faible que 0.03 pour la corrélation de Spearman:\n",
      "['UnitNumber', 'OperSet1', 'OperSet2', 'OperSet3', 'SensorMes1', 'SensorMes5', 'SensorMes10', 'SensorMes18', 'SensorMes19']\n",
      "\n",
      "Colonnes avec corrélation plus faible que 0.03 pour la corrélation de Kendall:\n",
      "['UnitNumber', 'OperSet1', 'OperSet2', 'OperSet3', 'SensorMes1', 'SensorMes5', 'SensorMes10', 'SensorMes18', 'SensorMes19']\n"
     ]
    }
   ],
   "source": [
    "correlation_analyz(train_fd002, 0.03)"
   ]
  },
  {
   "cell_type": "code",
   "execution_count": 73,
   "metadata": {},
   "outputs": [],
   "source": [
    "# Les colonnes à supprimer\n",
    "operSets_to_drop = [\"OperSet\"+str(i) for i in range(1,4)] # 1,2 et 3\n",
    "sensorMes_to_drop = [\"SensorMes\"+str(j) for j in [1, 5, 10, 18, 19]]\n",
    "cols_to_drop = operSets_to_drop + sensorMes_to_drop\n",
    "\n",
    "# Suppression dans train et test\n",
    "drop_cols=True\n",
    "if(drop_cols == True):\n",
    "  train_fd002 = train_fd002.drop(cols_to_drop, axis=1)\n",
    "  test_fd002 = test_fd002.drop(cols_to_drop, axis=1)"
   ]
  },
  {
   "cell_type": "code",
   "execution_count": 74,
   "metadata": {},
   "outputs": [
    {
     "data": {
      "text/plain": [
       "(Index(['UnitNumber', 'TimeInCycles', 'SensorMes2', 'SensorMes3', 'SensorMes4',\n",
       "        'SensorMes6', 'SensorMes7', 'SensorMes8', 'SensorMes9', 'SensorMes11',\n",
       "        'SensorMes12', 'SensorMes13', 'SensorMes14', 'SensorMes15',\n",
       "        'SensorMes16', 'SensorMes17', 'SensorMes20', 'SensorMes21', 'RUL'],\n",
       "       dtype='object'),\n",
       " 19)"
      ]
     },
     "execution_count": 74,
     "metadata": {},
     "output_type": "execute_result"
    }
   ],
   "source": [
    "train_fd002.columns, len(train_fd002.columns)"
   ]
  },
  {
   "cell_type": "code",
   "execution_count": 75,
   "metadata": {},
   "outputs": [
    {
     "data": {
      "image/png": "[encoded data removed]",
      "text/plain": [
       "<Figure size 1000x800 with 2 Axes>"
      ]
     },
     "metadata": {},
     "output_type": "display_data"
    }
   ],
   "source": [
    "correl(train_fd003)"
   ]
  },
  {
   "cell_type": "code",
   "execution_count": 76,
   "metadata": {},
   "outputs": [
    {
     "name": "stdout",
     "output_type": "stream",
     "text": [
      "Colonnes avec corrélation plus faible que 0.4 pour la corrélation de Pearson:\n",
      "['UnitNumber', 'OperSet1', 'OperSet2', 'SensorMes6', 'SensorMes7', 'SensorMes10', 'SensorMes12', 'SensorMes15', 'SensorMes20', 'SensorMes21']\n",
      "\n",
      "Colonnes avec corrélation plus faible que 0.4 pour la corrélation de Spearman:\n",
      "['UnitNumber', 'OperSet1', 'OperSet2', 'SensorMes6', 'SensorMes7', 'SensorMes12', 'SensorMes15', 'SensorMes20', 'SensorMes21']\n",
      "\n",
      "Colonnes avec corrélation plus faible que 0.4 pour la corrélation de Kendall:\n",
      "['UnitNumber', 'OperSet1', 'OperSet2', 'SensorMes6', 'SensorMes7', 'SensorMes10', 'SensorMes12', 'SensorMes14', 'SensorMes15', 'SensorMes20', 'SensorMes21']\n"
     ]
    }
   ],
   "source": [
    "correlation_analyz(train_fd003, 0.4)"
   ]
  },
  {
   "cell_type": "code",
   "execution_count": 77,
   "metadata": {},
   "outputs": [],
   "source": [
    "# Les colonnes à supprimer\n",
    "operSets_to_drop = [\"OperSet\"+str(i) for i in [1, 2]] # 1 et 2\n",
    "sensorMes_to_drop = [\"SensorMes\"+str(j) for j in [6, 7, 10, 12, 15, 20, 21]]\n",
    "cols_to_drop = operSets_to_drop + sensorMes_to_drop\n",
    "\n",
    "# Suppression dans train et test\n",
    "drop_cols=True\n",
    "if(drop_cols == True):\n",
    "  train_fd003 = train_fd003.drop(cols_to_drop, axis=1)\n",
    "  test_fd003 = test_fd003.drop(cols_to_drop, axis=1)"
   ]
  },
  {
   "cell_type": "code",
   "execution_count": 78,
   "metadata": {},
   "outputs": [
    {
     "data": {
      "text/plain": [
       "(Index(['UnitNumber', 'TimeInCycles', 'OperSet3', 'SensorMes1', 'SensorMes2',\n",
       "        'SensorMes3', 'SensorMes4', 'SensorMes5', 'SensorMes8', 'SensorMes9',\n",
       "        'SensorMes11', 'SensorMes13', 'SensorMes14', 'SensorMes16',\n",
       "        'SensorMes17', 'SensorMes18', 'SensorMes19', 'RUL'],\n",
       "       dtype='object'),\n",
       " 18)"
      ]
     },
     "execution_count": 78,
     "metadata": {},
     "output_type": "execute_result"
    }
   ],
   "source": [
    "train_fd003.columns, len(train_fd003.columns)"
   ]
  },
  {
   "cell_type": "code",
   "execution_count": 79,
   "metadata": {},
   "outputs": [
    {
     "data": {
      "image/png": "[encoded data removed]",
      "text/plain": [
       "<Figure size 1000x800 with 2 Axes>"
      ]
     },
     "metadata": {},
     "output_type": "display_data"
    }
   ],
   "source": [
    "correl(train_fd004)"
   ]
  },
  {
   "cell_type": "code",
   "execution_count": 80,
   "metadata": {},
   "outputs": [
    {
     "name": "stdout",
     "output_type": "stream",
     "text": [
      "Colonnes avec corrélation plus faible que 0.03 pour la corrélation de Pearson:\n",
      "['UnitNumber', 'OperSet1', 'OperSet2', 'OperSet3', 'SensorMes1', 'SensorMes2', 'SensorMes5', 'SensorMes6', 'SensorMes7', 'SensorMes8', 'SensorMes9', 'SensorMes10', 'SensorMes12', 'SensorMes13', 'SensorMes15', 'SensorMes18', 'SensorMes19', 'SensorMes20', 'SensorMes21']\n",
      "\n",
      "Colonnes avec corrélation plus faible que 0.03 pour la corrélation de Spearman:\n",
      "['UnitNumber', 'OperSet1', 'OperSet2', 'OperSet3', 'SensorMes1', 'SensorMes5', 'SensorMes7', 'SensorMes12', 'SensorMes15', 'SensorMes18', 'SensorMes19', 'SensorMes20', 'SensorMes21']\n",
      "\n",
      "Colonnes avec corrélation plus faible que 0.03 pour la corrélation de Kendall:\n",
      "['UnitNumber', 'OperSet1', 'OperSet2', 'OperSet3', 'SensorMes1', 'SensorMes5', 'SensorMes6', 'SensorMes7', 'SensorMes12', 'SensorMes15', 'SensorMes18', 'SensorMes19', 'SensorMes20', 'SensorMes21']\n"
     ]
    }
   ],
   "source": [
    "correlation_analyz(train_fd004, 0.03)"
   ]
  },
  {
   "cell_type": "code",
   "execution_count": 81,
   "metadata": {},
   "outputs": [],
   "source": [
    "# Les colonnes à supprimer\n",
    "operSets_to_drop = [\"OperSet\"+str(i) for i in range(1,4)] # 1,2 et 3\n",
    "sensorMes_to_drop = [\"SensorMes\"+str(j) for j in [1, 5, 6, 7, 12, 15, 18, 19, 20, 21]]\n",
    "cols_to_drop = operSets_to_drop + sensorMes_to_drop\n",
    "\n",
    "# Suppression dans train et test\n",
    "drop_cols=True\n",
    "if(drop_cols == True):\n",
    "  train_fd004 = train_fd004.drop(cols_to_drop, axis=1)\n",
    "  test_fd004 = test_fd004.drop(cols_to_drop, axis=1)"
   ]
  },
  {
   "cell_type": "code",
   "execution_count": 82,
   "metadata": {},
   "outputs": [
    {
     "data": {
      "text/plain": [
       "(Index(['UnitNumber', 'TimeInCycles', 'SensorMes2', 'SensorMes3', 'SensorMes4',\n",
       "        'SensorMes8', 'SensorMes9', 'SensorMes10', 'SensorMes11', 'SensorMes13',\n",
       "        'SensorMes14', 'SensorMes16', 'SensorMes17', 'RUL'],\n",
       "       dtype='object'),\n",
       " 14)"
      ]
     },
     "execution_count": 82,
     "metadata": {},
     "output_type": "execute_result"
    }
   ],
   "source": [
    "train_fd004.columns, len(train_fd004.columns)"
   ]
  },
  {
   "cell_type": "markdown",
   "metadata": {
    "id": "L8m9gYB3Q7Hk"
   },
   "source": [
    "# **RANDOM SAMPLE SELECTION**"
   ]
  },
  {
   "cell_type": "code",
   "execution_count": 83,
   "metadata": {
    "executionInfo": {
     "elapsed": 15,
     "status": "aborted",
     "timestamp": 1686310884495,
     "user": {
      "displayName": "Ibrahima Barry",
      "userId": "00132945360445644191"
     },
     "user_tz": -120
    },
    "id": "U-YzlssEQ7Hl"
   },
   "outputs": [
    {
     "data": {
      "text/plain": [
       "\"element_counts = test_fd002[test_fd002['UnitNumber']==1]\\nlen(element_counts)\""
      ]
     },
     "execution_count": 83,
     "metadata": {},
     "output_type": "execute_result"
    }
   ],
   "source": [
    "'''element_counts = test_fd002[test_fd002['UnitNumber']==1]\n",
    "len(element_counts)'''"
   ]
  },
  {
   "cell_type": "code",
   "execution_count": 84,
   "metadata": {
    "executionInfo": {
     "elapsed": 15,
     "status": "aborted",
     "timestamp": 1686310884496,
     "user": {
      "displayName": "Ibrahima Barry",
      "userId": "00132945360445644191"
     },
     "user_tz": -120
    },
    "id": "3ogEKLWfQ7Hm"
   },
   "outputs": [],
   "source": [
    "import random\n",
    "\n",
    "def selection_aleatoire(df, sample_size, rand_state):\n",
    "    unique_values = df[\"UnitNumber\"].unique()\n",
    "    selected_rows = []\n",
    "    for value in unique_values:\n",
    "        rows = df[df[\"UnitNumber\"] == value]\n",
    "        if len(rows) < sample_size : # si la taille de l'echantillon donnée est superieur au nombre total de ligne pour un moteur, reinitialiser la valeur\n",
    "            sample_size = len(rows)\n",
    "        random_sample = rows.sample(n=sample_size, random_state = rand_state)  # Sélectionne 50 lignes aléatoires\n",
    "        selected_rows.append(random_sample)\n",
    "    result = pd.concat(selected_rows)\n",
    "    return result"
   ]
  },
  {
   "cell_type": "markdown",
   "metadata": {
    "id": "phZTpM6fQ7Hm"
   },
   "source": [
    "# **Data normalization**"
   ]
  },
  {
   "cell_type": "code",
   "execution_count": 85,
   "metadata": {
    "executionInfo": {
     "elapsed": 17,
     "status": "aborted",
     "timestamp": 1686310884498,
     "user": {
      "displayName": "Ibrahima Barry",
      "userId": "00132945360445644191"
     },
     "user_tz": -120
    },
    "id": "_NZIBGyfZAdU"
   },
   "outputs": [],
   "source": [
    "def normalised_df(train, test):\n",
    "\n",
    "  from sklearn.preprocessing import MinMaxScaler\n",
    "\n",
    "  # Instancier l'objet MinMaxScaler pour normaliser les données\n",
    "  scaler = MinMaxScaler()\n",
    "\n",
    "  # Normaliser train\n",
    "  train_scaled = scaler.fit_transform(train)\n",
    "  train_df = pd.DataFrame(train_scaled)\n",
    "\n",
    "  # Normaliser test\n",
    "  test_scaled = scaler.fit_transform(test)\n",
    "  test_df = pd.DataFrame(test_scaled)\n",
    "\n",
    "\n",
    "  train_df.columns = train.columns\n",
    "  test_df.columns = test.columns\n",
    "    \n",
    "  return train_df, test_df"
   ]
  },
  {
   "cell_type": "markdown",
   "metadata": {
    "id": "saXzvQieSZi7"
   },
   "source": [
    "# **Data splitting**"
   ]
  },
  {
   "cell_type": "code",
   "execution_count": 86,
   "metadata": {
    "executionInfo": {
     "elapsed": 19,
     "status": "aborted",
     "timestamp": 1686310884500,
     "user": {
      "displayName": "Ibrahima Barry",
      "userId": "00132945360445644191"
     },
     "user_tz": -120
    },
    "id": "lZWWDPa-QZ6A"
   },
   "outputs": [],
   "source": [
    "def data_split(train, test):\n",
    "\n",
    "  # data split\n",
    "  X_train = train.drop('RUL', axis=1)\n",
    "  Y_train = train['RUL']\n",
    "  X_test = test.drop('RUL', axis=1)\n",
    "  Y_test = test['RUL']\n",
    "    \n",
    "  return X_train, Y_train, X_test, Y_test\n"
   ]
  },
  {
   "cell_type": "markdown",
   "metadata": {},
   "source": [
    "# calcul de S-score"
   ]
  },
  {
   "cell_type": "code",
   "execution_count": 87,
   "metadata": {},
   "outputs": [],
   "source": [
    "#calcul de S-score\n",
    "def compute_s_score(rul_true, rul_pred):\n",
    "    diff = rul_pred - rul_true\n",
    "    return np.sum(np.where(diff < 0, np.exp(-diff/13)-1, np.exp(diff/10)-1))"
   ]
  },
  {
   "cell_type": "markdown",
   "metadata": {
    "id": "6ME9D2ueVxeT"
   },
   "source": [
    "# **The XGB Regressor model**"
   ]
  },
  {
   "cell_type": "code",
   "execution_count": 88,
   "metadata": {
    "executionInfo": {
     "elapsed": 276,
     "status": "ok",
     "timestamp": 1686310892646,
     "user": {
      "displayName": "Ibrahima Barry",
      "userId": "00132945360445644191"
     },
     "user_tz": -120
    },
    "id": "ulZGXcj_Oold"
   },
   "outputs": [],
   "source": [
    "import time\n",
    "\n",
    "def my_XGB_Regressor(x, y):\n",
    "\n",
    "    # Time tracking, Operation time (min)\n",
    "    t = time.process_time()\n",
    "\n",
    "\n",
    "    mse_test_list = []\n",
    "    rmse_test_list = []\n",
    "    mae_test_list = []\n",
    "    mape_test_list = []\n",
    "    #s_score_list = []\n",
    "    \n",
    "    \n",
    "    for j in range(1, 11):\n",
    "        train_selected = selection_aleatoire(x, 50, j)\n",
    "        test_selected = selection_aleatoire(y, 25, j)\n",
    "\n",
    "        normalized_train_df, normalized_test_df =  normalised_df(train_selected, test_selected)\n",
    "\n",
    "        X_train, Y_train, X_test, Y_test = data_split(normalized_train_df, normalized_test_df)\n",
    "\n",
    "        # Créer le modèle XGBoost Regressor\n",
    "        model = XGBRegressor()\n",
    "\n",
    "        # Définir les paramètres à tester dans la recherche par grille\n",
    "        param_grid = {\n",
    "            'n_estimators': [100, 500, 1000],\n",
    "            'max_depth': [3, 5, 7],\n",
    "            'learning_rate': [0.01, 0.1, 0.3], #np.logspace(-3,-1,10)\n",
    "            'subsample': [0.5, 0.7, 0.9],\n",
    "            'colsample_bytree': [0.5, 0.7, 0.9],\n",
    "            }\n",
    "\n",
    "        # Créer l'objet GridSearchCV\n",
    "        grid_search = GridSearchCV(model, param_grid, cv=5, scoring='neg_mean_squared_error')\n",
    "\n",
    "        # Effectuer la recherche par grille sur les données d'entraînement\n",
    "        grid_search.fit(X_train, Y_train)\n",
    "\n",
    "        # Afficher les meilleurs paramètres trouvés\n",
    "        print(\"Meilleurs paramètres trouvés :\")\n",
    "        print(grid_search.best_params_)\n",
    "        \n",
    "        # Créer l'objet GridSearchCV\n",
    "        grid_search = GridSearchCV(model, param_grid, cv=5, scoring='neg_mean_squared_error')\n",
    "\n",
    "        # Effectuer la recherche par grille sur les données d'entraînement\n",
    "        grid_search.fit(X_train, Y_train)\n",
    "\n",
    "        print(\"\\n***********************TOUR No \",j,\"/10:************************\")\n",
    "\n",
    "        # Afficher les meilleurs paramètres trouvés\n",
    "        print(\"Meilleurs paramètres trouvés :\")\n",
    "        print(grid_search.best_params_)\n",
    "\n",
    "        '''#-------------Train---------------------\n",
    "        # Prédire les valeurs en utilisant le modèle KNN Regressor pour les données Train\n",
    "        y_pred_train = grid_search.predict(X_train)\n",
    "        # Afficher l'erreur quadratique moyenne et le coefficient de détermination R2\n",
    "        mse_train = mean_squared_error(Y_train, y_pred_train)\n",
    "        rmse_train = np.sqrt(mse_train)\n",
    "        print('Train:==========================================================')\n",
    "        print('MSE : ',mse_train * 100,'%')\n",
    "        print('RMSE : ',rmse_train * 100,'%')'''\n",
    "\n",
    "        #-------------Test---------------------\n",
    "        # Prédire les valeurs en utilisant le modèle KNN Regressor pour les données Test\n",
    "        y_pred_test = grid_search.predict(X_test)\n",
    "        # Afficher l'erreur quadratique moyenne et le coefficient de détermination R2\n",
    "        mse_test = mean_squared_error(Y_test, y_pred_test)\n",
    "        rmse_test = np.sqrt(mse_test)\n",
    "        mae_test = mean_absolute_error(Y_test, y_pred_test)\n",
    "        mape_test = np.mean(np.abs((Y_test - y_pred_test) / Y_test)) * 100\n",
    "        s_score = compute_s_score(Y_test, y_pred_test)\n",
    "\n",
    "        print('\\n=============================Test=============================')\n",
    "        print('MSE : ',mse_test * 100,'%')\n",
    "        print('RMSE : ',rmse_test * 100,'%')\n",
    "        print('MAE : ',mae_test * 100,'%')\n",
    "        print('MAPE : ',mape_test,'%')\n",
    "        #print(\"S-score: \", s_score)\n",
    "\n",
    "        #score\n",
    "        '''train_rmse_list.append(mse_train)'''\n",
    "        mse_test_list.append(mse_test)\n",
    "        rmse_test_list.append(rmse_test)\n",
    "        mae_test_list.append(mae_test)\n",
    "        mape_test_list.append(mape_test)\n",
    "        #s_score_list.append(s_score)\n",
    "        \n",
    "        print(\"++++++++++++++++++++++++++++++++++++++++++++++++++++++++++++\")\n",
    "        print(\"time: \" , (time.process_time()-t)/60,\"min\")\n",
    "        print('')\n",
    "        \n",
    "        \n",
    "        \n",
    "    print(\"\\n\\n++++++++++++++++++++++++++++++++++++++++++++++++++++++++++++\")\n",
    "    print(\"Total time: \" , (time.process_time()-t)/60,\"min\")\n",
    "    \n",
    "    #print('All S-Score: ',s_score_list)\n",
    "    #print('\\n mean S-Score', np.mean(s_score_list),'\\n')\n",
    "    \n",
    "    print('All MSE: ',mse_test_list)\n",
    "    print('mean MSE', np.mean(mse_test_list), \" == \",np.mean(mse_test_list)*100,\"%\\n\")\n",
    "    \n",
    "    print('All RMSE: ',rmse_test_list)\n",
    "    print('\\n******************************************************************************************')\n",
    "    print('******************************************************************************************')\n",
    "    print('***************** mean RMSE', np.mean(rmse_test_list), \" ==> \",np.mean(rmse_test_list)*100,\"% ***************\")\n",
    "    print('******************************************************************************************')\n",
    "    print('******************************************************************************************\\n')\n",
    "\n",
    "\n",
    "    print('mean MAE : ', np.mean(mae_test_list) * 100,'%')\n",
    "    print('mean MAPE : ', np.mean(mape_test_list),'%')"
   ]
  },
  {
   "cell_type": "code",
   "execution_count": 89,
   "metadata": {
    "colab": {
     "base_uri": "https://localhost:8080/",
     "height": 171
    },
    "executionInfo": {
     "elapsed": 1151,
     "status": "error",
     "timestamp": 1686310899778,
     "user": {
      "displayName": "Ibrahima Barry",
      "userId": "00132945360445644191"
     },
     "user_tz": -120
    },
    "id": "TvUvhxftT-qq",
    "outputId": "9d108171-21cb-4e8c-d6cc-8b4dfc35f503",
    "scrolled": true
   },
   "outputs": [
    {
     "name": "stdout",
     "output_type": "stream",
     "text": [
      "Meilleurs paramètres trouvés :\n",
      "{'colsample_bytree': 0.5, 'learning_rate': 0.01, 'max_depth': 3, 'n_estimators': 500, 'subsample': 0.5}\n",
      "\n",
      "***********************TOUR No  1 /10:************************\n",
      "Meilleurs paramètres trouvés :\n",
      "{'colsample_bytree': 0.5, 'learning_rate': 0.01, 'max_depth': 3, 'n_estimators': 500, 'subsample': 0.5}\n",
      "\n",
      "=============================Test=============================\n",
      "MSE :  1.9573064469479988 %\n",
      "RMSE :  13.990376860356546 %\n",
      "MAE :  10.175373593367224 %\n",
      "MAPE :  inf %\n",
      "++++++++++++++++++++++++++++++++++++++++++++++++++++++++++++\n",
      "time:  191.64791666666667 min\n",
      "\n",
      "Meilleurs paramètres trouvés :\n",
      "{'colsample_bytree': 0.5, 'learning_rate': 0.01, 'max_depth': 5, 'n_estimators': 500, 'subsample': 0.7}\n",
      "\n",
      "***********************TOUR No  2 /10:************************\n",
      "Meilleurs paramètres trouvés :\n",
      "{'colsample_bytree': 0.5, 'learning_rate': 0.01, 'max_depth': 5, 'n_estimators': 500, 'subsample': 0.7}\n",
      "\n",
      "=============================Test=============================\n",
      "MSE :  2.537068690593073 %\n",
      "RMSE :  15.928178460178907 %\n",
      "MAE :  11.652527170652762 %\n",
      "MAPE :  inf %\n",
      "++++++++++++++++++++++++++++++++++++++++++++++++++++++++++++\n",
      "time:  385.29583333333335 min\n",
      "\n",
      "Meilleurs paramètres trouvés :\n",
      "{'colsample_bytree': 0.5, 'learning_rate': 0.01, 'max_depth': 5, 'n_estimators': 500, 'subsample': 0.9}\n",
      "\n",
      "***********************TOUR No  3 /10:************************\n",
      "Meilleurs paramètres trouvés :\n",
      "{'colsample_bytree': 0.5, 'learning_rate': 0.01, 'max_depth': 5, 'n_estimators': 500, 'subsample': 0.9}\n",
      "\n",
      "=============================Test=============================\n",
      "MSE :  2.5253322563134315 %\n",
      "RMSE :  15.891294020039497 %\n",
      "MAE :  11.580788222015999 %\n",
      "MAPE :  inf %\n",
      "++++++++++++++++++++++++++++++++++++++++++++++++++++++++++++\n",
      "time:  580.7015625 min\n",
      "\n",
      "Meilleurs paramètres trouvés :\n",
      "{'colsample_bytree': 0.5, 'learning_rate': 0.01, 'max_depth': 5, 'n_estimators': 500, 'subsample': 0.9}\n",
      "\n",
      "***********************TOUR No  4 /10:************************\n",
      "Meilleurs paramètres trouvés :\n",
      "{'colsample_bytree': 0.5, 'learning_rate': 0.01, 'max_depth': 5, 'n_estimators': 500, 'subsample': 0.9}\n",
      "\n",
      "=============================Test=============================\n",
      "MSE :  2.483226961120445 %\n",
      "RMSE :  15.758258029111103 %\n",
      "MAE :  11.531146850514368 %\n",
      "MAPE :  inf %\n",
      "++++++++++++++++++++++++++++++++++++++++++++++++++++++++++++\n",
      "time:  811.1083333333333 min\n",
      "\n",
      "Meilleurs paramètres trouvés :\n",
      "{'colsample_bytree': 0.5, 'learning_rate': 0.01, 'max_depth': 3, 'n_estimators': 500, 'subsample': 0.7}\n",
      "\n",
      "***********************TOUR No  5 /10:************************\n",
      "Meilleurs paramètres trouvés :\n",
      "{'colsample_bytree': 0.5, 'learning_rate': 0.01, 'max_depth': 3, 'n_estimators': 500, 'subsample': 0.7}\n",
      "\n",
      "=============================Test=============================\n",
      "MSE :  2.063870846800467 %\n",
      "RMSE :  14.366178499519163 %\n",
      "MAE :  10.395935841514554 %\n",
      "MAPE :  inf %\n",
      "++++++++++++++++++++++++++++++++++++++++++++++++++++++++++++\n",
      "time:  1042.31640625 min\n",
      "\n",
      "Meilleurs paramètres trouvés :\n",
      "{'colsample_bytree': 0.5, 'learning_rate': 0.01, 'max_depth': 3, 'n_estimators': 500, 'subsample': 0.5}\n",
      "\n",
      "***********************TOUR No  6 /10:************************\n",
      "Meilleurs paramètres trouvés :\n",
      "{'colsample_bytree': 0.5, 'learning_rate': 0.01, 'max_depth': 3, 'n_estimators': 500, 'subsample': 0.5}\n",
      "\n",
      "=============================Test=============================\n",
      "MSE :  2.3134428545165813 %\n",
      "RMSE :  15.210006096371497 %\n",
      "MAE :  11.110527206355773 %\n",
      "MAPE :  inf %\n",
      "++++++++++++++++++++++++++++++++++++++++++++++++++++++++++++\n",
      "time:  1274.2901041666667 min\n",
      "\n",
      "Meilleurs paramètres trouvés :\n",
      "{'colsample_bytree': 0.5, 'learning_rate': 0.01, 'max_depth': 3, 'n_estimators': 500, 'subsample': 0.7}\n",
      "\n",
      "***********************TOUR No  7 /10:************************\n",
      "Meilleurs paramètres trouvés :\n",
      "{'colsample_bytree': 0.5, 'learning_rate': 0.01, 'max_depth': 3, 'n_estimators': 500, 'subsample': 0.7}\n",
      "\n",
      "=============================Test=============================\n",
      "MSE :  2.003131406951178 %\n",
      "RMSE :  14.153202489017028 %\n",
      "MAE :  10.154881640253645 %\n",
      "MAPE :  inf %\n",
      "++++++++++++++++++++++++++++++++++++++++++++++++++++++++++++\n",
      "time:  1511.9315104166667 min\n",
      "\n",
      "Meilleurs paramètres trouvés :\n",
      "{'colsample_bytree': 0.5, 'learning_rate': 0.01, 'max_depth': 3, 'n_estimators': 500, 'subsample': 0.5}\n",
      "\n",
      "***********************TOUR No  8 /10:************************\n",
      "Meilleurs paramètres trouvés :\n",
      "{'colsample_bytree': 0.5, 'learning_rate': 0.01, 'max_depth': 3, 'n_estimators': 500, 'subsample': 0.5}\n",
      "\n",
      "=============================Test=============================\n",
      "MSE :  2.1429404725680454 %\n",
      "RMSE :  14.638785716609304 %\n",
      "MAE :  10.711872128677692 %\n",
      "MAPE :  inf %\n",
      "++++++++++++++++++++++++++++++++++++++++++++++++++++++++++++\n",
      "time:  1749.10078125 min\n",
      "\n",
      "Meilleurs paramètres trouvés :\n",
      "{'colsample_bytree': 0.5, 'learning_rate': 0.01, 'max_depth': 3, 'n_estimators': 500, 'subsample': 0.7}\n",
      "\n",
      "***********************TOUR No  9 /10:************************\n",
      "Meilleurs paramètres trouvés :\n",
      "{'colsample_bytree': 0.5, 'learning_rate': 0.01, 'max_depth': 3, 'n_estimators': 500, 'subsample': 0.7}\n",
      "\n",
      "=============================Test=============================\n",
      "MSE :  1.7986888896084394 %\n",
      "RMSE :  13.411520754964515 %\n",
      "MAE :  9.715080709170277 %\n",
      "MAPE :  inf %\n",
      "++++++++++++++++++++++++++++++++++++++++++++++++++++++++++++\n",
      "time:  1986.7708333333333 min\n",
      "\n",
      "Meilleurs paramètres trouvés :\n",
      "{'colsample_bytree': 0.5, 'learning_rate': 0.01, 'max_depth': 3, 'n_estimators': 500, 'subsample': 0.5}\n",
      "\n",
      "***********************TOUR No  10 /10:************************\n",
      "Meilleurs paramètres trouvés :\n",
      "{'colsample_bytree': 0.5, 'learning_rate': 0.01, 'max_depth': 3, 'n_estimators': 500, 'subsample': 0.5}\n",
      "\n",
      "=============================Test=============================\n",
      "MSE :  2.529014523585059 %\n",
      "RMSE :  15.902875600296504 %\n",
      "MAE :  11.770601569899974 %\n",
      "MAPE :  inf %\n",
      "++++++++++++++++++++++++++++++++++++++++++++++++++++++++++++\n",
      "time:  2224.2752604166667 min\n",
      "\n",
      "\n",
      "\n",
      "++++++++++++++++++++++++++++++++++++++++++++++++++++++++++++\n",
      "Total time:  2224.2752604166667 min\n",
      "All MSE:  [0.019573064469479987, 0.02537068690593073, 0.025253322563134315, 0.024832269611204452, 0.020638708468004672, 0.023134428545165814, 0.02003131406951178, 0.021429404725680456, 0.017986888896084394, 0.02529014523585059]\n",
      "mean MSE 0.02235402334900472  ==  2.2354023349004724 %\n",
      "\n",
      "All RMSE:  [0.13990376860356546, 0.15928178460178907, 0.15891294020039498, 0.15758258029111102, 0.14366178499519164, 0.15210006096371498, 0.14153202489017028, 0.14638785716609304, 0.13411520754964515, 0.15902875600296504]\n",
      "\n",
      "******************************************************************************************\n",
      "******************************************************************************************\n",
      "***************** mean RMSE 0.14925067652646407  ==>  14.925067652646407 % ***************\n",
      "******************************************************************************************\n",
      "******************************************************************************************\n",
      "\n",
      "mean MAE :  10.879873493242224 %\n",
      "mean MAPE :  inf %\n"
     ]
    }
   ],
   "source": [
    "my_XGB_Regressor(train_fd001, test_fd001)"
   ]
  },
  {
   "cell_type": "code",
   "execution_count": 90,
   "metadata": {
    "colab": {
     "base_uri": "https://localhost:8080/",
     "height": 171
    },
    "executionInfo": {
     "elapsed": 260,
     "status": "error",
     "timestamp": 1686310902730,
     "user": {
      "displayName": "Ibrahima Barry",
      "userId": "00132945360445644191"
     },
     "user_tz": -120
    },
    "id": "zOR36ak5T-vz",
    "outputId": "f9ea2d56-1424-4864-c76f-565c1c0c962b",
    "scrolled": true
   },
   "outputs": [
    {
     "name": "stdout",
     "output_type": "stream",
     "text": [
      "Meilleurs paramètres trouvés :\n",
      "{'colsample_bytree': 0.5, 'learning_rate': 0.01, 'max_depth': 7, 'n_estimators': 500, 'subsample': 0.7}\n",
      "\n",
      "***********************TOUR No  1 /10:************************\n",
      "Meilleurs paramètres trouvés :\n",
      "{'colsample_bytree': 0.5, 'learning_rate': 0.01, 'max_depth': 7, 'n_estimators': 500, 'subsample': 0.7}\n",
      "\n",
      "=============================Test=============================\n",
      "MSE :  2.3365264584295393 %\n",
      "RMSE :  15.285700698461746 %\n",
      "MAE :  11.879870087802809 %\n",
      "MAPE :  inf %\n",
      "++++++++++++++++++++++++++++++++++++++++++++++++++++++++++++\n",
      "time:  631.3864583333333 min\n",
      "\n",
      "Meilleurs paramètres trouvés :\n",
      "{'colsample_bytree': 0.5, 'learning_rate': 0.01, 'max_depth': 7, 'n_estimators': 500, 'subsample': 0.5}\n",
      "\n",
      "***********************TOUR No  2 /10:************************\n",
      "Meilleurs paramètres trouvés :\n",
      "{'colsample_bytree': 0.5, 'learning_rate': 0.01, 'max_depth': 7, 'n_estimators': 500, 'subsample': 0.5}\n",
      "\n",
      "=============================Test=============================\n",
      "MSE :  2.471751012119275 %\n",
      "RMSE :  15.721803370222117 %\n",
      "MAE :  12.241061054304451 %\n",
      "MAPE :  inf %\n",
      "++++++++++++++++++++++++++++++++++++++++++++++++++++++++++++\n",
      "time:  1262.64375 min\n",
      "\n",
      "Meilleurs paramètres trouvés :\n",
      "{'colsample_bytree': 0.5, 'learning_rate': 0.01, 'max_depth': 7, 'n_estimators': 500, 'subsample': 0.7}\n",
      "\n",
      "***********************TOUR No  3 /10:************************\n",
      "Meilleurs paramètres trouvés :\n",
      "{'colsample_bytree': 0.5, 'learning_rate': 0.01, 'max_depth': 7, 'n_estimators': 500, 'subsample': 0.7}\n",
      "\n",
      "=============================Test=============================\n",
      "MSE :  2.9750976857769738 %\n",
      "RMSE :  17.248471485256232 %\n",
      "MAE :  13.529792890374411 %\n",
      "MAPE :  inf %\n",
      "++++++++++++++++++++++++++++++++++++++++++++++++++++++++++++\n",
      "time:  1894.61796875 min\n",
      "\n",
      "Meilleurs paramètres trouvés :\n",
      "{'colsample_bytree': 0.5, 'learning_rate': 0.01, 'max_depth': 7, 'n_estimators': 500, 'subsample': 0.9}\n",
      "\n",
      "***********************TOUR No  4 /10:************************\n",
      "Meilleurs paramètres trouvés :\n",
      "{'colsample_bytree': 0.5, 'learning_rate': 0.01, 'max_depth': 7, 'n_estimators': 500, 'subsample': 0.9}\n",
      "\n",
      "=============================Test=============================\n",
      "MSE :  3.1614562453896475 %\n",
      "RMSE :  17.78048437301315 %\n",
      "MAE :  14.024361811219244 %\n",
      "MAPE :  inf %\n",
      "++++++++++++++++++++++++++++++++++++++++++++++++++++++++++++\n",
      "time:  2526.324739583333 min\n",
      "\n",
      "Meilleurs paramètres trouvés :\n",
      "{'colsample_bytree': 0.5, 'learning_rate': 0.01, 'max_depth': 7, 'n_estimators': 500, 'subsample': 0.5}\n",
      "\n",
      "***********************TOUR No  5 /10:************************\n",
      "Meilleurs paramètres trouvés :\n",
      "{'colsample_bytree': 0.5, 'learning_rate': 0.01, 'max_depth': 7, 'n_estimators': 500, 'subsample': 0.5}\n",
      "\n",
      "=============================Test=============================\n",
      "MSE :  3.5296875880533296 %\n",
      "RMSE :  18.787462809153688 %\n",
      "MAE :  14.838928586245185 %\n",
      "MAPE :  inf %\n",
      "++++++++++++++++++++++++++++++++++++++++++++++++++++++++++++\n",
      "time:  3158.2908854166667 min\n",
      "\n",
      "Meilleurs paramètres trouvés :\n",
      "{'colsample_bytree': 0.5, 'learning_rate': 0.01, 'max_depth': 7, 'n_estimators': 500, 'subsample': 0.7}\n",
      "\n",
      "***********************TOUR No  6 /10:************************\n",
      "Meilleurs paramètres trouvés :\n",
      "{'colsample_bytree': 0.5, 'learning_rate': 0.01, 'max_depth': 7, 'n_estimators': 500, 'subsample': 0.7}\n",
      "\n",
      "=============================Test=============================\n",
      "MSE :  2.4631833926296536 %\n",
      "RMSE :  15.69453214539909 %\n",
      "MAE :  12.239609835712415 %\n",
      "MAPE :  inf %\n",
      "++++++++++++++++++++++++++++++++++++++++++++++++++++++++++++\n",
      "time:  3788.776822916667 min\n",
      "\n",
      "Meilleurs paramètres trouvés :\n",
      "{'colsample_bytree': 0.5, 'learning_rate': 0.01, 'max_depth': 7, 'n_estimators': 500, 'subsample': 0.9}\n",
      "\n",
      "***********************TOUR No  7 /10:************************\n",
      "Meilleurs paramètres trouvés :\n",
      "{'colsample_bytree': 0.5, 'learning_rate': 0.01, 'max_depth': 7, 'n_estimators': 500, 'subsample': 0.9}\n",
      "\n",
      "=============================Test=============================\n",
      "MSE :  2.495453566891521 %\n",
      "RMSE :  15.797004674594234 %\n",
      "MAE :  12.281019827221149 %\n",
      "MAPE :  inf %\n",
      "++++++++++++++++++++++++++++++++++++++++++++++++++++++++++++\n",
      "time:  4418.986197916666 min\n",
      "\n",
      "Meilleurs paramètres trouvés :\n",
      "{'colsample_bytree': 0.5, 'learning_rate': 0.01, 'max_depth': 7, 'n_estimators': 500, 'subsample': 0.7}\n",
      "\n",
      "***********************TOUR No  8 /10:************************\n",
      "Meilleurs paramètres trouvés :\n",
      "{'colsample_bytree': 0.5, 'learning_rate': 0.01, 'max_depth': 7, 'n_estimators': 500, 'subsample': 0.7}\n",
      "\n",
      "=============================Test=============================\n",
      "MSE :  2.079244990091542 %\n",
      "RMSE :  14.419587338379495 %\n",
      "MAE :  11.199447545724386 %\n",
      "MAPE :  inf %\n",
      "++++++++++++++++++++++++++++++++++++++++++++++++++++++++++++\n",
      "time:  5057.484114583333 min\n",
      "\n",
      "Meilleurs paramètres trouvés :\n",
      "{'colsample_bytree': 0.5, 'learning_rate': 0.01, 'max_depth': 7, 'n_estimators': 500, 'subsample': 0.9}\n",
      "\n",
      "***********************TOUR No  9 /10:************************\n",
      "Meilleurs paramètres trouvés :\n",
      "{'colsample_bytree': 0.5, 'learning_rate': 0.01, 'max_depth': 7, 'n_estimators': 500, 'subsample': 0.9}\n",
      "\n",
      "=============================Test=============================\n",
      "MSE :  2.854401789306192 %\n",
      "RMSE :  16.89497496093496 %\n",
      "MAE :  13.169474703127351 %\n",
      "MAPE :  inf %\n",
      "++++++++++++++++++++++++++++++++++++++++++++++++++++++++++++\n",
      "time:  5690.19921875 min\n",
      "\n",
      "Meilleurs paramètres trouvés :\n",
      "{'colsample_bytree': 0.5, 'learning_rate': 0.01, 'max_depth': 7, 'n_estimators': 500, 'subsample': 0.7}\n",
      "\n",
      "***********************TOUR No  10 /10:************************\n",
      "Meilleurs paramètres trouvés :\n",
      "{'colsample_bytree': 0.5, 'learning_rate': 0.01, 'max_depth': 7, 'n_estimators': 500, 'subsample': 0.7}\n",
      "\n",
      "=============================Test=============================\n",
      "MSE :  2.427772205607985 %\n",
      "RMSE :  15.581309975762581 %\n",
      "MAE :  12.183654407187236 %\n",
      "MAPE :  inf %\n",
      "++++++++++++++++++++++++++++++++++++++++++++++++++++++++++++\n",
      "time:  6325.097135416667 min\n",
      "\n",
      "\n",
      "\n",
      "++++++++++++++++++++++++++++++++++++++++++++++++++++++++++++\n",
      "Total time:  6325.097135416667 min\n",
      "All MSE:  [0.023365264584295393, 0.024717510121192752, 0.02975097685776974, 0.031614562453896475, 0.0352968758805333, 0.024631833926296535, 0.02495453566891521, 0.02079244990091542, 0.02854401789306192, 0.024277722056079847]\n",
      "mean MSE 0.026794574934295663  ==  2.6794574934295663 %\n",
      "\n",
      "All RMSE:  [0.15285700698461746, 0.15721803370222118, 0.17248471485256234, 0.17780484373013147, 0.18787462809153688, 0.1569453214539909, 0.15797004674594234, 0.14419587338379494, 0.16894974960934958, 0.1558130997576258]\n",
      "\n",
      "******************************************************************************************\n",
      "******************************************************************************************\n",
      "***************** mean RMSE 0.16321133183117728  ==>  16.321133183117727 % ***************\n",
      "******************************************************************************************\n",
      "******************************************************************************************\n",
      "\n",
      "mean MAE :  12.758722074891866 %\n",
      "mean MAPE :  inf %\n"
     ]
    }
   ],
   "source": [
    "my_XGB_Regressor(train_fd002, test_fd002)"
   ]
  },
  {
   "cell_type": "code",
   "execution_count": 91,
   "metadata": {
    "colab": {
     "base_uri": "https://localhost:8080/",
     "height": 171
    },
    "executionInfo": {
     "elapsed": 259,
     "status": "error",
     "timestamp": 1686310905976,
     "user": {
      "displayName": "Ibrahima Barry",
      "userId": "00132945360445644191"
     },
     "user_tz": -120
    },
    "id": "vNv5JIXlYCZU",
    "outputId": "e6d02f80-91c2-4af7-8c50-ffb5934d6656"
   },
   "outputs": [
    {
     "name": "stdout",
     "output_type": "stream",
     "text": [
      "Meilleurs paramètres trouvés :\n",
      "{'colsample_bytree': 0.5, 'learning_rate': 0.01, 'max_depth': 3, 'n_estimators': 500, 'subsample': 0.5}\n",
      "\n",
      "***********************TOUR No  1 /10:************************\n",
      "Meilleurs paramètres trouvés :\n",
      "{'colsample_bytree': 0.5, 'learning_rate': 0.01, 'max_depth': 3, 'n_estimators': 500, 'subsample': 0.5}\n",
      "\n",
      "=============================Test=============================\n",
      "MSE :  2.424346095563789 %\n",
      "RMSE :  15.570311800229913 %\n",
      "MAE :  11.867603884115496 %\n",
      "MAPE :  inf %\n",
      "++++++++++++++++++++++++++++++++++++++++++++++++++++++++++++\n",
      "time:  236.45729166666666 min\n",
      "\n",
      "Meilleurs paramètres trouvés :\n",
      "{'colsample_bytree': 0.5, 'learning_rate': 0.01, 'max_depth': 3, 'n_estimators': 500, 'subsample': 0.5}\n",
      "\n",
      "***********************TOUR No  2 /10:************************\n",
      "Meilleurs paramètres trouvés :\n",
      "{'colsample_bytree': 0.5, 'learning_rate': 0.01, 'max_depth': 3, 'n_estimators': 500, 'subsample': 0.5}\n",
      "\n",
      "=============================Test=============================\n",
      "MSE :  3.1298857672853284 %\n",
      "RMSE :  17.69148316926913 %\n",
      "MAE :  13.484721991381315 %\n",
      "MAPE :  inf %\n",
      "++++++++++++++++++++++++++++++++++++++++++++++++++++++++++++\n",
      "time:  463.3190104166667 min\n",
      "\n",
      "Meilleurs paramètres trouvés :\n",
      "{'colsample_bytree': 0.5, 'learning_rate': 0.01, 'max_depth': 3, 'n_estimators': 500, 'subsample': 0.5}\n",
      "\n",
      "***********************TOUR No  3 /10:************************\n",
      "Meilleurs paramètres trouvés :\n",
      "{'colsample_bytree': 0.5, 'learning_rate': 0.01, 'max_depth': 3, 'n_estimators': 500, 'subsample': 0.5}\n",
      "\n",
      "=============================Test=============================\n",
      "MSE :  2.4727244950271197 %\n",
      "RMSE :  15.724899029968745 %\n",
      "MAE :  11.79552000453541 %\n",
      "MAPE :  inf %\n",
      "++++++++++++++++++++++++++++++++++++++++++++++++++++++++++++\n",
      "time:  691.4018229166667 min\n",
      "\n",
      "Meilleurs paramètres trouvés :\n",
      "{'colsample_bytree': 0.5, 'learning_rate': 0.01, 'max_depth': 3, 'n_estimators': 500, 'subsample': 0.5}\n",
      "\n",
      "***********************TOUR No  4 /10:************************\n",
      "Meilleurs paramètres trouvés :\n",
      "{'colsample_bytree': 0.5, 'learning_rate': 0.01, 'max_depth': 3, 'n_estimators': 500, 'subsample': 0.5}\n",
      "\n",
      "=============================Test=============================\n",
      "MSE :  2.239031193322963 %\n",
      "RMSE :  14.96339264111907 %\n",
      "MAE :  10.590343055076469 %\n",
      "MAPE :  inf %\n",
      "++++++++++++++++++++++++++++++++++++++++++++++++++++++++++++\n",
      "time:  918.92734375 min\n",
      "\n",
      "Meilleurs paramètres trouvés :\n",
      "{'colsample_bytree': 0.5, 'learning_rate': 0.01, 'max_depth': 3, 'n_estimators': 500, 'subsample': 0.5}\n",
      "\n",
      "***********************TOUR No  5 /10:************************\n",
      "Meilleurs paramètres trouvés :\n",
      "{'colsample_bytree': 0.5, 'learning_rate': 0.01, 'max_depth': 3, 'n_estimators': 500, 'subsample': 0.5}\n",
      "\n",
      "=============================Test=============================\n",
      "MSE :  2.5014942636232 %\n",
      "RMSE :  15.816112871446004 %\n",
      "MAE :  11.8356040246159 %\n",
      "MAPE :  inf %\n",
      "++++++++++++++++++++++++++++++++++++++++++++++++++++++++++++\n",
      "time:  1140.2286458333333 min\n",
      "\n",
      "Meilleurs paramètres trouvés :\n",
      "{'colsample_bytree': 0.5, 'learning_rate': 0.01, 'max_depth': 3, 'n_estimators': 500, 'subsample': 0.5}\n",
      "\n",
      "***********************TOUR No  6 /10:************************\n",
      "Meilleurs paramètres trouvés :\n",
      "{'colsample_bytree': 0.5, 'learning_rate': 0.01, 'max_depth': 3, 'n_estimators': 500, 'subsample': 0.5}\n",
      "\n",
      "=============================Test=============================\n",
      "MSE :  2.629651175010196 %\n",
      "RMSE :  16.21619923104732 %\n",
      "MAE :  12.252263360600516 %\n",
      "MAPE :  inf %\n",
      "++++++++++++++++++++++++++++++++++++++++++++++++++++++++++++\n",
      "time:  1416.628125 min\n",
      "\n",
      "Meilleurs paramètres trouvés :\n",
      "{'colsample_bytree': 0.5, 'learning_rate': 0.01, 'max_depth': 3, 'n_estimators': 500, 'subsample': 0.5}\n",
      "\n",
      "***********************TOUR No  7 /10:************************\n",
      "Meilleurs paramètres trouvés :\n",
      "{'colsample_bytree': 0.5, 'learning_rate': 0.01, 'max_depth': 3, 'n_estimators': 500, 'subsample': 0.5}\n",
      "\n",
      "=============================Test=============================\n",
      "MSE :  2.130038550787577 %\n",
      "RMSE :  14.59465159155085 %\n",
      "MAE :  10.594405063513436 %\n",
      "MAPE :  inf %\n",
      "++++++++++++++++++++++++++++++++++++++++++++++++++++++++++++\n",
      "time:  1736.2674479166667 min\n",
      "\n",
      "Meilleurs paramètres trouvés :\n",
      "{'colsample_bytree': 0.5, 'learning_rate': 0.01, 'max_depth': 3, 'n_estimators': 500, 'subsample': 0.5}\n",
      "\n",
      "***********************TOUR No  8 /10:************************\n",
      "Meilleurs paramètres trouvés :\n",
      "{'colsample_bytree': 0.5, 'learning_rate': 0.01, 'max_depth': 3, 'n_estimators': 500, 'subsample': 0.5}\n",
      "\n",
      "=============================Test=============================\n",
      "MSE :  2.240247424024434 %\n",
      "RMSE :  14.967456109922065 %\n",
      "MAE :  10.821514874159185 %\n",
      "MAPE :  inf %\n",
      "++++++++++++++++++++++++++++++++++++++++++++++++++++++++++++\n",
      "time:  1961.9638020833333 min\n",
      "\n",
      "Meilleurs paramètres trouvés :\n",
      "{'colsample_bytree': 0.5, 'learning_rate': 0.01, 'max_depth': 3, 'n_estimators': 500, 'subsample': 0.5}\n",
      "\n",
      "***********************TOUR No  9 /10:************************\n",
      "Meilleurs paramètres trouvés :\n",
      "{'colsample_bytree': 0.5, 'learning_rate': 0.01, 'max_depth': 3, 'n_estimators': 500, 'subsample': 0.5}\n",
      "\n",
      "=============================Test=============================\n",
      "MSE :  2.223074620483948 %\n",
      "RMSE :  14.909978606570661 %\n",
      "MAE :  10.794136611897025 %\n",
      "MAPE :  inf %\n",
      "++++++++++++++++++++++++++++++++++++++++++++++++++++++++++++\n",
      "time:  2188.5703125 min\n",
      "\n",
      "Meilleurs paramètres trouvés :\n",
      "{'colsample_bytree': 0.5, 'learning_rate': 0.01, 'max_depth': 3, 'n_estimators': 500, 'subsample': 0.5}\n",
      "\n",
      "***********************TOUR No  10 /10:************************\n",
      "Meilleurs paramètres trouvés :\n",
      "{'colsample_bytree': 0.5, 'learning_rate': 0.01, 'max_depth': 3, 'n_estimators': 500, 'subsample': 0.5}\n",
      "\n",
      "=============================Test=============================\n",
      "MSE :  2.4111553468047346 %\n",
      "RMSE :  15.52789537189356 %\n",
      "MAE :  11.602273417716443 %\n",
      "MAPE :  inf %\n",
      "++++++++++++++++++++++++++++++++++++++++++++++++++++++++++++\n",
      "time:  2414.684114583333 min\n",
      "\n",
      "\n",
      "\n",
      "++++++++++++++++++++++++++++++++++++++++++++++++++++++++++++\n",
      "Total time:  2414.684114583333 min\n",
      "All MSE:  [0.024243460955637893, 0.031298857672853286, 0.024727244950271197, 0.022390311933229632, 0.025014942636231996, 0.02629651175010196, 0.021300385507875774, 0.022402474240244337, 0.02223074620483948, 0.024111553468047348]\n",
      "mean MSE 0.024401648931933292  ==  2.4401648931933293 %\n",
      "\n",
      "All RMSE:  [0.15570311800229913, 0.1769148316926913, 0.15724899029968745, 0.1496339264111907, 0.15816112871446003, 0.16216199231047318, 0.1459465159155085, 0.14967456109922064, 0.14909978606570662, 0.1552789537189356]\n",
      "\n",
      "******************************************************************************************\n",
      "******************************************************************************************\n",
      "***************** mean RMSE 0.15598238042301732  ==>  15.598238042301732 % ***************\n",
      "******************************************************************************************\n",
      "******************************************************************************************\n",
      "\n",
      "mean MAE :  11.56383862876112 %\n",
      "mean MAPE :  inf %\n"
     ]
    }
   ],
   "source": [
    "my_XGB_Regressor(train_fd003, test_fd003)"
   ]
  },
  {
   "cell_type": "code",
   "execution_count": 92,
   "metadata": {
    "colab": {
     "base_uri": "https://localhost:8080/",
     "height": 171
    },
    "executionInfo": {
     "elapsed": 286,
     "status": "error",
     "timestamp": 1686310909755,
     "user": {
      "displayName": "Ibrahima Barry",
      "userId": "00132945360445644191"
     },
     "user_tz": -120
    },
    "id": "0FI97PekYCbq",
    "outputId": "8a4702f4-7272-441e-f347-a620399173ac",
    "scrolled": true
   },
   "outputs": [
    {
     "name": "stdout",
     "output_type": "stream",
     "text": [
      "Meilleurs paramètres trouvés :\n",
      "{'colsample_bytree': 0.5, 'learning_rate': 0.01, 'max_depth': 7, 'n_estimators': 500, 'subsample': 0.5}\n",
      "\n",
      "***********************TOUR No  1 /10:************************\n",
      "Meilleurs paramètres trouvés :\n",
      "{'colsample_bytree': 0.5, 'learning_rate': 0.01, 'max_depth': 7, 'n_estimators': 500, 'subsample': 0.5}\n",
      "\n",
      "=============================Test=============================\n",
      "MSE :  2.7580051524560654 %\n",
      "RMSE :  16.60724285501981 %\n",
      "MAE :  12.351272294092281 %\n",
      "MAPE :  inf %\n",
      "++++++++++++++++++++++++++++++++++++++++++++++++++++++++++++\n",
      "time:  497.64296875 min\n",
      "\n",
      "Meilleurs paramètres trouvés :\n",
      "{'colsample_bytree': 0.5, 'learning_rate': 0.01, 'max_depth': 7, 'n_estimators': 500, 'subsample': 0.7}\n",
      "\n",
      "***********************TOUR No  2 /10:************************\n",
      "Meilleurs paramètres trouvés :\n",
      "{'colsample_bytree': 0.5, 'learning_rate': 0.01, 'max_depth': 7, 'n_estimators': 500, 'subsample': 0.7}\n",
      "\n",
      "=============================Test=============================\n",
      "MSE :  2.582251574167017 %\n",
      "RMSE :  16.06938571995525 %\n",
      "MAE :  12.031323762706949 %\n",
      "MAPE :  inf %\n",
      "++++++++++++++++++++++++++++++++++++++++++++++++++++++++++++\n",
      "time:  995.884375 min\n",
      "\n",
      "Meilleurs paramètres trouvés :\n",
      "{'colsample_bytree': 0.5, 'learning_rate': 0.01, 'max_depth': 7, 'n_estimators': 500, 'subsample': 0.5}\n",
      "\n",
      "***********************TOUR No  3 /10:************************\n",
      "Meilleurs paramètres trouvés :\n",
      "{'colsample_bytree': 0.5, 'learning_rate': 0.01, 'max_depth': 7, 'n_estimators': 500, 'subsample': 0.5}\n",
      "\n",
      "=============================Test=============================\n",
      "MSE :  2.7251422959343077 %\n",
      "RMSE :  16.508005015550207 %\n",
      "MAE :  12.139794967172202 %\n",
      "MAPE :  inf %\n",
      "++++++++++++++++++++++++++++++++++++++++++++++++++++++++++++\n",
      "time:  1492.9872395833333 min\n",
      "\n",
      "Meilleurs paramètres trouvés :\n",
      "{'colsample_bytree': 0.5, 'learning_rate': 0.01, 'max_depth': 7, 'n_estimators': 500, 'subsample': 0.5}\n",
      "\n",
      "***********************TOUR No  4 /10:************************\n",
      "Meilleurs paramètres trouvés :\n",
      "{'colsample_bytree': 0.5, 'learning_rate': 0.01, 'max_depth': 7, 'n_estimators': 500, 'subsample': 0.5}\n",
      "\n",
      "=============================Test=============================\n",
      "MSE :  2.9058971493533576 %\n",
      "RMSE :  17.046692199231373 %\n",
      "MAE :  12.53618411246776 %\n",
      "MAPE :  inf %\n",
      "++++++++++++++++++++++++++++++++++++++++++++++++++++++++++++\n",
      "time:  1990.50625 min\n",
      "\n",
      "Meilleurs paramètres trouvés :\n",
      "{'colsample_bytree': 0.5, 'learning_rate': 0.01, 'max_depth': 7, 'n_estimators': 500, 'subsample': 0.5}\n",
      "\n",
      "***********************TOUR No  5 /10:************************\n",
      "Meilleurs paramètres trouvés :\n",
      "{'colsample_bytree': 0.5, 'learning_rate': 0.01, 'max_depth': 7, 'n_estimators': 500, 'subsample': 0.5}\n",
      "\n",
      "=============================Test=============================\n",
      "MSE :  3.536612602308712 %\n",
      "RMSE :  18.805883659931304 %\n",
      "MAE :  14.175697710144345 %\n",
      "MAPE :  inf %\n",
      "++++++++++++++++++++++++++++++++++++++++++++++++++++++++++++\n",
      "time:  2488.2442708333333 min\n",
      "\n",
      "Meilleurs paramètres trouvés :\n",
      "{'colsample_bytree': 0.5, 'learning_rate': 0.01, 'max_depth': 7, 'n_estimators': 500, 'subsample': 0.5}\n",
      "\n",
      "***********************TOUR No  6 /10:************************\n",
      "Meilleurs paramètres trouvés :\n",
      "{'colsample_bytree': 0.5, 'learning_rate': 0.01, 'max_depth': 7, 'n_estimators': 500, 'subsample': 0.5}\n",
      "\n",
      "=============================Test=============================\n",
      "MSE :  2.496054022791935 %\n",
      "RMSE :  15.798905097480443 %\n",
      "MAE :  11.561348161920263 %\n",
      "MAPE :  inf %\n",
      "++++++++++++++++++++++++++++++++++++++++++++++++++++++++++++\n",
      "time:  2985.2346354166666 min\n",
      "\n",
      "Meilleurs paramètres trouvés :\n",
      "{'colsample_bytree': 0.5, 'learning_rate': 0.01, 'max_depth': 7, 'n_estimators': 500, 'subsample': 0.7}\n",
      "\n",
      "***********************TOUR No  7 /10:************************\n",
      "Meilleurs paramètres trouvés :\n",
      "{'colsample_bytree': 0.5, 'learning_rate': 0.01, 'max_depth': 7, 'n_estimators': 500, 'subsample': 0.7}\n",
      "\n",
      "=============================Test=============================\n",
      "MSE :  2.897900850659612 %\n",
      "RMSE :  17.02322193551976 %\n",
      "MAE :  12.640434314871305 %\n",
      "MAPE :  inf %\n",
      "++++++++++++++++++++++++++++++++++++++++++++++++++++++++++++\n",
      "time:  3482.6341145833335 min\n",
      "\n",
      "Meilleurs paramètres trouvés :\n",
      "{'colsample_bytree': 0.5, 'learning_rate': 0.01, 'max_depth': 7, 'n_estimators': 500, 'subsample': 0.9}\n",
      "\n",
      "***********************TOUR No  8 /10:************************\n",
      "Meilleurs paramètres trouvés :\n",
      "{'colsample_bytree': 0.5, 'learning_rate': 0.01, 'max_depth': 7, 'n_estimators': 500, 'subsample': 0.9}\n",
      "\n",
      "=============================Test=============================\n",
      "MSE :  2.5643583464598314 %\n",
      "RMSE :  16.01361404074618 %\n",
      "MAE :  11.678513257104681 %\n",
      "MAPE :  inf %\n",
      "++++++++++++++++++++++++++++++++++++++++++++++++++++++++++++\n",
      "time:  3980.73515625 min\n",
      "\n",
      "Meilleurs paramètres trouvés :\n",
      "{'colsample_bytree': 0.5, 'learning_rate': 0.01, 'max_depth': 7, 'n_estimators': 500, 'subsample': 0.5}\n",
      "\n",
      "***********************TOUR No  9 /10:************************\n",
      "Meilleurs paramètres trouvés :\n",
      "{'colsample_bytree': 0.5, 'learning_rate': 0.01, 'max_depth': 7, 'n_estimators': 500, 'subsample': 0.5}\n",
      "\n",
      "=============================Test=============================\n",
      "MSE :  2.685522876817477 %\n",
      "RMSE :  16.387565032113457 %\n",
      "MAE :  12.03204464009384 %\n",
      "MAPE :  inf %\n",
      "++++++++++++++++++++++++++++++++++++++++++++++++++++++++++++\n",
      "time:  4478.10625 min\n",
      "\n",
      "Meilleurs paramètres trouvés :\n",
      "{'colsample_bytree': 0.5, 'learning_rate': 0.01, 'max_depth': 7, 'n_estimators': 500, 'subsample': 0.5}\n",
      "\n",
      "***********************TOUR No  10 /10:************************\n",
      "Meilleurs paramètres trouvés :\n",
      "{'colsample_bytree': 0.5, 'learning_rate': 0.01, 'max_depth': 7, 'n_estimators': 500, 'subsample': 0.5}\n",
      "\n",
      "=============================Test=============================\n",
      "MSE :  2.8058982783932707 %\n",
      "RMSE :  16.750815736534356 %\n",
      "MAE :  12.452244548998742 %\n",
      "MAPE :  inf %\n",
      "++++++++++++++++++++++++++++++++++++++++++++++++++++++++++++\n",
      "time:  4974.78984375 min\n",
      "\n",
      "\n",
      "\n",
      "++++++++++++++++++++++++++++++++++++++++++++++++++++++++++++\n",
      "Total time:  4974.78984375 min\n",
      "All MSE:  [0.027580051524560653, 0.02582251574167017, 0.027251422959343078, 0.029058971493533575, 0.03536612602308712, 0.02496054022791935, 0.02897900850659612, 0.025643583464598316, 0.026855228768174772, 0.028058982783932707]\n",
      "mean MSE 0.02795764314934158  ==  2.795764314934158 %\n",
      "\n",
      "All RMSE:  [0.1660724285501981, 0.1606938571995525, 0.16508005015550206, 0.17046692199231372, 0.18805883659931302, 0.15798905097480442, 0.1702322193551976, 0.1601361404074618, 0.16387565032113457, 0.16750815736534358]\n",
      "\n",
      "******************************************************************************************\n",
      "******************************************************************************************\n",
      "***************** mean RMSE 0.16701133129208215  ==>  16.701133129208216 % ***************\n",
      "******************************************************************************************\n",
      "******************************************************************************************\n",
      "\n",
      "mean MAE :  12.359885776957235 %\n",
      "mean MAPE :  inf %\n"
     ]
    }
   ],
   "source": [
    "my_XGB_Regressor(train_fd004, test_fd004)"
   ]
  },
  {
   "cell_type": "code",
   "execution_count": null,
   "metadata": {},
   "outputs": [],
   "source": []
  }
 ],
 "metadata": {
  "colab": {
   "provenance": []
  },
  "gpuClass": "standard",
  "kernelspec": {
   "display_name": "Python 3 (ipykernel)",
   "language": "python",
   "name": "python3"
  },
  "language_info": {
   "codemirror_mode": {
    "name": "ipython",
    "version": 3
   },
   "file_extension": ".py",
   "mimetype": "text/x-python",
   "name": "python",
   "nbconvert_exporter": "python",
   "pygments_lexer": "ipython3",
   "version": "3.10.9"
  }
 },
 "nbformat": 4,
 "nbformat_minor": 1
}
