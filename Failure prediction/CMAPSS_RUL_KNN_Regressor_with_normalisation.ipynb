{
 "cells": [
  {
   "cell_type": "code",
   "execution_count": null,
   "metadata": {
    "colab": {
     "base_uri": "https://localhost:8080/",
     "height": 35
    },
    "id": "FDalluwXbsXk",
    "outputId": "55bc4fa6-803f-40be-84ab-f3c45e36e003"
   },
   "outputs": [],
   "source": [
    "'''from google.colab import drive\n",
    "drive.mount('/content/drive')'''"
   ]
  },
  {
   "cell_type": "code",
   "execution_count": null,
   "metadata": {
    "id": "7bwRBIw1808g"
   },
   "outputs": [],
   "source": [
    "#!pip install catboost"
   ]
  },
  {
   "cell_type": "code",
   "execution_count": null,
   "metadata": {
    "id": "090U59DPJm7F"
   },
   "outputs": [],
   "source": [
    "import numpy as np\n",
    "import pandas as pd\n",
    "import matplotlib.pyplot as plt\n",
    "import seaborn as sns\n",
    "\n",
    "from sklearn.linear_model import LinearRegression, Lasso, Ridge, ElasticNet\n",
    "from sklearn.tree import DecisionTreeRegressor\n",
    "from sklearn.ensemble import RandomForestRegressor, GradientBoostingRegressor, AdaBoostRegressor, ExtraTreesRegressor\n",
    "from sklearn.svm import SVR\n",
    "from sklearn.neighbors import KNeighborsRegressor\n",
    "from xgboost import XGBRegressor\n",
    "from sklearn.model_selection import GridSearchCV\n",
    "\n",
    "from sklearn.metrics import mean_squared_error, mean_absolute_error, r2_score\n",
    "from scipy.stats import pearsonr\n",
    "\n",
    "from sklearn.preprocessing import MinMaxScaler, StandardScaler"
   ]
  },
  {
   "cell_type": "code",
   "execution_count": null,
   "metadata": {
    "id": "sCVZb8EK9-RF"
   },
   "outputs": [],
   "source": [
    "myfolder = \"../data/CMaps/\""
   ]
  },
  {
   "cell_type": "markdown",
   "metadata": {
    "id": "eK6zG_tsRZFx"
   },
   "source": [
    "# **Columns' names**"
   ]
  },
  {
   "cell_type": "code",
   "execution_count": null,
   "metadata": {
    "id": "03uUZbfWF9Yj"
   },
   "outputs": [],
   "source": [
    "#Columns' names\n",
    "'''\n",
    "1)  unit number\n",
    "2)\ttime, in cycles\n",
    "3)\toperational setting 1\n",
    "4)\toperational setting 2\n",
    "5)\toperational setting 3\n",
    "6)\tsensor measurement  1\n",
    "7)\tsensor measurement  2\n",
    "...\n",
    "26)\tsensor measurement  21\n",
    "'''\n",
    "unitNames = ['UnitNumber']\n",
    "timeCycles = [\"TimeInCycles\"]\n",
    "operSets = [\"OperSet\"+str(i) for i in range(1,4)] # 1,2 et 3\n",
    "sensorMes = [\"SensorMes\"+str(j) for j in range(1, 22)] # de 1 à 21\n",
    "columnsNames = unitNames + timeCycles + operSets +sensorMes"
   ]
  },
  {
   "cell_type": "markdown",
   "metadata": {
    "id": "Pk7OEGaFRpHx"
   },
   "source": [
    "# **Datasets loading**"
   ]
  },
  {
   "cell_type": "code",
   "execution_count": null,
   "metadata": {
    "id": "2zNavW8eUubj"
   },
   "outputs": [],
   "source": [
    "def data_loading(x):\n",
    "  train_path = myfolder + \"train_\"+ x +\".txt\"\n",
    "  test_path = myfolder + \"test_\"+ x +\".txt\"\n",
    "  rul_path = myfolder + \"RUL_\"+ x +\".txt\"\n",
    "  train = pd.read_csv(train_path, delim_whitespace=True, names=columnsNames)\n",
    "  test = pd.read_csv(test_path, delim_whitespace=True, names=columnsNames)\n",
    "  rul = pd.read_csv(rul_path, delim_whitespace=True, names=[\"RUL_FD\"])\n",
    "  return train, test, rul\n",
    "\n",
    "train_fd001, test_fd001, rul_fd001 = data_loading(\"FD001\")\n",
    "train_fd002, test_fd002, rul_fd002 = data_loading(\"FD002\")\n",
    "train_fd003, test_fd003, rul_fd003 = data_loading(\"FD003\")\n",
    "train_fd004, test_fd004, rul_fd004 = data_loading(\"FD004\")"
   ]
  },
  {
   "cell_type": "code",
   "execution_count": null,
   "metadata": {
    "colab": {
     "base_uri": "https://localhost:8080/",
     "height": 207
    },
    "id": "2D0p8HcQVpPu",
    "outputId": "c160f6b2-349b-4ce9-8f1d-5deb83cab107"
   },
   "outputs": [],
   "source": [
    "# Forcer l'affichage de toutes les colonnes\n",
    "pd.set_option('display.max_columns', None)\n",
    "\n",
    "train_fd004.head(3)"
   ]
  },
  {
   "cell_type": "markdown",
   "metadata": {
    "id": "-iHEenEWSFa2"
   },
   "source": [
    "# **RUL column generation for train and test set**"
   ]
  },
  {
   "cell_type": "code",
   "execution_count": null,
   "metadata": {
    "id": "iQLmNp5STg3q"
   },
   "outputs": [],
   "source": [
    "def rul_train_generation(x):\n",
    "  rul = pd.DataFrame(x.groupby('UnitNumber')['TimeInCycles'].max()).reset_index()\n",
    "  rul.columns = ['UnitNumber', 'max']\n",
    "  x = x.merge(rul, on=['UnitNumber'], how='left')\n",
    "  x['RUL'] = x['max'] - x['TimeInCycles']\n",
    "  x.drop('max', axis=1, inplace=True)\n",
    "  return x\n",
    "\n",
    "train_fd001 = rul_train_generation(train_fd001)\n",
    "train_fd002 = rul_train_generation(train_fd002)\n",
    "train_fd003 = rul_train_generation(train_fd003)\n",
    "train_fd004 = rul_train_generation(train_fd004)"
   ]
  },
  {
   "cell_type": "code",
   "execution_count": null,
   "metadata": {
    "colab": {
     "base_uri": "https://localhost:8080/",
     "height": 207
    },
    "id": "2b0ThgOYbOJq",
    "outputId": "1820fff7-f818-483e-b9e1-5ff790abad39"
   },
   "outputs": [],
   "source": [
    "train_fd004.head(3)"
   ]
  },
  {
   "cell_type": "code",
   "execution_count": null,
   "metadata": {
    "id": "SO9r-mpZXPjO"
   },
   "outputs": [],
   "source": [
    "def rul_test_generation(x, rul):\n",
    "\n",
    "  rul[\"UnitNumber\"] = rul.index + 1 # +1 pour que UnitNumber demarre de 1 au lieu de 0, car il s'agit du numero des moteur\n",
    "\n",
    "  x = x.merge(rul, on=['UnitNumber'], how='left')\n",
    "\n",
    "  max_cycle = pd.DataFrame(x.groupby('UnitNumber')['TimeInCycles'].max()).reset_index()\n",
    "  max_cycle.columns = ['UnitNumber', 'max']\n",
    "  x = x.merge(max_cycle, on=['UnitNumber'], how='left')\n",
    "  x['RUL'] = x['RUL_FD'] + x['max'] - x['TimeInCycles']\n",
    "  x.drop(['max', 'RUL_FD'], axis=1, inplace=True)\n",
    "\n",
    "  return x\n",
    "\n",
    "test_fd001 = rul_test_generation(test_fd001, rul_fd001)\n",
    "test_fd002 = rul_test_generation(test_fd002, rul_fd002)\n",
    "test_fd003 = rul_test_generation(test_fd003, rul_fd003)\n",
    "test_fd004 = rul_test_generation(test_fd004, rul_fd004)"
   ]
  },
  {
   "cell_type": "code",
   "execution_count": null,
   "metadata": {
    "colab": {
     "base_uri": "https://localhost:8080/",
     "height": 207
    },
    "id": "UsgIhGIrbbGe",
    "outputId": "499dda0b-cb37-4867-e165-bcc909b3e830"
   },
   "outputs": [],
   "source": [
    "test_fd004.head(3)"
   ]
  },
  {
   "cell_type": "code",
   "execution_count": null,
   "metadata": {},
   "outputs": [],
   "source": [
    "print(\"train_FD001: \",train_fd001.shape, \". test_FD001: \", test_fd001.shape,\". RUL: \", rul_fd001.shape)\n",
    "print(\"train_FD002: \",train_fd002.shape, \". test_FD002: \", test_fd002.shape,\". RUL: \", rul_fd002.shape)\n",
    "print(\"train_FD003: \",train_fd003.shape, \". test_FD003: \", test_fd003.shape,\". RUL: \", rul_fd003.shape)\n",
    "print(\"train_FD004: \",train_fd004.shape, \". test_FD004: \", test_fd004.shape,\". RUL: \", rul_fd004.shape)"
   ]
  },
  {
   "cell_type": "code",
   "execution_count": null,
   "metadata": {},
   "outputs": [],
   "source": [
    "print(\"train_FD001: \",train_fd001.shape, \". test_FD001: \", test_fd001.shape,\". nbr moteurs\", len(train_fd001['UnitNumber'].unique()))\n",
    "print(\"train_FD002: \",train_fd002.shape, \". test_FD002: \", test_fd002.shape,\". nbr moteurs\", len(train_fd002['UnitNumber'].unique()))\n",
    "print(\"train_FD003: \",train_fd003.shape, \". test_FD003: \", test_fd003.shape,\". nbr moteurs\", len(train_fd003['UnitNumber'].unique()))\n",
    "print(\"train_FD004: \",train_fd004.shape, \". test_FD004: \", test_fd004.shape,\". nbr moteurs\", len(train_fd004['UnitNumber'].unique()))"
   ]
  },
  {
   "cell_type": "code",
   "execution_count": null,
   "metadata": {},
   "outputs": [],
   "source": [
    "len(train_fd002['UnitNumber'].unique())"
   ]
  },
  {
   "cell_type": "markdown",
   "metadata": {},
   "source": [
    "# **Data normalization**"
   ]
  },
  {
   "cell_type": "code",
   "execution_count": null,
   "metadata": {
    "id": "_NZIBGyfZAdU"
   },
   "outputs": [],
   "source": [
    "def normalised_df(train, test):\n",
    "\n",
    "  from sklearn.preprocessing import MinMaxScaler\n",
    "\n",
    "  # Instancier l'objet MinMaxScaler pour normaliser les données\n",
    "  scaler = MinMaxScaler()\n",
    "\n",
    "  # Normaliser train\n",
    "  train_scaled = scaler.fit_transform(train)\n",
    "  train_df = pd.DataFrame(train_scaled)\n",
    "\n",
    "  # Normaliser test\n",
    "  test_scaled = scaler.fit_transform(test)\n",
    "  test_df = pd.DataFrame(test_scaled)\n",
    "\n",
    "\n",
    "  train_df.columns = train.columns\n",
    "  test_df.columns = test.columns\n",
    "    \n",
    "  return train_df, test_df"
   ]
  },
  {
   "cell_type": "code",
   "execution_count": null,
   "metadata": {},
   "outputs": [],
   "source": [
    "train_fd001, test_fd001 = normalised_df(train_fd001, test_fd001)\n",
    "train_fd002, test_fd002 = normalised_df(train_fd002, test_fd002)\n",
    "train_fd003, test_fd003 = normalised_df(train_fd003, test_fd003)\n",
    "train_fd004, test_fd004 = normalised_df(train_fd004, test_fd004)"
   ]
  },
  {
   "cell_type": "code",
   "execution_count": null,
   "metadata": {},
   "outputs": [],
   "source": [
    "train_fd004.head(3)"
   ]
  },
  {
   "cell_type": "markdown",
   "metadata": {
    "id": "saXzvQieSZi7"
   },
   "source": [
    "# **Data splitting**"
   ]
  },
  {
   "cell_type": "code",
   "execution_count": null,
   "metadata": {
    "id": "lZWWDPa-QZ6A"
   },
   "outputs": [],
   "source": [
    "def data_split(train, test):\n",
    "\n",
    "  # data split\n",
    "  X_train = train.drop('RUL', axis=1)\n",
    "  Y_train = train['RUL']\n",
    "  X_test = test.drop('RUL', axis=1)\n",
    "  Y_test = test['RUL']\n",
    "    \n",
    "  return X_train, Y_train, X_test, Y_test\n"
   ]
  },
  {
   "cell_type": "markdown",
   "metadata": {
    "id": "6ME9D2ueVxeT"
   },
   "source": [
    "# **The KNN Regressor model**"
   ]
  },
  {
   "cell_type": "code",
   "execution_count": null,
   "metadata": {
    "id": "ulZGXcj_Oold"
   },
   "outputs": [],
   "source": [
    "def my_knn_regressor(train, test):\n",
    "\n",
    "  X_train, Y_train, X_test, Y_test = data_split(train, test)\n",
    "\n",
    "  # Créer le modèle KNN Regressor\n",
    "  model = KNeighborsRegressor()\n",
    "\n",
    "  # Définir les paramètres à tester dans la recherche par grille\n",
    "  param_grid = {\n",
    "      'n_neighbors': np.arange(1, 100),\n",
    "      'weights': ['uniform', 'distance'],\n",
    "      'metric': ['euclidean', 'manhattan', 'minkowski', 'chebyshev']\n",
    "      }\n",
    "\n",
    "  # Créer l'objet GridSearchCV\n",
    "  grid_search = GridSearchCV(model, param_grid, cv=5, scoring='neg_mean_squared_error')\n",
    "\n",
    "  # Effectuer la recherche par grille sur les données d'entraînement\n",
    "  grid_search.fit(X_train, Y_train)\n",
    "\n",
    "  # Afficher les meilleurs paramètres trouvés\n",
    "  print(\"Meilleurs paramètres trouvés :\")\n",
    "  print(grid_search.best_params_)\n",
    "\n",
    "  #-------------Train---------------------\n",
    "  # Prédire les valeurs en utilisant le modèle KNN Regressor pour les données Train\n",
    "  y_pred_train = grid_search.predict(X_train)\n",
    "  # Afficher l'erreur quadratique moyenne et le coefficient de détermination R2\n",
    "  mse_train = mean_squared_error(Y_train, y_pred_train)\n",
    "  rmse_train = np.sqrt(mse_train)\n",
    "  mae_train = mean_absolute_error(Y_train, y_pred_train)\n",
    "  mape_train = np.mean(np.abs((Y_train - y_pred_train) / Y_train)) * 100\n",
    "  r2_train = r2_score(Y_train, y_pred_train)\n",
    "  adjusted_r2_train = 1 - (1-r2_train)*(len(Y_train)-1)/(len(Y_train)-X_train.shape[1]-1)\n",
    "\n",
    "  print('\\n=============================Train=============================')\n",
    "  print('MSE : ',mse_train * 100,'%')\n",
    "  print('RMSE : ',rmse_train * 100,'%')\n",
    "  print('MAE : ',mae_train * 100,'%')\n",
    "  print('MAPE : ',mape_train,'%')\n",
    "  print('R2 : ',r2_train * 100,'%')\n",
    "  print('Adjusted R2 : ', adjusted_r2_train * 100,'%')\n",
    "\n",
    "  #-------------Test---------------------\n",
    "  # Prédire les valeurs en utilisant le modèle KNN Regressor pour les données Test\n",
    "  y_pred_test = grid_search.predict(X_test)\n",
    "  # Afficher l'erreur quadratique moyenne et le coefficient de détermination R2\n",
    "  mse_test = mean_squared_error(Y_test, y_pred_test)\n",
    "  rmse_test = np.sqrt(mse_test)\n",
    "  mae_test = mean_absolute_error(Y_test, y_pred_test)\n",
    "  mape_test = np.mean(np.abs((Y_test - y_pred_test) / Y_test)) * 100\n",
    "  r2_test = r2_score(Y_test, y_pred_test)\n",
    "  adjusted_r2_test = 1 - (1-r2_test)*(len(Y_test)-1)/(len(Y_test)-X_test.shape[1]-1)\n",
    "\n",
    "  print('\\n=============================Test=============================')\n",
    "  print('MSE : ',mse_test * 100,'%')\n",
    "  print('RMSE : ',rmse_test * 100,'%')\n",
    "  print('MAE : ',mae_test * 100,'%')\n",
    "  print('MAPE : ',mape_test,'%')\n",
    "  print('R2 : ',r2_test * 100,'%')\n",
    "  print('Adjusted R2 : ', adjusted_r2_test * 100,'%')"
   ]
  },
  {
   "cell_type": "code",
   "execution_count": null,
   "metadata": {
    "colab": {
     "base_uri": "https://localhost:8080/"
    },
    "id": "TvUvhxftT-qq",
    "outputId": "ee504fb0-7561-4d61-b21e-21b14e0cec4b",
    "scrolled": false
   },
   "outputs": [],
   "source": [
    "my_knn_regressor(train_fd001, test_fd001)"
   ]
  },
  {
   "cell_type": "code",
   "execution_count": null,
   "metadata": {
    "id": "zOR36ak5T-vz"
   },
   "outputs": [],
   "source": [
    "my_knn_regressor(train_fd002, test_fd002)"
   ]
  },
  {
   "cell_type": "code",
   "execution_count": null,
   "metadata": {
    "id": "vNv5JIXlYCZU"
   },
   "outputs": [],
   "source": [
    "my_knn_regressor(train_fd003, test_fd003)"
   ]
  },
  {
   "cell_type": "code",
   "execution_count": null,
   "metadata": {
    "id": "0FI97PekYCbq"
   },
   "outputs": [],
   "source": [
    "my_knn_regressor(train_fd004, test_fd004)"
   ]
  },
  {
   "cell_type": "code",
   "execution_count": null,
   "metadata": {
    "id": "_g6O1nMMzIbC"
   },
   "outputs": [],
   "source": []
  }
 ],
 "metadata": {
  "colab": {
   "provenance": []
  },
  "gpuClass": "standard",
  "kernelspec": {
   "display_name": "Python 3 (ipykernel)",
   "language": "python",
   "name": "python3"
  },
  "language_info": {
   "codemirror_mode": {
    "name": "ipython",
    "version": 3
   },
   "file_extension": ".py",
   "mimetype": "text/x-python",
   "name": "python",
   "nbconvert_exporter": "python",
   "pygments_lexer": "ipython3",
   "version": "3.10.9"
  }
 },
 "nbformat": 4,
 "nbformat_minor": 1
}
