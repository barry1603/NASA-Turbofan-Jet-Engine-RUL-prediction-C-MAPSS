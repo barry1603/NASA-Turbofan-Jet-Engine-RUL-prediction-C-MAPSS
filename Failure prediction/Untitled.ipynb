{
 "cells": [
  {
   "cell_type": "code",
   "execution_count": null,
   "id": "583606a7",
   "metadata": {},
   "outputs": [],
   "source": [
    "import tensorflow as tf\n",
    "from transformers import BertTokenizer, TFBertModel\n",
    "from sklearn.preprocessing import StandardScaler\n",
    "\n",
    "# Initialiser le tokenizer et le modèle\n",
    "tokenizer = BertTokenizer.from_pretrained('bert-base-uncased')\n",
    "model = TFBertModel.from_pretrained('bert-base-uncased')\n",
    "\n",
    "# Prétraiter les données\n",
    "scaler = StandardScaler()\n",
    "X_train = scaler.fit_transform(X_train)\n",
    "X_test = scaler.transform(X_test)\n",
    "\n",
    "# Transformer les données en format compatible avec BERT\n",
    "X_train = tokenizer(X_train.tolist(), padding=True, truncation=True, return_tensors='tf')\n",
    "X_test = tokenizer(X_test.tolist(), padding=True, truncation=True, return_tensors='tf')\n",
    "\n",
    "# Convertir les étiquettes en tenseurs TensorFlow\n",
    "Y_train = tf.convert_to_tensor(Y_train)\n",
    "Y_test = tf.convert_to_tensor(Y_test)\n",
    "\n",
    "# Définir l'optimiseur, la fonction de perte et les métriques\n",
    "optimizer = tf.keras.optimizers.Adam(learning_rate=1e-5)\n",
    "loss = tf.keras.losses.MeanSquaredError()\n",
    "metric = tf.keras.metrics.RootMeanSquaredError()\n",
    "\n",
    "# Compiler le modèle\n",
    "model.compile(optimizer=optimizer, loss=loss, metrics=[metric])\n",
    "\n",
    "# Entraîner le modèle\n",
    "model.fit(X_train, Y_train, epochs=3, batch_size=32)\n",
    "\n",
    "# Évaluer le modèle\n",
    "model.evaluate(X_test, Y_test)\n"
   ]
  }
 ],
 "metadata": {
  "kernelspec": {
   "display_name": "Python 3 (ipykernel)",
   "language": "python",
   "name": "python3"
  },
  "language_info": {
   "codemirror_mode": {
    "name": "ipython",
    "version": 3
   },
   "file_extension": ".py",
   "mimetype": "text/x-python",
   "name": "python",
   "nbconvert_exporter": "python",
   "pygments_lexer": "ipython3",
   "version": "3.10.9"
  }
 },
 "nbformat": 4,
 "nbformat_minor": 5
}
