{
 "cells": [
  {
   "cell_type": "code",
   "execution_count": 1,
   "metadata": {
    "colab": {
     "base_uri": "https://localhost:8080/",
     "height": 36
    },
    "executionInfo": {
     "elapsed": 413,
     "status": "ok",
     "timestamp": 1686310882159,
     "user": {
      "displayName": "Ibrahima Barry",
      "userId": "00132945360445644191"
     },
     "user_tz": -120
    },
    "id": "FDalluwXbsXk",
    "outputId": "4322efbb-ab48-444a-bbac-3bdb991c8be3"
   },
   "outputs": [
    {
     "data": {
      "text/plain": [
       "\"from google.colab import drive\\ndrive.mount('/content/drive')\""
      ]
     },
     "execution_count": 1,
     "metadata": {},
     "output_type": "execute_result"
    }
   ],
   "source": [
    "'''from google.colab import drive\n",
    "drive.mount('/content/drive')'''"
   ]
  },
  {
   "cell_type": "code",
   "execution_count": 2,
   "metadata": {
    "executionInfo": {
     "elapsed": 29,
     "status": "ok",
     "timestamp": 1686310882161,
     "user": {
      "displayName": "Ibrahima Barry",
      "userId": "00132945360445644191"
     },
     "user_tz": -120
    },
    "id": "7bwRBIw1808g"
   },
   "outputs": [],
   "source": [
    "#!pip install catboost"
   ]
  },
  {
   "cell_type": "code",
   "execution_count": 3,
   "metadata": {
    "executionInfo": {
     "elapsed": 1876,
     "status": "ok",
     "timestamp": 1686310884010,
     "user": {
      "displayName": "Ibrahima Barry",
      "userId": "00132945360445644191"
     },
     "user_tz": -120
    },
    "id": "090U59DPJm7F"
   },
   "outputs": [],
   "source": [
    "import numpy as np\n",
    "import pandas as pd\n",
    "import matplotlib.pyplot as plt\n",
    "import seaborn as sns\n",
    "\n",
    "from sklearn.linear_model import LinearRegression, Lasso, Ridge, ElasticNet\n",
    "from sklearn.tree import DecisionTreeRegressor\n",
    "from sklearn.ensemble import RandomForestRegressor, GradientBoostingRegressor, AdaBoostRegressor, ExtraTreesRegressor\n",
    "from sklearn.svm import SVR\n",
    "from sklearn.neighbors import KNeighborsRegressor\n",
    "from xgboost import XGBRegressor\n",
    "from sklearn.model_selection import GridSearchCV\n",
    "\n",
    "from sklearn.metrics import mean_squared_error, mean_absolute_error, r2_score\n",
    "from scipy.stats import pearsonr\n",
    "\n",
    "from sklearn.preprocessing import MinMaxScaler, StandardScaler"
   ]
  },
  {
   "cell_type": "code",
   "execution_count": 4,
   "metadata": {
    "executionInfo": {
     "elapsed": 22,
     "status": "ok",
     "timestamp": 1686310884012,
     "user": {
      "displayName": "Ibrahima Barry",
      "userId": "00132945360445644191"
     },
     "user_tz": -120
    },
    "id": "sCVZb8EK9-RF"
   },
   "outputs": [],
   "source": [
    "#myfolder = \"./\"\n",
    "myfolder = \"../data/CMaps/\""
   ]
  },
  {
   "cell_type": "markdown",
   "metadata": {
    "id": "eK6zG_tsRZFx"
   },
   "source": [
    "# **Columns' names**"
   ]
  },
  {
   "cell_type": "code",
   "execution_count": 5,
   "metadata": {
    "executionInfo": {
     "elapsed": 23,
     "status": "ok",
     "timestamp": 1686310884015,
     "user": {
      "displayName": "Ibrahima Barry",
      "userId": "00132945360445644191"
     },
     "user_tz": -120
    },
    "id": "03uUZbfWF9Yj"
   },
   "outputs": [],
   "source": [
    "#Columns' names\n",
    "'''\n",
    "1)  unit number\n",
    "2)\ttime, in cycles\n",
    "3)\toperational setting 1\n",
    "4)\toperational setting 2\n",
    "5)\toperational setting 3\n",
    "6)\tsensor measurement  1\n",
    "7)\tsensor measurement  2\n",
    "...\n",
    "26)\tsensor measurement  21\n",
    "'''\n",
    "unitNames = ['UnitNumber']\n",
    "timeCycles = [\"TimeInCycles\"]\n",
    "operSets = [\"OperSet\"+str(i) for i in range(1,4)] # 1,2 et 3\n",
    "sensorMes = [\"SensorMes\"+str(j) for j in range(1, 22)] # de 1 à 21\n",
    "columnsNames = unitNames + timeCycles + operSets +sensorMes"
   ]
  },
  {
   "cell_type": "markdown",
   "metadata": {
    "id": "Pk7OEGaFRpHx"
   },
   "source": [
    "# **Datasets loading**"
   ]
  },
  {
   "cell_type": "code",
   "execution_count": 6,
   "metadata": {
    "colab": {
     "base_uri": "https://localhost:8080/",
     "height": 394
    },
    "executionInfo": {
     "elapsed": 22,
     "status": "error",
     "timestamp": 1686310884016,
     "user": {
      "displayName": "Ibrahima Barry",
      "userId": "00132945360445644191"
     },
     "user_tz": -120
    },
    "id": "2zNavW8eUubj",
    "outputId": "034725ba-31d1-41dc-a477-eeb1976aac54"
   },
   "outputs": [],
   "source": [
    "def data_loading(x):\n",
    "  train_path = myfolder + \"train_\"+ x +\".txt\"\n",
    "  test_path = myfolder + \"test_\"+ x +\".txt\"\n",
    "  rul_path = myfolder + \"RUL_\"+ x +\".txt\"\n",
    "  train = pd.read_csv(train_path, delim_whitespace=True, names=columnsNames)\n",
    "  test = pd.read_csv(test_path, delim_whitespace=True, names=columnsNames)\n",
    "  rul = pd.read_csv(rul_path, delim_whitespace=True, names=[\"RUL_FD\"])\n",
    "  return train, test, rul\n",
    "\n",
    "train_fd001, test_fd001, rul_fd001 = data_loading(\"FD001\")\n",
    "train_fd002, test_fd002, rul_fd002 = data_loading(\"FD002\")\n",
    "train_fd003, test_fd003, rul_fd003 = data_loading(\"FD003\")\n",
    "train_fd004, test_fd004, rul_fd004 = data_loading(\"FD004\")"
   ]
  },
  {
   "cell_type": "code",
   "execution_count": 7,
   "metadata": {
    "executionInfo": {
     "elapsed": 9,
     "status": "aborted",
     "timestamp": 1686310884488,
     "user": {
      "displayName": "Ibrahima Barry",
      "userId": "00132945360445644191"
     },
     "user_tz": -120
    },
    "id": "2D0p8HcQVpPu"
   },
   "outputs": [
    {
     "data": {
      "text/html": [
       "<div>\n",
       "<style scoped>\n",
       "    .dataframe tbody tr th:only-of-type {\n",
       "        vertical-align: middle;\n",
       "    }\n",
       "\n",
       "    .dataframe tbody tr th {\n",
       "        vertical-align: top;\n",
       "    }\n",
       "\n",
       "    .dataframe thead th {\n",
       "        text-align: right;\n",
       "    }\n",
       "</style>\n",
       "<table border=\"1\" class=\"dataframe\">\n",
       "  <thead>\n",
       "    <tr style=\"text-align: right;\">\n",
       "      <th></th>\n",
       "      <th>UnitNumber</th>\n",
       "      <th>TimeInCycles</th>\n",
       "      <th>OperSet1</th>\n",
       "      <th>OperSet2</th>\n",
       "      <th>OperSet3</th>\n",
       "      <th>SensorMes1</th>\n",
       "      <th>SensorMes2</th>\n",
       "      <th>SensorMes3</th>\n",
       "      <th>SensorMes4</th>\n",
       "      <th>SensorMes5</th>\n",
       "      <th>SensorMes6</th>\n",
       "      <th>SensorMes7</th>\n",
       "      <th>SensorMes8</th>\n",
       "      <th>SensorMes9</th>\n",
       "      <th>SensorMes10</th>\n",
       "      <th>SensorMes11</th>\n",
       "      <th>SensorMes12</th>\n",
       "      <th>SensorMes13</th>\n",
       "      <th>SensorMes14</th>\n",
       "      <th>SensorMes15</th>\n",
       "      <th>SensorMes16</th>\n",
       "      <th>SensorMes17</th>\n",
       "      <th>SensorMes18</th>\n",
       "      <th>SensorMes19</th>\n",
       "      <th>SensorMes20</th>\n",
       "      <th>SensorMes21</th>\n",
       "    </tr>\n",
       "  </thead>\n",
       "  <tbody>\n",
       "    <tr>\n",
       "      <th>0</th>\n",
       "      <td>1</td>\n",
       "      <td>1</td>\n",
       "      <td>42.0049</td>\n",
       "      <td>0.8400</td>\n",
       "      <td>100.0</td>\n",
       "      <td>445.00</td>\n",
       "      <td>549.68</td>\n",
       "      <td>1343.43</td>\n",
       "      <td>1112.93</td>\n",
       "      <td>3.91</td>\n",
       "      <td>5.70</td>\n",
       "      <td>137.36</td>\n",
       "      <td>2211.86</td>\n",
       "      <td>8311.32</td>\n",
       "      <td>1.01</td>\n",
       "      <td>41.69</td>\n",
       "      <td>129.78</td>\n",
       "      <td>2387.99</td>\n",
       "      <td>8074.83</td>\n",
       "      <td>9.3335</td>\n",
       "      <td>0.02</td>\n",
       "      <td>330</td>\n",
       "      <td>2212</td>\n",
       "      <td>100.0</td>\n",
       "      <td>10.62</td>\n",
       "      <td>6.3670</td>\n",
       "    </tr>\n",
       "    <tr>\n",
       "      <th>1</th>\n",
       "      <td>1</td>\n",
       "      <td>2</td>\n",
       "      <td>20.0020</td>\n",
       "      <td>0.7002</td>\n",
       "      <td>100.0</td>\n",
       "      <td>491.19</td>\n",
       "      <td>606.07</td>\n",
       "      <td>1477.61</td>\n",
       "      <td>1237.50</td>\n",
       "      <td>9.35</td>\n",
       "      <td>13.61</td>\n",
       "      <td>332.10</td>\n",
       "      <td>2323.66</td>\n",
       "      <td>8713.60</td>\n",
       "      <td>1.07</td>\n",
       "      <td>43.94</td>\n",
       "      <td>312.59</td>\n",
       "      <td>2387.73</td>\n",
       "      <td>8046.13</td>\n",
       "      <td>9.1913</td>\n",
       "      <td>0.02</td>\n",
       "      <td>361</td>\n",
       "      <td>2324</td>\n",
       "      <td>100.0</td>\n",
       "      <td>24.37</td>\n",
       "      <td>14.6552</td>\n",
       "    </tr>\n",
       "    <tr>\n",
       "      <th>2</th>\n",
       "      <td>1</td>\n",
       "      <td>3</td>\n",
       "      <td>42.0038</td>\n",
       "      <td>0.8409</td>\n",
       "      <td>100.0</td>\n",
       "      <td>445.00</td>\n",
       "      <td>548.95</td>\n",
       "      <td>1343.12</td>\n",
       "      <td>1117.05</td>\n",
       "      <td>3.91</td>\n",
       "      <td>5.69</td>\n",
       "      <td>138.18</td>\n",
       "      <td>2211.92</td>\n",
       "      <td>8306.69</td>\n",
       "      <td>1.01</td>\n",
       "      <td>41.66</td>\n",
       "      <td>129.62</td>\n",
       "      <td>2387.97</td>\n",
       "      <td>8066.62</td>\n",
       "      <td>9.4007</td>\n",
       "      <td>0.02</td>\n",
       "      <td>329</td>\n",
       "      <td>2212</td>\n",
       "      <td>100.0</td>\n",
       "      <td>10.48</td>\n",
       "      <td>6.4213</td>\n",
       "    </tr>\n",
       "  </tbody>\n",
       "</table>\n",
       "</div>"
      ],
      "text/plain": [
       "   UnitNumber  TimeInCycles  OperSet1  OperSet2  OperSet3  SensorMes1  \\\n",
       "0           1             1   42.0049    0.8400     100.0      445.00   \n",
       "1           1             2   20.0020    0.7002     100.0      491.19   \n",
       "2           1             3   42.0038    0.8409     100.0      445.00   \n",
       "\n",
       "   SensorMes2  SensorMes3  SensorMes4  SensorMes5  SensorMes6  SensorMes7  \\\n",
       "0      549.68     1343.43     1112.93        3.91        5.70      137.36   \n",
       "1      606.07     1477.61     1237.50        9.35       13.61      332.10   \n",
       "2      548.95     1343.12     1117.05        3.91        5.69      138.18   \n",
       "\n",
       "   SensorMes8  SensorMes9  SensorMes10  SensorMes11  SensorMes12  SensorMes13  \\\n",
       "0     2211.86     8311.32         1.01        41.69       129.78      2387.99   \n",
       "1     2323.66     8713.60         1.07        43.94       312.59      2387.73   \n",
       "2     2211.92     8306.69         1.01        41.66       129.62      2387.97   \n",
       "\n",
       "   SensorMes14  SensorMes15  SensorMes16  SensorMes17  SensorMes18  \\\n",
       "0      8074.83       9.3335         0.02          330         2212   \n",
       "1      8046.13       9.1913         0.02          361         2324   \n",
       "2      8066.62       9.4007         0.02          329         2212   \n",
       "\n",
       "   SensorMes19  SensorMes20  SensorMes21  \n",
       "0        100.0        10.62       6.3670  \n",
       "1        100.0        24.37      14.6552  \n",
       "2        100.0        10.48       6.4213  "
      ]
     },
     "execution_count": 7,
     "metadata": {},
     "output_type": "execute_result"
    }
   ],
   "source": [
    "# Forcer l'affichage de toutes les colonnes\n",
    "pd.set_option('display.max_columns', None)\n",
    "\n",
    "train_fd004.head(3)"
   ]
  },
  {
   "cell_type": "markdown",
   "metadata": {
    "id": "-iHEenEWSFa2"
   },
   "source": [
    "# **RUL column generation for train and test set**"
   ]
  },
  {
   "cell_type": "code",
   "execution_count": 8,
   "metadata": {
    "executionInfo": {
     "elapsed": 10,
     "status": "aborted",
     "timestamp": 1686310884490,
     "user": {
      "displayName": "Ibrahima Barry",
      "userId": "00132945360445644191"
     },
     "user_tz": -120
    },
    "id": "iQLmNp5STg3q"
   },
   "outputs": [],
   "source": [
    "def rul_train_generation(x):\n",
    "  rul = pd.DataFrame(x.groupby('UnitNumber')['TimeInCycles'].max()).reset_index()\n",
    "  rul.columns = ['UnitNumber', 'max']\n",
    "  x = x.merge(rul, on=['UnitNumber'], how='left')\n",
    "  x['RUL'] = x['max'] - x['TimeInCycles']\n",
    "  x.drop('max', axis=1, inplace=True)\n",
    "  return x\n",
    "\n",
    "train_fd001 = rul_train_generation(train_fd001)\n",
    "train_fd002 = rul_train_generation(train_fd002)\n",
    "train_fd003 = rul_train_generation(train_fd003)\n",
    "train_fd004 = rul_train_generation(train_fd004)"
   ]
  },
  {
   "cell_type": "code",
   "execution_count": 9,
   "metadata": {
    "executionInfo": {
     "elapsed": 10,
     "status": "aborted",
     "timestamp": 1686310884490,
     "user": {
      "displayName": "Ibrahima Barry",
      "userId": "00132945360445644191"
     },
     "user_tz": -120
    },
    "id": "2b0ThgOYbOJq"
   },
   "outputs": [
    {
     "data": {
      "text/html": [
       "<div>\n",
       "<style scoped>\n",
       "    .dataframe tbody tr th:only-of-type {\n",
       "        vertical-align: middle;\n",
       "    }\n",
       "\n",
       "    .dataframe tbody tr th {\n",
       "        vertical-align: top;\n",
       "    }\n",
       "\n",
       "    .dataframe thead th {\n",
       "        text-align: right;\n",
       "    }\n",
       "</style>\n",
       "<table border=\"1\" class=\"dataframe\">\n",
       "  <thead>\n",
       "    <tr style=\"text-align: right;\">\n",
       "      <th></th>\n",
       "      <th>UnitNumber</th>\n",
       "      <th>TimeInCycles</th>\n",
       "      <th>OperSet1</th>\n",
       "      <th>OperSet2</th>\n",
       "      <th>OperSet3</th>\n",
       "      <th>SensorMes1</th>\n",
       "      <th>SensorMes2</th>\n",
       "      <th>SensorMes3</th>\n",
       "      <th>SensorMes4</th>\n",
       "      <th>SensorMes5</th>\n",
       "      <th>SensorMes6</th>\n",
       "      <th>SensorMes7</th>\n",
       "      <th>SensorMes8</th>\n",
       "      <th>SensorMes9</th>\n",
       "      <th>SensorMes10</th>\n",
       "      <th>SensorMes11</th>\n",
       "      <th>SensorMes12</th>\n",
       "      <th>SensorMes13</th>\n",
       "      <th>SensorMes14</th>\n",
       "      <th>SensorMes15</th>\n",
       "      <th>SensorMes16</th>\n",
       "      <th>SensorMes17</th>\n",
       "      <th>SensorMes18</th>\n",
       "      <th>SensorMes19</th>\n",
       "      <th>SensorMes20</th>\n",
       "      <th>SensorMes21</th>\n",
       "      <th>RUL</th>\n",
       "    </tr>\n",
       "  </thead>\n",
       "  <tbody>\n",
       "    <tr>\n",
       "      <th>0</th>\n",
       "      <td>1</td>\n",
       "      <td>1</td>\n",
       "      <td>42.0049</td>\n",
       "      <td>0.8400</td>\n",
       "      <td>100.0</td>\n",
       "      <td>445.00</td>\n",
       "      <td>549.68</td>\n",
       "      <td>1343.43</td>\n",
       "      <td>1112.93</td>\n",
       "      <td>3.91</td>\n",
       "      <td>5.70</td>\n",
       "      <td>137.36</td>\n",
       "      <td>2211.86</td>\n",
       "      <td>8311.32</td>\n",
       "      <td>1.01</td>\n",
       "      <td>41.69</td>\n",
       "      <td>129.78</td>\n",
       "      <td>2387.99</td>\n",
       "      <td>8074.83</td>\n",
       "      <td>9.3335</td>\n",
       "      <td>0.02</td>\n",
       "      <td>330</td>\n",
       "      <td>2212</td>\n",
       "      <td>100.0</td>\n",
       "      <td>10.62</td>\n",
       "      <td>6.3670</td>\n",
       "      <td>320</td>\n",
       "    </tr>\n",
       "    <tr>\n",
       "      <th>1</th>\n",
       "      <td>1</td>\n",
       "      <td>2</td>\n",
       "      <td>20.0020</td>\n",
       "      <td>0.7002</td>\n",
       "      <td>100.0</td>\n",
       "      <td>491.19</td>\n",
       "      <td>606.07</td>\n",
       "      <td>1477.61</td>\n",
       "      <td>1237.50</td>\n",
       "      <td>9.35</td>\n",
       "      <td>13.61</td>\n",
       "      <td>332.10</td>\n",
       "      <td>2323.66</td>\n",
       "      <td>8713.60</td>\n",
       "      <td>1.07</td>\n",
       "      <td>43.94</td>\n",
       "      <td>312.59</td>\n",
       "      <td>2387.73</td>\n",
       "      <td>8046.13</td>\n",
       "      <td>9.1913</td>\n",
       "      <td>0.02</td>\n",
       "      <td>361</td>\n",
       "      <td>2324</td>\n",
       "      <td>100.0</td>\n",
       "      <td>24.37</td>\n",
       "      <td>14.6552</td>\n",
       "      <td>319</td>\n",
       "    </tr>\n",
       "    <tr>\n",
       "      <th>2</th>\n",
       "      <td>1</td>\n",
       "      <td>3</td>\n",
       "      <td>42.0038</td>\n",
       "      <td>0.8409</td>\n",
       "      <td>100.0</td>\n",
       "      <td>445.00</td>\n",
       "      <td>548.95</td>\n",
       "      <td>1343.12</td>\n",
       "      <td>1117.05</td>\n",
       "      <td>3.91</td>\n",
       "      <td>5.69</td>\n",
       "      <td>138.18</td>\n",
       "      <td>2211.92</td>\n",
       "      <td>8306.69</td>\n",
       "      <td>1.01</td>\n",
       "      <td>41.66</td>\n",
       "      <td>129.62</td>\n",
       "      <td>2387.97</td>\n",
       "      <td>8066.62</td>\n",
       "      <td>9.4007</td>\n",
       "      <td>0.02</td>\n",
       "      <td>329</td>\n",
       "      <td>2212</td>\n",
       "      <td>100.0</td>\n",
       "      <td>10.48</td>\n",
       "      <td>6.4213</td>\n",
       "      <td>318</td>\n",
       "    </tr>\n",
       "  </tbody>\n",
       "</table>\n",
       "</div>"
      ],
      "text/plain": [
       "   UnitNumber  TimeInCycles  OperSet1  OperSet2  OperSet3  SensorMes1  \\\n",
       "0           1             1   42.0049    0.8400     100.0      445.00   \n",
       "1           1             2   20.0020    0.7002     100.0      491.19   \n",
       "2           1             3   42.0038    0.8409     100.0      445.00   \n",
       "\n",
       "   SensorMes2  SensorMes3  SensorMes4  SensorMes5  SensorMes6  SensorMes7  \\\n",
       "0      549.68     1343.43     1112.93        3.91        5.70      137.36   \n",
       "1      606.07     1477.61     1237.50        9.35       13.61      332.10   \n",
       "2      548.95     1343.12     1117.05        3.91        5.69      138.18   \n",
       "\n",
       "   SensorMes8  SensorMes9  SensorMes10  SensorMes11  SensorMes12  SensorMes13  \\\n",
       "0     2211.86     8311.32         1.01        41.69       129.78      2387.99   \n",
       "1     2323.66     8713.60         1.07        43.94       312.59      2387.73   \n",
       "2     2211.92     8306.69         1.01        41.66       129.62      2387.97   \n",
       "\n",
       "   SensorMes14  SensorMes15  SensorMes16  SensorMes17  SensorMes18  \\\n",
       "0      8074.83       9.3335         0.02          330         2212   \n",
       "1      8046.13       9.1913         0.02          361         2324   \n",
       "2      8066.62       9.4007         0.02          329         2212   \n",
       "\n",
       "   SensorMes19  SensorMes20  SensorMes21  RUL  \n",
       "0        100.0        10.62       6.3670  320  \n",
       "1        100.0        24.37      14.6552  319  \n",
       "2        100.0        10.48       6.4213  318  "
      ]
     },
     "execution_count": 9,
     "metadata": {},
     "output_type": "execute_result"
    }
   ],
   "source": [
    "train_fd004.head(3)"
   ]
  },
  {
   "cell_type": "code",
   "execution_count": 10,
   "metadata": {
    "executionInfo": {
     "elapsed": 11,
     "status": "aborted",
     "timestamp": 1686310884491,
     "user": {
      "displayName": "Ibrahima Barry",
      "userId": "00132945360445644191"
     },
     "user_tz": -120
    },
    "id": "SO9r-mpZXPjO"
   },
   "outputs": [],
   "source": [
    "def rul_test_generation(x, rul):\n",
    "\n",
    "  rul[\"UnitNumber\"] = rul.index + 1 # +1 pour que UnitNumber demarre de 1 au lieu de 0, car il s'agit du numero des moteur\n",
    "\n",
    "  x = x.merge(rul, on=['UnitNumber'], how='left')\n",
    "\n",
    "  max_cycle = pd.DataFrame(x.groupby('UnitNumber')['TimeInCycles'].max()).reset_index()\n",
    "  max_cycle.columns = ['UnitNumber', 'max']\n",
    "  x = x.merge(max_cycle, on=['UnitNumber'], how='left')\n",
    "  x['RUL'] = x['RUL_FD'] + x['max'] - x['TimeInCycles']\n",
    "  x.drop(['max', 'RUL_FD'], axis=1, inplace=True)\n",
    "\n",
    "  return x\n",
    "\n",
    "test_fd001 = rul_test_generation(test_fd001, rul_fd001)\n",
    "test_fd002 = rul_test_generation(test_fd002, rul_fd002)\n",
    "test_fd003 = rul_test_generation(test_fd003, rul_fd003)\n",
    "test_fd004 = rul_test_generation(test_fd004, rul_fd004)"
   ]
  },
  {
   "cell_type": "code",
   "execution_count": 11,
   "metadata": {
    "executionInfo": {
     "elapsed": 14,
     "status": "aborted",
     "timestamp": 1686310884494,
     "user": {
      "displayName": "Ibrahima Barry",
      "userId": "00132945360445644191"
     },
     "user_tz": -120
    },
    "id": "UsgIhGIrbbGe"
   },
   "outputs": [
    {
     "data": {
      "text/html": [
       "<div>\n",
       "<style scoped>\n",
       "    .dataframe tbody tr th:only-of-type {\n",
       "        vertical-align: middle;\n",
       "    }\n",
       "\n",
       "    .dataframe tbody tr th {\n",
       "        vertical-align: top;\n",
       "    }\n",
       "\n",
       "    .dataframe thead th {\n",
       "        text-align: right;\n",
       "    }\n",
       "</style>\n",
       "<table border=\"1\" class=\"dataframe\">\n",
       "  <thead>\n",
       "    <tr style=\"text-align: right;\">\n",
       "      <th></th>\n",
       "      <th>UnitNumber</th>\n",
       "      <th>TimeInCycles</th>\n",
       "      <th>OperSet1</th>\n",
       "      <th>OperSet2</th>\n",
       "      <th>OperSet3</th>\n",
       "      <th>SensorMes1</th>\n",
       "      <th>SensorMes2</th>\n",
       "      <th>SensorMes3</th>\n",
       "      <th>SensorMes4</th>\n",
       "      <th>SensorMes5</th>\n",
       "      <th>SensorMes6</th>\n",
       "      <th>SensorMes7</th>\n",
       "      <th>SensorMes8</th>\n",
       "      <th>SensorMes9</th>\n",
       "      <th>SensorMes10</th>\n",
       "      <th>SensorMes11</th>\n",
       "      <th>SensorMes12</th>\n",
       "      <th>SensorMes13</th>\n",
       "      <th>SensorMes14</th>\n",
       "      <th>SensorMes15</th>\n",
       "      <th>SensorMes16</th>\n",
       "      <th>SensorMes17</th>\n",
       "      <th>SensorMes18</th>\n",
       "      <th>SensorMes19</th>\n",
       "      <th>SensorMes20</th>\n",
       "      <th>SensorMes21</th>\n",
       "      <th>RUL</th>\n",
       "    </tr>\n",
       "  </thead>\n",
       "  <tbody>\n",
       "    <tr>\n",
       "      <th>0</th>\n",
       "      <td>1</td>\n",
       "      <td>1</td>\n",
       "      <td>20.0072</td>\n",
       "      <td>0.700</td>\n",
       "      <td>100.0</td>\n",
       "      <td>491.19</td>\n",
       "      <td>606.67</td>\n",
       "      <td>1481.04</td>\n",
       "      <td>1227.81</td>\n",
       "      <td>9.35</td>\n",
       "      <td>13.60</td>\n",
       "      <td>332.52</td>\n",
       "      <td>2323.67</td>\n",
       "      <td>8704.98</td>\n",
       "      <td>1.07</td>\n",
       "      <td>43.83</td>\n",
       "      <td>313.03</td>\n",
       "      <td>2387.78</td>\n",
       "      <td>8048.98</td>\n",
       "      <td>9.2229</td>\n",
       "      <td>0.02</td>\n",
       "      <td>362</td>\n",
       "      <td>2324</td>\n",
       "      <td>100.00</td>\n",
       "      <td>24.31</td>\n",
       "      <td>14.7007</td>\n",
       "      <td>251</td>\n",
       "    </tr>\n",
       "    <tr>\n",
       "      <th>1</th>\n",
       "      <td>1</td>\n",
       "      <td>2</td>\n",
       "      <td>24.9984</td>\n",
       "      <td>0.620</td>\n",
       "      <td>60.0</td>\n",
       "      <td>462.54</td>\n",
       "      <td>536.22</td>\n",
       "      <td>1256.17</td>\n",
       "      <td>1031.48</td>\n",
       "      <td>7.05</td>\n",
       "      <td>9.00</td>\n",
       "      <td>174.46</td>\n",
       "      <td>1915.21</td>\n",
       "      <td>7999.94</td>\n",
       "      <td>0.93</td>\n",
       "      <td>36.11</td>\n",
       "      <td>163.61</td>\n",
       "      <td>2028.09</td>\n",
       "      <td>7863.46</td>\n",
       "      <td>10.8632</td>\n",
       "      <td>0.02</td>\n",
       "      <td>306</td>\n",
       "      <td>1915</td>\n",
       "      <td>84.93</td>\n",
       "      <td>14.36</td>\n",
       "      <td>8.5748</td>\n",
       "      <td>250</td>\n",
       "    </tr>\n",
       "    <tr>\n",
       "      <th>2</th>\n",
       "      <td>1</td>\n",
       "      <td>3</td>\n",
       "      <td>42.0000</td>\n",
       "      <td>0.842</td>\n",
       "      <td>100.0</td>\n",
       "      <td>445.00</td>\n",
       "      <td>549.23</td>\n",
       "      <td>1340.13</td>\n",
       "      <td>1105.88</td>\n",
       "      <td>3.91</td>\n",
       "      <td>5.69</td>\n",
       "      <td>137.34</td>\n",
       "      <td>2211.93</td>\n",
       "      <td>8305.38</td>\n",
       "      <td>1.01</td>\n",
       "      <td>41.52</td>\n",
       "      <td>129.98</td>\n",
       "      <td>2387.95</td>\n",
       "      <td>8071.13</td>\n",
       "      <td>9.3960</td>\n",
       "      <td>0.02</td>\n",
       "      <td>328</td>\n",
       "      <td>2212</td>\n",
       "      <td>100.00</td>\n",
       "      <td>10.39</td>\n",
       "      <td>6.4365</td>\n",
       "      <td>249</td>\n",
       "    </tr>\n",
       "  </tbody>\n",
       "</table>\n",
       "</div>"
      ],
      "text/plain": [
       "   UnitNumber  TimeInCycles  OperSet1  OperSet2  OperSet3  SensorMes1  \\\n",
       "0           1             1   20.0072     0.700     100.0      491.19   \n",
       "1           1             2   24.9984     0.620      60.0      462.54   \n",
       "2           1             3   42.0000     0.842     100.0      445.00   \n",
       "\n",
       "   SensorMes2  SensorMes3  SensorMes4  SensorMes5  SensorMes6  SensorMes7  \\\n",
       "0      606.67     1481.04     1227.81        9.35       13.60      332.52   \n",
       "1      536.22     1256.17     1031.48        7.05        9.00      174.46   \n",
       "2      549.23     1340.13     1105.88        3.91        5.69      137.34   \n",
       "\n",
       "   SensorMes8  SensorMes9  SensorMes10  SensorMes11  SensorMes12  SensorMes13  \\\n",
       "0     2323.67     8704.98         1.07        43.83       313.03      2387.78   \n",
       "1     1915.21     7999.94         0.93        36.11       163.61      2028.09   \n",
       "2     2211.93     8305.38         1.01        41.52       129.98      2387.95   \n",
       "\n",
       "   SensorMes14  SensorMes15  SensorMes16  SensorMes17  SensorMes18  \\\n",
       "0      8048.98       9.2229         0.02          362         2324   \n",
       "1      7863.46      10.8632         0.02          306         1915   \n",
       "2      8071.13       9.3960         0.02          328         2212   \n",
       "\n",
       "   SensorMes19  SensorMes20  SensorMes21  RUL  \n",
       "0       100.00        24.31      14.7007  251  \n",
       "1        84.93        14.36       8.5748  250  \n",
       "2       100.00        10.39       6.4365  249  "
      ]
     },
     "execution_count": 11,
     "metadata": {},
     "output_type": "execute_result"
    }
   ],
   "source": [
    "test_fd004.head(3)"
   ]
  },
  {
   "cell_type": "markdown",
   "metadata": {
    "id": "L8m9gYB3Q7Hk"
   },
   "source": [
    "# **RANDOM SAMPLE SELECTION**"
   ]
  },
  {
   "cell_type": "code",
   "execution_count": 12,
   "metadata": {
    "executionInfo": {
     "elapsed": 15,
     "status": "aborted",
     "timestamp": 1686310884495,
     "user": {
      "displayName": "Ibrahima Barry",
      "userId": "00132945360445644191"
     },
     "user_tz": -120
    },
    "id": "U-YzlssEQ7Hl"
   },
   "outputs": [
    {
     "data": {
      "text/plain": [
       "\"element_counts = test_fd002[test_fd002['UnitNumber']==1]\\nlen(element_counts)\""
      ]
     },
     "execution_count": 12,
     "metadata": {},
     "output_type": "execute_result"
    }
   ],
   "source": [
    "'''element_counts = test_fd002[test_fd002['UnitNumber']==1]\n",
    "len(element_counts)'''"
   ]
  },
  {
   "cell_type": "code",
   "execution_count": 13,
   "metadata": {
    "executionInfo": {
     "elapsed": 15,
     "status": "aborted",
     "timestamp": 1686310884496,
     "user": {
      "displayName": "Ibrahima Barry",
      "userId": "00132945360445644191"
     },
     "user_tz": -120
    },
    "id": "3ogEKLWfQ7Hm"
   },
   "outputs": [],
   "source": [
    "import random\n",
    "\n",
    "def selection_aleatoire(df, sample_size, rand_state):\n",
    "    unique_values = df[\"UnitNumber\"].unique()\n",
    "    selected_rows = []\n",
    "    for value in unique_values:\n",
    "        rows = df[df[\"UnitNumber\"] == value]\n",
    "        if len(rows) < sample_size : # si la taille de l'echantillon donnée est superieur au nombre total de ligne pour un moteur, reinitialiser la valeur\n",
    "            sample_size = len(rows)\n",
    "        random_sample = rows.sample(n=sample_size, random_state = rand_state)  # Sélectionne 50 lignes aléatoires\n",
    "        selected_rows.append(random_sample)\n",
    "    result = pd.concat(selected_rows)\n",
    "    return result"
   ]
  },
  {
   "cell_type": "markdown",
   "metadata": {
    "id": "phZTpM6fQ7Hm"
   },
   "source": [
    "# **Data normalization**"
   ]
  },
  {
   "cell_type": "code",
   "execution_count": 14,
   "metadata": {
    "executionInfo": {
     "elapsed": 17,
     "status": "aborted",
     "timestamp": 1686310884498,
     "user": {
      "displayName": "Ibrahima Barry",
      "userId": "00132945360445644191"
     },
     "user_tz": -120
    },
    "id": "_NZIBGyfZAdU"
   },
   "outputs": [],
   "source": [
    "def normalised_df(train, test):\n",
    "\n",
    "  from sklearn.preprocessing import MinMaxScaler\n",
    "\n",
    "  # Instancier l'objet MinMaxScaler pour normaliser les données\n",
    "  scaler = MinMaxScaler()\n",
    "\n",
    "  # Normaliser train\n",
    "  train_scaled = scaler.fit_transform(train)\n",
    "  train_df = pd.DataFrame(train_scaled)\n",
    "\n",
    "  # Normaliser test\n",
    "  test_scaled = scaler.fit_transform(test)\n",
    "  test_df = pd.DataFrame(test_scaled)\n",
    "\n",
    "\n",
    "  train_df.columns = train.columns\n",
    "  test_df.columns = test.columns\n",
    "    \n",
    "  return train_df, test_df"
   ]
  },
  {
   "cell_type": "markdown",
   "metadata": {
    "id": "saXzvQieSZi7"
   },
   "source": [
    "# **Data splitting**"
   ]
  },
  {
   "cell_type": "code",
   "execution_count": 15,
   "metadata": {
    "executionInfo": {
     "elapsed": 19,
     "status": "aborted",
     "timestamp": 1686310884500,
     "user": {
      "displayName": "Ibrahima Barry",
      "userId": "00132945360445644191"
     },
     "user_tz": -120
    },
    "id": "lZWWDPa-QZ6A"
   },
   "outputs": [],
   "source": [
    "def data_split(train, test):\n",
    "\n",
    "  # data split\n",
    "  X_train = train.drop('RUL', axis=1)\n",
    "  Y_train = train['RUL']\n",
    "  X_test = test.drop('RUL', axis=1)\n",
    "  Y_test = test['RUL']\n",
    "    \n",
    "  return X_train, Y_train, X_test, Y_test\n"
   ]
  },
  {
   "cell_type": "markdown",
   "metadata": {},
   "source": [
    "# **Columns to drop**"
   ]
  },
  {
   "cell_type": "code",
   "execution_count": 16,
   "metadata": {},
   "outputs": [],
   "source": [
    "def drop_columns(train, test, wich):\n",
    "    if wich == 1:\n",
    "        operSets_to_drop = [\"OperSet\"+str(i) for i in [1, 2]] # 1 et 2\n",
    "        sensorMes_to_drop = [\"SensorMes\"+str(j) for j in [3, 6, 8, 9, 13, 14]]\n",
    "        cols_to_drop = operSets_to_drop + sensorMes_to_drop\n",
    "    elif wich == 2:\n",
    "        operSets_to_drop = [\"OperSet\"+str(i) for i in range(1,4)] # 1,2 et 3\n",
    "        sensorMes_to_drop = [\"SensorMes\"+str(j) for j in [1, 5, 10, 18, 19]]\n",
    "        cols_to_drop = operSets_to_drop + sensorMes_to_drop\n",
    "    elif wich == 3:\n",
    "        operSets_to_drop = [\"OperSet\"+str(i) for i in [1, 2]] # 1 et 2\n",
    "        sensorMes_to_drop = [\"SensorMes\"+str(j) for j in [6, 7, 10, 12, 15, 20, 21]]\n",
    "        cols_to_drop = operSets_to_drop + sensorMes_to_drop\n",
    "    elif wich == 4:\n",
    "        operSets_to_drop = [\"OperSet\"+str(i) for i in range(1,4)] # 1,2 et 3\n",
    "        sensorMes_to_drop = [\"SensorMes\"+str(j) for j in [1, 5, 6, 7, 12, 15, 18, 19, 20, 21]]\n",
    "        cols_to_drop = operSets_to_drop + sensorMes_to_drop\n",
    "        \n",
    "    # drop columns \n",
    "    drop_cols=True\n",
    "    if(drop_cols == True):\n",
    "      train = train.drop(cols_to_drop, axis=1)\n",
    "      test = test.drop(cols_to_drop, axis=1)\n",
    "    return train, test"
   ]
  },
  {
   "cell_type": "markdown",
   "metadata": {
    "id": "6ME9D2ueVxeT"
   },
   "source": [
    "# **The GRU model**"
   ]
  },
  {
   "cell_type": "code",
   "execution_count": 17,
   "metadata": {},
   "outputs": [],
   "source": [
    "import numpy as np\n",
    "import pandas as pd\n",
    "from sklearn.preprocessing import MinMaxScaler\n",
    "from tensorflow.keras.models import Sequential\n",
    "from tensorflow.keras.layers import GRU, Dense, Dropout, Activation\n",
    "from tensorflow.keras.optimizers import Adam\n",
    "from tensorflow.keras.callbacks import EarlyStopping\n",
    "from sklearn.metrics import mean_absolute_error, mean_squared_error\n",
    "import matplotlib.pyplot as plt\n",
    "\n",
    "def my_gru(train_fd, test_fd):\n",
    "\n",
    "    # Normaliser les données\n",
    "    scaler = MinMaxScaler()\n",
    "\n",
    "    train = scaler.fit_transform(train_fd)\n",
    "    test = scaler.transform(test_fd)\n",
    "\n",
    "    # Préparer les données pour le modèle GRU\n",
    "    train_X = train[:,:-1]\n",
    "    train_y = train[:,-1]\n",
    "\n",
    "    test_X = test[:,:-1]\n",
    "    test_y = test[:,-1]\n",
    "\n",
    "    train_X = train_X.reshape((train_X.shape[0], 1, train_X.shape[1]))\n",
    "    test_X = test_X.reshape((test_X.shape[0], 1, test_X.shape[1]))\n",
    "\n",
    "    # Créer le modèle GRU\n",
    "    model = Sequential()\n",
    "    model.add(GRU(units=100, return_sequences=True, input_shape=(train_X.shape[1], train_X.shape[2])))\n",
    "    model.add(Dropout(0.2))\n",
    "    model.add(GRU(units=100, return_sequences=False))\n",
    "    model.add(Dropout(0.2))\n",
    "    model.add(Dense(units=1))\n",
    "    model.add(Activation(\"relu\"))\n",
    "\n",
    "    # Compiler le modèle avec une optimisation\n",
    "    model.compile(loss='mae', optimizer=Adam(), metrics=['mse'])\n",
    "\n",
    "    # Entraîner le modèle\n",
    "    history = model.fit(train_X, train_y, epochs=100, batch_size=32, validation_split=0.1, verbose=1,\n",
    "          callbacks=[EarlyStopping(monitor='val_loss', min_delta=0, patience=10, verbose=0, mode='auto')])\n",
    "\n",
    "    # Afficher l'erreur d'entraînement et de validation sur une courbe\n",
    "    plt.plot(history.history['loss'], label='Train')\n",
    "    plt.plot(history.history['val_loss'], label='Test')\n",
    "    plt.title('Model loss')\n",
    "    plt.ylabel('Loss')\n",
    "    plt.xlabel('Epoch')\n",
    "    plt.legend()\n",
    "    plt.show()\n",
    "    \n",
    "    # Calculer et afficher RMSE\n",
    "    rmse_train = np.sqrt(history.history['mse'])\n",
    "    rmse_test = np.sqrt(history.history['val_mse'])\n",
    "    plt.plot(rmse_train, label='Train RMSE')\n",
    "    plt.plot(rmse_test, label='Test RMSE')\n",
    "    plt.title('Root Mean Squared Error')\n",
    "    plt.ylabel('RMSE')\n",
    "    plt.xlabel('# Epoch')\n",
    "    plt.legend(loc='upper left')\n",
    "    plt.show()\n",
    "\n",
    "    scores = model.evaluate(train_X, train_y, verbose=1, batch_size=200)\n",
    "    print('Train RMSE: {}'.format(np.sqrt(scores[1])))\n",
    "    \n",
    "    scores_test = model.evaluate(test_X, test_y, verbose=200)\n",
    "    print('Test RMSE: {}'.format(np.sqrt(scores_test[1])))\n",
    "    \n",
    "    y_pred_test = model.predict(test_X, verbose=200)\n",
    "    plt.figure(figsize=(10,5))\n",
    "    plt.plot(y_pred_test, color='red', label='Prediction')\n",
    "    plt.plot(test_y, color='blue', label='Ground Truth')\n",
    "    plt.ylabel(\"RUL\")\n",
    "    plt.xlabel(\"Unit Number\")"
   ]
  },
  {
   "cell_type": "code",
   "execution_count": null,
   "metadata": {},
   "outputs": [
    {
     "name": "stdout",
     "output_type": "stream",
     "text": [
      "Epoch 1/100\n",
      "581/581 [==============================] - 11s 8ms/step - loss: 0.0843 - mse: 0.0138 - val_loss: 0.1332 - val_mse: 0.0275\n",
      "Epoch 2/100\n",
      "581/581 [==============================] - 3s 6ms/step - loss: 0.0757 - mse: 0.0110 - val_loss: 0.1256 - val_mse: 0.0253\n",
      "Epoch 3/100\n",
      "581/581 [==============================] - 4s 6ms/step - loss: 0.0711 - mse: 0.0102 - val_loss: 0.1202 - val_mse: 0.0242\n",
      "Epoch 4/100\n",
      "581/581 [==============================] - 4s 7ms/step - loss: 0.0694 - mse: 0.0100 - val_loss: 0.1183 - val_mse: 0.0253\n",
      "Epoch 5/100\n",
      "581/581 [==============================] - 4s 7ms/step - loss: 0.0683 - mse: 0.0098 - val_loss: 0.1180 - val_mse: 0.0222\n",
      "Epoch 6/100\n",
      "581/581 [==============================] - 3s 6ms/step - loss: 0.0679 - mse: 0.0097 - val_loss: 0.1147 - val_mse: 0.0213\n",
      "Epoch 7/100\n",
      "581/581 [==============================] - 3s 6ms/step - loss: 0.0671 - mse: 0.0096 - val_loss: 0.1137 - val_mse: 0.0238\n",
      "Epoch 8/100\n",
      "581/581 [==============================] - 4s 7ms/step - loss: 0.0669 - mse: 0.0095 - val_loss: 0.1178 - val_mse: 0.0244\n",
      "Epoch 9/100\n",
      "581/581 [==============================] - 3s 6ms/step - loss: 0.0663 - mse: 0.0094 - val_loss: 0.1150 - val_mse: 0.0241\n",
      "Epoch 10/100\n",
      "581/581 [==============================] - 3s 6ms/step - loss: 0.0660 - mse: 0.0093 - val_loss: 0.1109 - val_mse: 0.0208\n",
      "Epoch 11/100\n",
      "581/581 [==============================] - 3s 5ms/step - loss: 0.0662 - mse: 0.0094 - val_loss: 0.1133 - val_mse: 0.0231\n",
      "Epoch 12/100\n",
      "316/581 [===============>..............] - ETA: 1s - loss: 0.0656 - mse: 0.0094"
     ]
    }
   ],
   "source": [
    "my_gru(train_fd001, test_fd001)"
   ]
  },
  {
   "cell_type": "code",
   "execution_count": null,
   "metadata": {},
   "outputs": [],
   "source": [
    "my_gru(train_fd002, test_fd002)"
   ]
  },
  {
   "cell_type": "code",
   "execution_count": null,
   "metadata": {},
   "outputs": [],
   "source": [
    "my_gru(train_fd003, test_fd003)"
   ]
  },
  {
   "cell_type": "code",
   "execution_count": null,
   "metadata": {},
   "outputs": [],
   "source": [
    "my_gru(train_fd004, test_fd004)"
   ]
  },
  {
   "cell_type": "code",
   "execution_count": null,
   "metadata": {},
   "outputs": [],
   "source": []
  }
 ],
 "metadata": {
  "colab": {
   "provenance": []
  },
  "gpuClass": "standard",
  "kernelspec": {
   "display_name": "Python 3 (ipykernel)",
   "language": "python",
   "name": "python3"
  },
  "language_info": {
   "codemirror_mode": {
    "name": "ipython",
    "version": 3
   },
   "file_extension": ".py",
   "mimetype": "text/x-python",
   "name": "python",
   "nbconvert_exporter": "python",
   "pygments_lexer": "ipython3",
   "version": "3.10.9"
  }
 },
 "nbformat": 4,
 "nbformat_minor": 1
}
