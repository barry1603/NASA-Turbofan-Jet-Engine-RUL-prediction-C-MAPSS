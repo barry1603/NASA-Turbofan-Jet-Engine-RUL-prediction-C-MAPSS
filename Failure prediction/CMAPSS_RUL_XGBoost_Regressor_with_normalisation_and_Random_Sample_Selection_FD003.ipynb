{
 "cells": [
  {
   "cell_type": "code",
   "execution_count": 1,
   "metadata": {
    "colab": {
     "base_uri": "https://localhost:8080/",
     "height": 36
    },
    "executionInfo": {
     "elapsed": 413,
     "status": "ok",
     "timestamp": 1686310882159,
     "user": {
      "displayName": "Ibrahima Barry",
      "userId": "00132945360445644191"
     },
     "user_tz": -120
    },
    "id": "FDalluwXbsXk",
    "outputId": "4322efbb-ab48-444a-bbac-3bdb991c8be3"
   },
   "outputs": [
    {
     "data": {
      "application/vnd.google.colaboratory.intrinsic+json": {
       "type": "string"
      },
      "text/plain": [
       "\"from google.colab import drive\\ndrive.mount('/content/drive')\""
      ]
     },
     "execution_count": 1,
     "metadata": {},
     "output_type": "execute_result"
    }
   ],
   "source": [
    "'''from google.colab import drive\n",
    "drive.mount('/content/drive')'''"
   ]
  },
  {
   "cell_type": "code",
   "execution_count": 2,
   "metadata": {
    "executionInfo": {
     "elapsed": 29,
     "status": "ok",
     "timestamp": 1686310882161,
     "user": {
      "displayName": "Ibrahima Barry",
      "userId": "00132945360445644191"
     },
     "user_tz": -120
    },
    "id": "7bwRBIw1808g"
   },
   "outputs": [],
   "source": [
    "#!pip install catboost"
   ]
  },
  {
   "cell_type": "code",
   "execution_count": 1,
   "metadata": {
    "executionInfo": {
     "elapsed": 1876,
     "status": "ok",
     "timestamp": 1686310884010,
     "user": {
      "displayName": "Ibrahima Barry",
      "userId": "00132945360445644191"
     },
     "user_tz": -120
    },
    "id": "090U59DPJm7F"
   },
   "outputs": [],
   "source": [
    "import numpy as np\n",
    "import pandas as pd\n",
    "import matplotlib.pyplot as plt\n",
    "import seaborn as sns\n",
    "\n",
    "from sklearn.linear_model import LinearRegression, Lasso, Ridge, ElasticNet\n",
    "from sklearn.tree import DecisionTreeRegressor\n",
    "from sklearn.ensemble import RandomForestRegressor, GradientBoostingRegressor, AdaBoostRegressor, ExtraTreesRegressor\n",
    "from sklearn.svm import SVR\n",
    "from sklearn.neighbors import KNeighborsRegressor\n",
    "from xgboost import XGBRegressor\n",
    "from sklearn.model_selection import GridSearchCV\n",
    "\n",
    "from sklearn.metrics import mean_squared_error, mean_absolute_error, r2_score\n",
    "from scipy.stats import pearsonr\n",
    "\n",
    "from sklearn.preprocessing import MinMaxScaler, StandardScaler"
   ]
  },
  {
   "cell_type": "code",
   "execution_count": 2,
   "metadata": {
    "executionInfo": {
     "elapsed": 22,
     "status": "ok",
     "timestamp": 1686310884012,
     "user": {
      "displayName": "Ibrahima Barry",
      "userId": "00132945360445644191"
     },
     "user_tz": -120
    },
    "id": "sCVZb8EK9-RF"
   },
   "outputs": [],
   "source": [
    "myfolder = \"./\""
   ]
  },
  {
   "cell_type": "markdown",
   "metadata": {
    "id": "eK6zG_tsRZFx"
   },
   "source": [
    "# **Columns' names**"
   ]
  },
  {
   "cell_type": "code",
   "execution_count": 3,
   "metadata": {
    "executionInfo": {
     "elapsed": 23,
     "status": "ok",
     "timestamp": 1686310884015,
     "user": {
      "displayName": "Ibrahima Barry",
      "userId": "00132945360445644191"
     },
     "user_tz": -120
    },
    "id": "03uUZbfWF9Yj"
   },
   "outputs": [],
   "source": [
    "#Columns' names\n",
    "'''\n",
    "1)  unit number\n",
    "2)\ttime, in cycles\n",
    "3)\toperational setting 1\n",
    "4)\toperational setting 2\n",
    "5)\toperational setting 3\n",
    "6)\tsensor measurement  1\n",
    "7)\tsensor measurement  2\n",
    "...\n",
    "26)\tsensor measurement  21\n",
    "'''\n",
    "unitNames = ['UnitNumber']\n",
    "timeCycles = [\"TimeInCycles\"]\n",
    "operSets = [\"OperSet\"+str(i) for i in range(1,4)] # 1,2 et 3\n",
    "sensorMes = [\"SensorMes\"+str(j) for j in range(1, 22)] # de 1 à 21\n",
    "columnsNames = unitNames + timeCycles + operSets +sensorMes"
   ]
  },
  {
   "cell_type": "markdown",
   "metadata": {
    "id": "Pk7OEGaFRpHx"
   },
   "source": [
    "# **Datasets loading**"
   ]
  },
  {
   "cell_type": "code",
   "execution_count": 4,
   "metadata": {
    "colab": {
     "base_uri": "https://localhost:8080/",
     "height": 394
    },
    "executionInfo": {
     "elapsed": 22,
     "status": "error",
     "timestamp": 1686310884016,
     "user": {
      "displayName": "Ibrahima Barry",
      "userId": "00132945360445644191"
     },
     "user_tz": -120
    },
    "id": "2zNavW8eUubj",
    "outputId": "034725ba-31d1-41dc-a477-eeb1976aac54"
   },
   "outputs": [],
   "source": [
    "def data_loading(x):\n",
    "  train_path = myfolder + \"train_\"+ x +\".txt\"\n",
    "  test_path = myfolder + \"test_\"+ x +\".txt\"\n",
    "  rul_path = myfolder + \"RUL_\"+ x +\".txt\"\n",
    "  train = pd.read_csv(train_path, delim_whitespace=True, names=columnsNames)\n",
    "  test = pd.read_csv(test_path, delim_whitespace=True, names=columnsNames)\n",
    "  rul = pd.read_csv(rul_path, delim_whitespace=True, names=[\"RUL_FD\"])\n",
    "  return train, test, rul\n",
    "\n",
    "train_fd003, test_fd003, rul_fd003 = data_loading(\"FD003\")"
   ]
  },
  {
   "cell_type": "code",
   "execution_count": 5,
   "metadata": {
    "executionInfo": {
     "elapsed": 9,
     "status": "aborted",
     "timestamp": 1686310884488,
     "user": {
      "displayName": "Ibrahima Barry",
      "userId": "00132945360445644191"
     },
     "user_tz": -120
    },
    "id": "2D0p8HcQVpPu"
   },
   "outputs": [
    {
     "data": {
      "text/html": [
       "<div>\n",
       "<style scoped>\n",
       "    .dataframe tbody tr th:only-of-type {\n",
       "        vertical-align: middle;\n",
       "    }\n",
       "\n",
       "    .dataframe tbody tr th {\n",
       "        vertical-align: top;\n",
       "    }\n",
       "\n",
       "    .dataframe thead th {\n",
       "        text-align: right;\n",
       "    }\n",
       "</style>\n",
       "<table border=\"1\" class=\"dataframe\">\n",
       "  <thead>\n",
       "    <tr style=\"text-align: right;\">\n",
       "      <th></th>\n",
       "      <th>UnitNumber</th>\n",
       "      <th>TimeInCycles</th>\n",
       "      <th>OperSet1</th>\n",
       "      <th>OperSet2</th>\n",
       "      <th>OperSet3</th>\n",
       "      <th>SensorMes1</th>\n",
       "      <th>SensorMes2</th>\n",
       "      <th>SensorMes3</th>\n",
       "      <th>SensorMes4</th>\n",
       "      <th>SensorMes5</th>\n",
       "      <th>SensorMes6</th>\n",
       "      <th>SensorMes7</th>\n",
       "      <th>SensorMes8</th>\n",
       "      <th>SensorMes9</th>\n",
       "      <th>SensorMes10</th>\n",
       "      <th>SensorMes11</th>\n",
       "      <th>SensorMes12</th>\n",
       "      <th>SensorMes13</th>\n",
       "      <th>SensorMes14</th>\n",
       "      <th>SensorMes15</th>\n",
       "      <th>SensorMes16</th>\n",
       "      <th>SensorMes17</th>\n",
       "      <th>SensorMes18</th>\n",
       "      <th>SensorMes19</th>\n",
       "      <th>SensorMes20</th>\n",
       "      <th>SensorMes21</th>\n",
       "    </tr>\n",
       "  </thead>\n",
       "  <tbody>\n",
       "    <tr>\n",
       "      <th>0</th>\n",
       "      <td>1</td>\n",
       "      <td>1</td>\n",
       "      <td>-0.0005</td>\n",
       "      <td>0.0004</td>\n",
       "      <td>100.0</td>\n",
       "      <td>518.67</td>\n",
       "      <td>642.36</td>\n",
       "      <td>1583.23</td>\n",
       "      <td>1396.84</td>\n",
       "      <td>14.62</td>\n",
       "      <td>21.61</td>\n",
       "      <td>553.97</td>\n",
       "      <td>2387.96</td>\n",
       "      <td>9062.17</td>\n",
       "      <td>1.3</td>\n",
       "      <td>47.30</td>\n",
       "      <td>522.31</td>\n",
       "      <td>2388.01</td>\n",
       "      <td>8145.32</td>\n",
       "      <td>8.4246</td>\n",
       "      <td>0.03</td>\n",
       "      <td>391</td>\n",
       "      <td>2388</td>\n",
       "      <td>100.0</td>\n",
       "      <td>39.11</td>\n",
       "      <td>23.3537</td>\n",
       "    </tr>\n",
       "    <tr>\n",
       "      <th>1</th>\n",
       "      <td>1</td>\n",
       "      <td>2</td>\n",
       "      <td>0.0008</td>\n",
       "      <td>-0.0003</td>\n",
       "      <td>100.0</td>\n",
       "      <td>518.67</td>\n",
       "      <td>642.50</td>\n",
       "      <td>1584.69</td>\n",
       "      <td>1396.89</td>\n",
       "      <td>14.62</td>\n",
       "      <td>21.61</td>\n",
       "      <td>554.55</td>\n",
       "      <td>2388.00</td>\n",
       "      <td>9061.78</td>\n",
       "      <td>1.3</td>\n",
       "      <td>47.23</td>\n",
       "      <td>522.42</td>\n",
       "      <td>2388.03</td>\n",
       "      <td>8152.85</td>\n",
       "      <td>8.4403</td>\n",
       "      <td>0.03</td>\n",
       "      <td>392</td>\n",
       "      <td>2388</td>\n",
       "      <td>100.0</td>\n",
       "      <td>38.99</td>\n",
       "      <td>23.4491</td>\n",
       "    </tr>\n",
       "    <tr>\n",
       "      <th>2</th>\n",
       "      <td>1</td>\n",
       "      <td>3</td>\n",
       "      <td>-0.0014</td>\n",
       "      <td>-0.0002</td>\n",
       "      <td>100.0</td>\n",
       "      <td>518.67</td>\n",
       "      <td>642.18</td>\n",
       "      <td>1582.35</td>\n",
       "      <td>1405.61</td>\n",
       "      <td>14.62</td>\n",
       "      <td>21.61</td>\n",
       "      <td>554.43</td>\n",
       "      <td>2388.03</td>\n",
       "      <td>9070.23</td>\n",
       "      <td>1.3</td>\n",
       "      <td>47.22</td>\n",
       "      <td>522.03</td>\n",
       "      <td>2388.00</td>\n",
       "      <td>8150.17</td>\n",
       "      <td>8.3901</td>\n",
       "      <td>0.03</td>\n",
       "      <td>391</td>\n",
       "      <td>2388</td>\n",
       "      <td>100.0</td>\n",
       "      <td>38.85</td>\n",
       "      <td>23.3669</td>\n",
       "    </tr>\n",
       "  </tbody>\n",
       "</table>\n",
       "</div>"
      ],
      "text/plain": [
       "   UnitNumber  TimeInCycles  OperSet1  OperSet2  OperSet3  SensorMes1  \\\n",
       "0           1             1   -0.0005    0.0004     100.0      518.67   \n",
       "1           1             2    0.0008   -0.0003     100.0      518.67   \n",
       "2           1             3   -0.0014   -0.0002     100.0      518.67   \n",
       "\n",
       "   SensorMes2  SensorMes3  SensorMes4  SensorMes5  SensorMes6  SensorMes7  \\\n",
       "0      642.36     1583.23     1396.84       14.62       21.61      553.97   \n",
       "1      642.50     1584.69     1396.89       14.62       21.61      554.55   \n",
       "2      642.18     1582.35     1405.61       14.62       21.61      554.43   \n",
       "\n",
       "   SensorMes8  SensorMes9  SensorMes10  SensorMes11  SensorMes12  SensorMes13  \\\n",
       "0     2387.96     9062.17          1.3        47.30       522.31      2388.01   \n",
       "1     2388.00     9061.78          1.3        47.23       522.42      2388.03   \n",
       "2     2388.03     9070.23          1.3        47.22       522.03      2388.00   \n",
       "\n",
       "   SensorMes14  SensorMes15  SensorMes16  SensorMes17  SensorMes18  \\\n",
       "0      8145.32       8.4246         0.03          391         2388   \n",
       "1      8152.85       8.4403         0.03          392         2388   \n",
       "2      8150.17       8.3901         0.03          391         2388   \n",
       "\n",
       "   SensorMes19  SensorMes20  SensorMes21  \n",
       "0        100.0        39.11      23.3537  \n",
       "1        100.0        38.99      23.4491  \n",
       "2        100.0        38.85      23.3669  "
      ]
     },
     "execution_count": 5,
     "metadata": {},
     "output_type": "execute_result"
    }
   ],
   "source": [
    "# Forcer l'affichage de toutes les colonnes\n",
    "pd.set_option('display.max_columns', None)\n",
    "\n",
    "train_fd003.head(3)"
   ]
  },
  {
   "cell_type": "markdown",
   "metadata": {
    "id": "-iHEenEWSFa2"
   },
   "source": [
    "# **RUL column generation for train and test set**"
   ]
  },
  {
   "cell_type": "code",
   "execution_count": 7,
   "metadata": {
    "executionInfo": {
     "elapsed": 10,
     "status": "aborted",
     "timestamp": 1686310884490,
     "user": {
      "displayName": "Ibrahima Barry",
      "userId": "00132945360445644191"
     },
     "user_tz": -120
    },
    "id": "iQLmNp5STg3q"
   },
   "outputs": [],
   "source": [
    "def rul_train_generation(x):\n",
    "  rul = pd.DataFrame(x.groupby('UnitNumber')['TimeInCycles'].max()).reset_index()\n",
    "  rul.columns = ['UnitNumber', 'max']\n",
    "  x = x.merge(rul, on=['UnitNumber'], how='left')\n",
    "  x['RUL'] = x['max'] - x['TimeInCycles']\n",
    "  x.drop('max', axis=1, inplace=True)\n",
    "  return x\n",
    "\n",
    "train_fd003 = rul_train_generation(train_fd003)"
   ]
  },
  {
   "cell_type": "code",
   "execution_count": 9,
   "metadata": {
    "executionInfo": {
     "elapsed": 10,
     "status": "aborted",
     "timestamp": 1686310884490,
     "user": {
      "displayName": "Ibrahima Barry",
      "userId": "00132945360445644191"
     },
     "user_tz": -120
    },
    "id": "2b0ThgOYbOJq"
   },
   "outputs": [
    {
     "data": {
      "text/html": [
       "<div>\n",
       "<style scoped>\n",
       "    .dataframe tbody tr th:only-of-type {\n",
       "        vertical-align: middle;\n",
       "    }\n",
       "\n",
       "    .dataframe tbody tr th {\n",
       "        vertical-align: top;\n",
       "    }\n",
       "\n",
       "    .dataframe thead th {\n",
       "        text-align: right;\n",
       "    }\n",
       "</style>\n",
       "<table border=\"1\" class=\"dataframe\">\n",
       "  <thead>\n",
       "    <tr style=\"text-align: right;\">\n",
       "      <th></th>\n",
       "      <th>UnitNumber</th>\n",
       "      <th>TimeInCycles</th>\n",
       "      <th>OperSet1</th>\n",
       "      <th>OperSet2</th>\n",
       "      <th>OperSet3</th>\n",
       "      <th>SensorMes1</th>\n",
       "      <th>SensorMes2</th>\n",
       "      <th>SensorMes3</th>\n",
       "      <th>SensorMes4</th>\n",
       "      <th>SensorMes5</th>\n",
       "      <th>SensorMes6</th>\n",
       "      <th>SensorMes7</th>\n",
       "      <th>SensorMes8</th>\n",
       "      <th>SensorMes9</th>\n",
       "      <th>SensorMes10</th>\n",
       "      <th>SensorMes11</th>\n",
       "      <th>SensorMes12</th>\n",
       "      <th>SensorMes13</th>\n",
       "      <th>SensorMes14</th>\n",
       "      <th>SensorMes15</th>\n",
       "      <th>SensorMes16</th>\n",
       "      <th>SensorMes17</th>\n",
       "      <th>SensorMes18</th>\n",
       "      <th>SensorMes19</th>\n",
       "      <th>SensorMes20</th>\n",
       "      <th>SensorMes21</th>\n",
       "      <th>RUL</th>\n",
       "    </tr>\n",
       "  </thead>\n",
       "  <tbody>\n",
       "    <tr>\n",
       "      <th>0</th>\n",
       "      <td>1</td>\n",
       "      <td>1</td>\n",
       "      <td>-0.0005</td>\n",
       "      <td>0.0004</td>\n",
       "      <td>100.0</td>\n",
       "      <td>518.67</td>\n",
       "      <td>642.36</td>\n",
       "      <td>1583.23</td>\n",
       "      <td>1396.84</td>\n",
       "      <td>14.62</td>\n",
       "      <td>21.61</td>\n",
       "      <td>553.97</td>\n",
       "      <td>2387.96</td>\n",
       "      <td>9062.17</td>\n",
       "      <td>1.3</td>\n",
       "      <td>47.30</td>\n",
       "      <td>522.31</td>\n",
       "      <td>2388.01</td>\n",
       "      <td>8145.32</td>\n",
       "      <td>8.4246</td>\n",
       "      <td>0.03</td>\n",
       "      <td>391</td>\n",
       "      <td>2388</td>\n",
       "      <td>100.0</td>\n",
       "      <td>39.11</td>\n",
       "      <td>23.3537</td>\n",
       "      <td>258</td>\n",
       "    </tr>\n",
       "    <tr>\n",
       "      <th>1</th>\n",
       "      <td>1</td>\n",
       "      <td>2</td>\n",
       "      <td>0.0008</td>\n",
       "      <td>-0.0003</td>\n",
       "      <td>100.0</td>\n",
       "      <td>518.67</td>\n",
       "      <td>642.50</td>\n",
       "      <td>1584.69</td>\n",
       "      <td>1396.89</td>\n",
       "      <td>14.62</td>\n",
       "      <td>21.61</td>\n",
       "      <td>554.55</td>\n",
       "      <td>2388.00</td>\n",
       "      <td>9061.78</td>\n",
       "      <td>1.3</td>\n",
       "      <td>47.23</td>\n",
       "      <td>522.42</td>\n",
       "      <td>2388.03</td>\n",
       "      <td>8152.85</td>\n",
       "      <td>8.4403</td>\n",
       "      <td>0.03</td>\n",
       "      <td>392</td>\n",
       "      <td>2388</td>\n",
       "      <td>100.0</td>\n",
       "      <td>38.99</td>\n",
       "      <td>23.4491</td>\n",
       "      <td>257</td>\n",
       "    </tr>\n",
       "    <tr>\n",
       "      <th>2</th>\n",
       "      <td>1</td>\n",
       "      <td>3</td>\n",
       "      <td>-0.0014</td>\n",
       "      <td>-0.0002</td>\n",
       "      <td>100.0</td>\n",
       "      <td>518.67</td>\n",
       "      <td>642.18</td>\n",
       "      <td>1582.35</td>\n",
       "      <td>1405.61</td>\n",
       "      <td>14.62</td>\n",
       "      <td>21.61</td>\n",
       "      <td>554.43</td>\n",
       "      <td>2388.03</td>\n",
       "      <td>9070.23</td>\n",
       "      <td>1.3</td>\n",
       "      <td>47.22</td>\n",
       "      <td>522.03</td>\n",
       "      <td>2388.00</td>\n",
       "      <td>8150.17</td>\n",
       "      <td>8.3901</td>\n",
       "      <td>0.03</td>\n",
       "      <td>391</td>\n",
       "      <td>2388</td>\n",
       "      <td>100.0</td>\n",
       "      <td>38.85</td>\n",
       "      <td>23.3669</td>\n",
       "      <td>256</td>\n",
       "    </tr>\n",
       "  </tbody>\n",
       "</table>\n",
       "</div>"
      ],
      "text/plain": [
       "   UnitNumber  TimeInCycles  OperSet1  OperSet2  OperSet3  SensorMes1  \\\n",
       "0           1             1   -0.0005    0.0004     100.0      518.67   \n",
       "1           1             2    0.0008   -0.0003     100.0      518.67   \n",
       "2           1             3   -0.0014   -0.0002     100.0      518.67   \n",
       "\n",
       "   SensorMes2  SensorMes3  SensorMes4  SensorMes5  SensorMes6  SensorMes7  \\\n",
       "0      642.36     1583.23     1396.84       14.62       21.61      553.97   \n",
       "1      642.50     1584.69     1396.89       14.62       21.61      554.55   \n",
       "2      642.18     1582.35     1405.61       14.62       21.61      554.43   \n",
       "\n",
       "   SensorMes8  SensorMes9  SensorMes10  SensorMes11  SensorMes12  SensorMes13  \\\n",
       "0     2387.96     9062.17          1.3        47.30       522.31      2388.01   \n",
       "1     2388.00     9061.78          1.3        47.23       522.42      2388.03   \n",
       "2     2388.03     9070.23          1.3        47.22       522.03      2388.00   \n",
       "\n",
       "   SensorMes14  SensorMes15  SensorMes16  SensorMes17  SensorMes18  \\\n",
       "0      8145.32       8.4246         0.03          391         2388   \n",
       "1      8152.85       8.4403         0.03          392         2388   \n",
       "2      8150.17       8.3901         0.03          391         2388   \n",
       "\n",
       "   SensorMes19  SensorMes20  SensorMes21  RUL  \n",
       "0        100.0        39.11      23.3537  258  \n",
       "1        100.0        38.99      23.4491  257  \n",
       "2        100.0        38.85      23.3669  256  "
      ]
     },
     "execution_count": 9,
     "metadata": {},
     "output_type": "execute_result"
    }
   ],
   "source": [
    "train_fd003.head(3)"
   ]
  },
  {
   "cell_type": "code",
   "execution_count": 10,
   "metadata": {
    "executionInfo": {
     "elapsed": 11,
     "status": "aborted",
     "timestamp": 1686310884491,
     "user": {
      "displayName": "Ibrahima Barry",
      "userId": "00132945360445644191"
     },
     "user_tz": -120
    },
    "id": "SO9r-mpZXPjO"
   },
   "outputs": [],
   "source": [
    "def rul_test_generation(x, rul):\n",
    "\n",
    "  rul[\"UnitNumber\"] = rul.index + 1 # +1 pour que UnitNumber demarre de 1 au lieu de 0, car il s'agit du numero des moteur\n",
    "\n",
    "  x = x.merge(rul, on=['UnitNumber'], how='left')\n",
    "\n",
    "  max_cycle = pd.DataFrame(x.groupby('UnitNumber')['TimeInCycles'].max()).reset_index()\n",
    "  max_cycle.columns = ['UnitNumber', 'max']\n",
    "  x = x.merge(max_cycle, on=['UnitNumber'], how='left')\n",
    "  x['RUL'] = x['RUL_FD'] + x['max'] - x['TimeInCycles']\n",
    "  x.drop(['max', 'RUL_FD'], axis=1, inplace=True)\n",
    "\n",
    "  return x\n",
    "\n",
    "test_fd003 = rul_test_generation(test_fd003, rul_fd003)"
   ]
  },
  {
   "cell_type": "code",
   "execution_count": 12,
   "metadata": {
    "executionInfo": {
     "elapsed": 14,
     "status": "aborted",
     "timestamp": 1686310884494,
     "user": {
      "displayName": "Ibrahima Barry",
      "userId": "00132945360445644191"
     },
     "user_tz": -120
    },
    "id": "UsgIhGIrbbGe"
   },
   "outputs": [
    {
     "data": {
      "text/html": [
       "<div>\n",
       "<style scoped>\n",
       "    .dataframe tbody tr th:only-of-type {\n",
       "        vertical-align: middle;\n",
       "    }\n",
       "\n",
       "    .dataframe tbody tr th {\n",
       "        vertical-align: top;\n",
       "    }\n",
       "\n",
       "    .dataframe thead th {\n",
       "        text-align: right;\n",
       "    }\n",
       "</style>\n",
       "<table border=\"1\" class=\"dataframe\">\n",
       "  <thead>\n",
       "    <tr style=\"text-align: right;\">\n",
       "      <th></th>\n",
       "      <th>UnitNumber</th>\n",
       "      <th>TimeInCycles</th>\n",
       "      <th>OperSet1</th>\n",
       "      <th>OperSet2</th>\n",
       "      <th>OperSet3</th>\n",
       "      <th>SensorMes1</th>\n",
       "      <th>SensorMes2</th>\n",
       "      <th>SensorMes3</th>\n",
       "      <th>SensorMes4</th>\n",
       "      <th>SensorMes5</th>\n",
       "      <th>SensorMes6</th>\n",
       "      <th>SensorMes7</th>\n",
       "      <th>SensorMes8</th>\n",
       "      <th>SensorMes9</th>\n",
       "      <th>SensorMes10</th>\n",
       "      <th>SensorMes11</th>\n",
       "      <th>SensorMes12</th>\n",
       "      <th>SensorMes13</th>\n",
       "      <th>SensorMes14</th>\n",
       "      <th>SensorMes15</th>\n",
       "      <th>SensorMes16</th>\n",
       "      <th>SensorMes17</th>\n",
       "      <th>SensorMes18</th>\n",
       "      <th>SensorMes19</th>\n",
       "      <th>SensorMes20</th>\n",
       "      <th>SensorMes21</th>\n",
       "      <th>RUL</th>\n",
       "    </tr>\n",
       "  </thead>\n",
       "  <tbody>\n",
       "    <tr>\n",
       "      <th>0</th>\n",
       "      <td>1</td>\n",
       "      <td>1</td>\n",
       "      <td>-0.0017</td>\n",
       "      <td>-0.0004</td>\n",
       "      <td>100.0</td>\n",
       "      <td>518.67</td>\n",
       "      <td>641.94</td>\n",
       "      <td>1581.93</td>\n",
       "      <td>1396.93</td>\n",
       "      <td>14.62</td>\n",
       "      <td>21.58</td>\n",
       "      <td>554.56</td>\n",
       "      <td>2387.93</td>\n",
       "      <td>9048.65</td>\n",
       "      <td>1.3</td>\n",
       "      <td>47.09</td>\n",
       "      <td>521.89</td>\n",
       "      <td>2387.94</td>\n",
       "      <td>8133.48</td>\n",
       "      <td>8.3760</td>\n",
       "      <td>0.03</td>\n",
       "      <td>391</td>\n",
       "      <td>2388</td>\n",
       "      <td>100.0</td>\n",
       "      <td>39.07</td>\n",
       "      <td>23.4468</td>\n",
       "      <td>276</td>\n",
       "    </tr>\n",
       "    <tr>\n",
       "      <th>1</th>\n",
       "      <td>1</td>\n",
       "      <td>2</td>\n",
       "      <td>0.0006</td>\n",
       "      <td>-0.0002</td>\n",
       "      <td>100.0</td>\n",
       "      <td>518.67</td>\n",
       "      <td>642.02</td>\n",
       "      <td>1584.86</td>\n",
       "      <td>1398.90</td>\n",
       "      <td>14.62</td>\n",
       "      <td>21.58</td>\n",
       "      <td>554.10</td>\n",
       "      <td>2387.94</td>\n",
       "      <td>9046.53</td>\n",
       "      <td>1.3</td>\n",
       "      <td>47.08</td>\n",
       "      <td>521.85</td>\n",
       "      <td>2388.01</td>\n",
       "      <td>8137.44</td>\n",
       "      <td>8.4062</td>\n",
       "      <td>0.03</td>\n",
       "      <td>391</td>\n",
       "      <td>2388</td>\n",
       "      <td>100.0</td>\n",
       "      <td>39.04</td>\n",
       "      <td>23.4807</td>\n",
       "      <td>275</td>\n",
       "    </tr>\n",
       "    <tr>\n",
       "      <th>2</th>\n",
       "      <td>1</td>\n",
       "      <td>3</td>\n",
       "      <td>0.0014</td>\n",
       "      <td>-0.0003</td>\n",
       "      <td>100.0</td>\n",
       "      <td>518.67</td>\n",
       "      <td>641.68</td>\n",
       "      <td>1581.78</td>\n",
       "      <td>1391.92</td>\n",
       "      <td>14.62</td>\n",
       "      <td>21.58</td>\n",
       "      <td>554.41</td>\n",
       "      <td>2387.97</td>\n",
       "      <td>9054.92</td>\n",
       "      <td>1.3</td>\n",
       "      <td>47.15</td>\n",
       "      <td>522.10</td>\n",
       "      <td>2387.94</td>\n",
       "      <td>8138.25</td>\n",
       "      <td>8.3553</td>\n",
       "      <td>0.03</td>\n",
       "      <td>391</td>\n",
       "      <td>2388</td>\n",
       "      <td>100.0</td>\n",
       "      <td>39.10</td>\n",
       "      <td>23.4244</td>\n",
       "      <td>274</td>\n",
       "    </tr>\n",
       "  </tbody>\n",
       "</table>\n",
       "</div>"
      ],
      "text/plain": [
       "   UnitNumber  TimeInCycles  OperSet1  OperSet2  OperSet3  SensorMes1  \\\n",
       "0           1             1   -0.0017   -0.0004     100.0      518.67   \n",
       "1           1             2    0.0006   -0.0002     100.0      518.67   \n",
       "2           1             3    0.0014   -0.0003     100.0      518.67   \n",
       "\n",
       "   SensorMes2  SensorMes3  SensorMes4  SensorMes5  SensorMes6  SensorMes7  \\\n",
       "0      641.94     1581.93     1396.93       14.62       21.58      554.56   \n",
       "1      642.02     1584.86     1398.90       14.62       21.58      554.10   \n",
       "2      641.68     1581.78     1391.92       14.62       21.58      554.41   \n",
       "\n",
       "   SensorMes8  SensorMes9  SensorMes10  SensorMes11  SensorMes12  SensorMes13  \\\n",
       "0     2387.93     9048.65          1.3        47.09       521.89      2387.94   \n",
       "1     2387.94     9046.53          1.3        47.08       521.85      2388.01   \n",
       "2     2387.97     9054.92          1.3        47.15       522.10      2387.94   \n",
       "\n",
       "   SensorMes14  SensorMes15  SensorMes16  SensorMes17  SensorMes18  \\\n",
       "0      8133.48       8.3760         0.03          391         2388   \n",
       "1      8137.44       8.4062         0.03          391         2388   \n",
       "2      8138.25       8.3553         0.03          391         2388   \n",
       "\n",
       "   SensorMes19  SensorMes20  SensorMes21  RUL  \n",
       "0        100.0        39.07      23.4468  276  \n",
       "1        100.0        39.04      23.4807  275  \n",
       "2        100.0        39.10      23.4244  274  "
      ]
     },
     "execution_count": 12,
     "metadata": {},
     "output_type": "execute_result"
    }
   ],
   "source": [
    "test_fd003.head(3)"
   ]
  },
  {
   "cell_type": "markdown",
   "metadata": {
    "id": "L8m9gYB3Q7Hk"
   },
   "source": [
    "# **RANDOM SAMPLE SELECTION**"
   ]
  },
  {
   "cell_type": "code",
   "execution_count": 13,
   "metadata": {
    "executionInfo": {
     "elapsed": 15,
     "status": "aborted",
     "timestamp": 1686310884495,
     "user": {
      "displayName": "Ibrahima Barry",
      "userId": "00132945360445644191"
     },
     "user_tz": -120
    },
    "id": "U-YzlssEQ7Hl"
   },
   "outputs": [
    {
     "data": {
      "text/plain": [
       "\"element_counts = test_fd002[test_fd002['UnitNumber']==1]\\nlen(element_counts)\""
      ]
     },
     "execution_count": 13,
     "metadata": {},
     "output_type": "execute_result"
    }
   ],
   "source": [
    "'''element_counts = test_fd002[test_fd002['UnitNumber']==1]\n",
    "len(element_counts)'''"
   ]
  },
  {
   "cell_type": "code",
   "execution_count": 14,
   "metadata": {
    "executionInfo": {
     "elapsed": 15,
     "status": "aborted",
     "timestamp": 1686310884496,
     "user": {
      "displayName": "Ibrahima Barry",
      "userId": "00132945360445644191"
     },
     "user_tz": -120
    },
    "id": "3ogEKLWfQ7Hm"
   },
   "outputs": [],
   "source": [
    "import random\n",
    "\n",
    "def selection_aleatoire(df, sample_size, rand_state):\n",
    "    unique_values = df[\"UnitNumber\"].unique()\n",
    "    selected_rows = []\n",
    "    for value in unique_values:\n",
    "        rows = df[df[\"UnitNumber\"] == value]\n",
    "        if len(rows) < sample_size : # si la taille de l'echantillon donnée est superieur au nombre total de ligne pour un moteur, reinitialiser la valeur\n",
    "            sample_size = len(rows)\n",
    "        random_sample = rows.sample(n=sample_size, random_state = rand_state)  # Sélectionne 50 lignes aléatoires\n",
    "        selected_rows.append(random_sample)\n",
    "    result = pd.concat(selected_rows)\n",
    "    return result"
   ]
  },
  {
   "cell_type": "markdown",
   "metadata": {
    "id": "phZTpM6fQ7Hm"
   },
   "source": [
    "# **Data normalization**"
   ]
  },
  {
   "cell_type": "code",
   "execution_count": 15,
   "metadata": {
    "executionInfo": {
     "elapsed": 17,
     "status": "aborted",
     "timestamp": 1686310884498,
     "user": {
      "displayName": "Ibrahima Barry",
      "userId": "00132945360445644191"
     },
     "user_tz": -120
    },
    "id": "_NZIBGyfZAdU"
   },
   "outputs": [],
   "source": [
    "def normalised_df(train, test):\n",
    "\n",
    "  from sklearn.preprocessing import MinMaxScaler\n",
    "\n",
    "  # Instancier l'objet MinMaxScaler pour normaliser les données\n",
    "  scaler = MinMaxScaler()\n",
    "\n",
    "  # Normaliser train\n",
    "  train_scaled = scaler.fit_transform(train)\n",
    "  train_df = pd.DataFrame(train_scaled)\n",
    "\n",
    "  # Normaliser test\n",
    "  test_scaled = scaler.fit_transform(test)\n",
    "  test_df = pd.DataFrame(test_scaled)\n",
    "\n",
    "\n",
    "  train_df.columns = train.columns\n",
    "  test_df.columns = test.columns\n",
    "    \n",
    "  return train_df, test_df"
   ]
  },
  {
   "cell_type": "markdown",
   "metadata": {
    "id": "saXzvQieSZi7"
   },
   "source": [
    "# **Data splitting**"
   ]
  },
  {
   "cell_type": "code",
   "execution_count": 16,
   "metadata": {
    "executionInfo": {
     "elapsed": 19,
     "status": "aborted",
     "timestamp": 1686310884500,
     "user": {
      "displayName": "Ibrahima Barry",
      "userId": "00132945360445644191"
     },
     "user_tz": -120
    },
    "id": "lZWWDPa-QZ6A"
   },
   "outputs": [],
   "source": [
    "def data_split(train, test):\n",
    "\n",
    "  # data split\n",
    "  X_train = train.drop('RUL', axis=1)\n",
    "  Y_train = train['RUL']\n",
    "  X_test = test.drop('RUL', axis=1)\n",
    "  Y_test = test['RUL']\n",
    "    \n",
    "  return X_train, Y_train, X_test, Y_test\n"
   ]
  },
  {
   "cell_type": "markdown",
   "metadata": {
    "id": "6ME9D2ueVxeT"
   },
   "source": [
    "# **The KNN Regressor model**"
   ]
  },
  {
   "cell_type": "code",
   "execution_count": 17,
   "metadata": {
    "executionInfo": {
     "elapsed": 276,
     "status": "ok",
     "timestamp": 1686310892646,
     "user": {
      "displayName": "Ibrahima Barry",
      "userId": "00132945360445644191"
     },
     "user_tz": -120
    },
    "id": "ulZGXcj_Oold"
   },
   "outputs": [],
   "source": [
    "import time\n",
    "\n",
    "def my_knn_regressor(x, y):\n",
    "\n",
    "    # Time tracking, Operation time (min)\n",
    "    t = time.process_time()\n",
    "\n",
    "\n",
    "    mse_test_list = []\n",
    "    rmse_test_list = []\n",
    "    mae_test_list = []\n",
    "    mape_test_list = []\n",
    "    \n",
    "    \n",
    "    for j in range(1, 11):\n",
    "        train_selected = selection_aleatoire(x, 50, j)\n",
    "        test_selected = selection_aleatoire(y, 25, j)\n",
    "\n",
    "        normalized_train_df, normalized_test_df =  normalised_df(train_selected, test_selected)\n",
    "\n",
    "        X_train, Y_train, X_test, Y_test = data_split(normalized_train_df, normalized_test_df)\n",
    "\n",
    "        # Créer le modèle XGBoost Regressor\n",
    "        model = XGBRegressor()\n",
    "\n",
    "        # Définir les paramètres à tester dans la recherche par grille\n",
    "        param_grid = {\n",
    "            'n_estimators': [100, 500, 1000],\n",
    "            'max_depth': [3, 5, 7],\n",
    "            'learning_rate': [0.01, 0.1, 0.3], #np.logspace(-3,-1,10)\n",
    "            'subsample': [0.5, 0.7, 0.9],\n",
    "            'colsample_bytree': [0.5, 0.7, 0.9],\n",
    "            }\n",
    "\n",
    "        # Créer l'objet GridSearchCV\n",
    "        grid_search = GridSearchCV(model, param_grid, cv=5, scoring='neg_mean_squared_error')\n",
    "\n",
    "        # Effectuer la recherche par grille sur les données d'entraînement\n",
    "        grid_search.fit(X_train, Y_train)\n",
    "\n",
    "        # Afficher les meilleurs paramètres trouvés\n",
    "        print(\"Meilleurs paramètres trouvés :\")\n",
    "        print(grid_search.best_params_)\n",
    "        \n",
    "        # Créer l'objet GridSearchCV\n",
    "        grid_search = GridSearchCV(model, param_grid, cv=5, scoring='neg_mean_squared_error')\n",
    "\n",
    "        # Effectuer la recherche par grille sur les données d'entraînement\n",
    "        grid_search.fit(X_train, Y_train)\n",
    "\n",
    "        print(\"\\n***********************TOUR No \",j,\"/10:************************\")\n",
    "\n",
    "        # Afficher les meilleurs paramètres trouvés\n",
    "        print(\"Meilleurs paramètres trouvés :\")\n",
    "        print(grid_search.best_params_)\n",
    "\n",
    "        '''#-------------Train---------------------\n",
    "        # Prédire les valeurs en utilisant le modèle KNN Regressor pour les données Train\n",
    "        y_pred_train = grid_search.predict(X_train)\n",
    "        # Afficher l'erreur quadratique moyenne et le coefficient de détermination R2\n",
    "        mse_train = mean_squared_error(Y_train, y_pred_train)\n",
    "        rmse_train = np.sqrt(mse_train)\n",
    "        print('Train:==========================================================')\n",
    "        print('MSE : ',mse_train * 100,'%')\n",
    "        print('RMSE : ',rmse_train * 100,'%')'''\n",
    "\n",
    "        #-------------Test---------------------\n",
    "        # Prédire les valeurs en utilisant le modèle KNN Regressor pour les données Test\n",
    "        y_pred_test = grid_search.predict(X_test)\n",
    "        # Afficher l'erreur quadratique moyenne et le coefficient de détermination R2\n",
    "        mse_test = mean_squared_error(Y_test, y_pred_test)\n",
    "        rmse_test = np.sqrt(mse_test)\n",
    "        mae_test = mean_absolute_error(Y_test, y_pred_test)\n",
    "        mape_test = np.mean(np.abs((Y_test - y_pred_test) / Y_test)) * 100\n",
    "\n",
    "        print('\\n=============================Test=============================')\n",
    "        print('MSE : ',mse_test * 100,'%')\n",
    "        print('RMSE : ',rmse_test * 100,'%')\n",
    "        print('MAE : ',mae_test * 100,'%')\n",
    "        print('MAPE : ',mape_test,'%')\n",
    "\n",
    "        #score\n",
    "        '''train_rmse_list.append(mse_train)'''\n",
    "        mse_test_list.append(mse_test)\n",
    "        rmse_test_list.append(rmse_test)\n",
    "        mae_test_list.append(mae_test)\n",
    "        mape_test_list.append(mape_test)\n",
    "        \n",
    "        \n",
    "        print(\"++++++++++++++++++++++++++++++++++++++++++++++++++++++++++++\")\n",
    "        print(\"time: \" , (time.process_time()-t)/60,\"min\")\n",
    "        print('')\n",
    "\n",
    "    print(\"\\n\\n++++++++++++++++++++++++++++++++++++++++++++++++++++++++++++\")\n",
    "    print(\"Total time: \" , (time.process_time()-t)/60,\"min\")\n",
    "                              \n",
    "    print('All MSE: ',mse_test_list)\n",
    "    print('\\n\\nmean MSE', np.mean(mse_test_list), \" == \",np.mean(mse_test_list)*100,\"%\\n\\n\")\n",
    "    \n",
    "    print('All RMSE: ',rmse_test_list)\n",
    "    print('\\n\\n******************************************************************************************')\n",
    "    print('******************************************************************************************')\n",
    "    print('***************** mean RMSE', np.mean(rmse_test_list), \" ==> \",np.mean(rmse_test_list)*100,\"% *****************\")\n",
    "    print('******************************************************************************************')\n",
    "    print('******************************************************************************************\\n\\n')\n",
    "\n",
    "\n",
    "    print('mean MAE : ', np.mean(mae_test_list) * 100,'%')\n",
    "    print('mean MAPE : ', np.mean(mape_test_list),'%')"
   ]
  },
  {
   "cell_type": "code",
   "execution_count": null,
   "metadata": {
    "colab": {
     "base_uri": "https://localhost:8080/",
     "height": 171
    },
    "executionInfo": {
     "elapsed": 1151,
     "status": "error",
     "timestamp": 1686310899778,
     "user": {
      "displayName": "Ibrahima Barry",
      "userId": "00132945360445644191"
     },
     "user_tz": -120
    },
    "id": "TvUvhxftT-qq",
    "outputId": "9d108171-21cb-4e8c-d6cc-8b4dfc35f503",
    "scrolled": true
   },
   "outputs": [],
   "source": [
    "my_knn_regressor(train_fd003, test_fd003)"
   ]
  },
  {
   "cell_type": "code",
   "execution_count": null,
   "metadata": {},
   "outputs": [],
   "source": []
  }
 ],
 "metadata": {
  "colab": {
   "provenance": []
  },
  "gpuClass": "standard",
  "kernelspec": {
   "display_name": "Python 3 (ipykernel)",
   "language": "python",
   "name": "python3"
  },
  "language_info": {
   "codemirror_mode": {
    "name": "ipython",
    "version": 3
   },
   "file_extension": ".py",
   "mimetype": "text/x-python",
   "name": "python",
   "nbconvert_exporter": "python",
   "pygments_lexer": "ipython3",
   "version": "3.10.9"
  }
 },
 "nbformat": 4,
 "nbformat_minor": 1
}
